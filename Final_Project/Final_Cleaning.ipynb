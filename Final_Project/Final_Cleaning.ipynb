{
  "nbformat": 4,
  "nbformat_minor": 0,
  "metadata": {
    "colab": {
      "name": "Final_Cleaning.ipynb",
      "provenance": [],
      "collapsed_sections": []
    },
    "kernelspec": {
      "name": "python3",
      "display_name": "Python 3"
    },
    "language_info": {
      "name": "python"
    }
  },
  "cells": [
    {
      "cell_type": "code",
      "metadata": {
        "id": "lazscR2rjueU",
        "colab": {
          "base_uri": "https://localhost:8080/"
        },
        "outputId": "37d1dd84-17a5-405e-9c2b-0d683f40b8d6"
      },
      "source": [
        "import warnings\n",
        "warnings.simplefilter(\"ignore\")\n",
        "import numpy as np\n",
        "import pandas as pd\n",
        "import seaborn as sns\n",
        "import matplotlib.pyplot as plt\n",
        "plt.style.use('ggplot')\n",
        "%matplotlib inline\n",
        "from datetime import datetime \n",
        "import time \n",
        "import csv\n",
        "import os \n",
        "from google.colab import drive\n",
        "drive.mount('/content/drive')"
      ],
      "execution_count": null,
      "outputs": [
        {
          "output_type": "stream",
          "name": "stdout",
          "text": [
            "Mounted at /content/drive\n"
          ]
        }
      ]
    },
    {
      "cell_type": "markdown",
      "metadata": {
        "id": "sWBI3SCenABL"
      },
      "source": [
        "School Characteristics NCES - school year 2018-2019"
      ]
    },
    {
      "cell_type": "code",
      "metadata": {
        "id": "eQRDZc1Ajwpi"
      },
      "source": [
        "url = \"https://data-nces.opendata.arcgis.com/datasets/146f28635d01435e978c6d2d5ccf6ea9_0.csv?outSR=%7B%22latestWkid%22%3A3857%2C%22wkid%22%3A102100%7D\"\n",
        "data = pd.read_csv(url, sep=\",\")\n",
        "\n",
        "data = data[['NCESSCH', 'TITLEI', 'LEAID','G12','SCHOOL_LEVEL','TOTFRL','SCHOOL_TYPE_TEXT','FTE','STUTERATIO','TOTMENROL','TOTFENROL']].reset_index(drop=True)"
      ],
      "execution_count": null,
      "outputs": []
    },
    {
      "cell_type": "markdown",
      "metadata": {
        "id": "iw02OmwmxXgw"
      },
      "source": [
        "Data is filtered to High school level. 3 new columns for percentage of male/female/free lunch."
      ]
    },
    {
      "cell_type": "code",
      "metadata": {
        "colab": {
          "base_uri": "https://localhost:8080/",
          "height": 206
        },
        "id": "E3hZLbrxjwnt",
        "outputId": "c4deb831-c0df-4cac-c65d-020d324aa1fd"
      },
      "source": [
        "data = data.loc[data['SCHOOL_LEVEL'] =='High']\n",
        "data[\"PCT_MEN\"] = (abs(data['TOTMENROL'])/((abs(data['TOTMENROL']))+(abs(data['TOTFENROL']))))\n",
        "data[\"PCT_FEN\"] = (abs(data['TOTFENROL'])/((abs(data['TOTFENROL']))+(abs(data['TOTMENROL']))))\n",
        "data[\"PCT_FRL\"] = (abs(data['TOTFRL'])/((abs(data['TOTFENROL']))+(abs(data['TOTMENROL']))))\n",
        "data.head(5)"
      ],
      "execution_count": null,
      "outputs": [
        {
          "output_type": "execute_result",
          "data": {
            "text/html": [
              "<div>\n",
              "<style scoped>\n",
              "    .dataframe tbody tr th:only-of-type {\n",
              "        vertical-align: middle;\n",
              "    }\n",
              "\n",
              "    .dataframe tbody tr th {\n",
              "        vertical-align: top;\n",
              "    }\n",
              "\n",
              "    .dataframe thead th {\n",
              "        text-align: right;\n",
              "    }\n",
              "</style>\n",
              "<table border=\"1\" class=\"dataframe\">\n",
              "  <thead>\n",
              "    <tr style=\"text-align: right;\">\n",
              "      <th></th>\n",
              "      <th>NCESSCH</th>\n",
              "      <th>TITLEI</th>\n",
              "      <th>LEAID</th>\n",
              "      <th>G12</th>\n",
              "      <th>SCHOOL_LEVEL</th>\n",
              "      <th>TOTFRL</th>\n",
              "      <th>SCHOOL_TYPE_TEXT</th>\n",
              "      <th>FTE</th>\n",
              "      <th>STUTERATIO</th>\n",
              "      <th>TOTMENROL</th>\n",
              "      <th>TOTFENROL</th>\n",
              "      <th>PCT_MEN</th>\n",
              "      <th>PCT_FEN</th>\n",
              "      <th>PCT_FRL</th>\n",
              "    </tr>\n",
              "  </thead>\n",
              "  <tbody>\n",
              "    <tr>\n",
              "      <th>1</th>\n",
              "      <td>20061000470</td>\n",
              "      <td>1-Yes</td>\n",
              "      <td>200610</td>\n",
              "      <td>29.0</td>\n",
              "      <td>High</td>\n",
              "      <td>16</td>\n",
              "      <td>Alternative/other school</td>\n",
              "      <td>3.700000</td>\n",
              "      <td>11.1</td>\n",
              "      <td>25.0</td>\n",
              "      <td>16.0</td>\n",
              "      <td>0.609756</td>\n",
              "      <td>0.390244</td>\n",
              "      <td>0.390244</td>\n",
              "    </tr>\n",
              "    <tr>\n",
              "      <th>4</th>\n",
              "      <td>20039000513</td>\n",
              "      <td>1-Yes</td>\n",
              "      <td>200390</td>\n",
              "      <td>3.0</td>\n",
              "      <td>High</td>\n",
              "      <td>3</td>\n",
              "      <td>Alternative/other school</td>\n",
              "      <td>1.000000</td>\n",
              "      <td>9.0</td>\n",
              "      <td>7.0</td>\n",
              "      <td>2.0</td>\n",
              "      <td>0.777778</td>\n",
              "      <td>0.222222</td>\n",
              "      <td>0.333333</td>\n",
              "    </tr>\n",
              "    <tr>\n",
              "      <th>15</th>\n",
              "      <td>20072000661</td>\n",
              "      <td>1-Yes</td>\n",
              "      <td>200720</td>\n",
              "      <td>34.0</td>\n",
              "      <td>High</td>\n",
              "      <td>33</td>\n",
              "      <td>Regular school</td>\n",
              "      <td>14.400000</td>\n",
              "      <td>13.1</td>\n",
              "      <td>95.0</td>\n",
              "      <td>93.0</td>\n",
              "      <td>0.505319</td>\n",
              "      <td>0.494681</td>\n",
              "      <td>0.175532</td>\n",
              "    </tr>\n",
              "    <tr>\n",
              "      <th>18</th>\n",
              "      <td>20000100208</td>\n",
              "      <td>1-Yes</td>\n",
              "      <td>200001</td>\n",
              "      <td>61.0</td>\n",
              "      <td>High</td>\n",
              "      <td>393</td>\n",
              "      <td>Regular school</td>\n",
              "      <td>34.970001</td>\n",
              "      <td>14.1</td>\n",
              "      <td>259.0</td>\n",
              "      <td>235.0</td>\n",
              "      <td>0.524291</td>\n",
              "      <td>0.475709</td>\n",
              "      <td>0.795547</td>\n",
              "    </tr>\n",
              "    <tr>\n",
              "      <th>26</th>\n",
              "      <td>20000100318</td>\n",
              "      <td>1-Yes</td>\n",
              "      <td>200001</td>\n",
              "      <td>22.0</td>\n",
              "      <td>High</td>\n",
              "      <td>3</td>\n",
              "      <td>Alternative/other school</td>\n",
              "      <td>7.800000</td>\n",
              "      <td>7.7</td>\n",
              "      <td>30.0</td>\n",
              "      <td>30.0</td>\n",
              "      <td>0.500000</td>\n",
              "      <td>0.500000</td>\n",
              "      <td>0.050000</td>\n",
              "    </tr>\n",
              "  </tbody>\n",
              "</table>\n",
              "</div>"
            ],
            "text/plain": [
              "        NCESSCH TITLEI   LEAID   G12  ... TOTFENROL   PCT_MEN   PCT_FEN   PCT_FRL\n",
              "1   20061000470  1-Yes  200610  29.0  ...      16.0  0.609756  0.390244  0.390244\n",
              "4   20039000513  1-Yes  200390   3.0  ...       2.0  0.777778  0.222222  0.333333\n",
              "15  20072000661  1-Yes  200720  34.0  ...      93.0  0.505319  0.494681  0.175532\n",
              "18  20000100208  1-Yes  200001  61.0  ...     235.0  0.524291  0.475709  0.795547\n",
              "26  20000100318  1-Yes  200001  22.0  ...      30.0  0.500000  0.500000  0.050000\n",
              "\n",
              "[5 rows x 14 columns]"
            ]
          },
          "metadata": {},
          "execution_count": 3
        }
      ]
    },
    {
      "cell_type": "code",
      "metadata": {
        "colab": {
          "base_uri": "https://localhost:8080/"
        },
        "id": "tpy7r-uHnwhi",
        "outputId": "8728fa94-ba32-4173-db3a-5e1fcea45e1a"
      },
      "source": [
        "data.info()"
      ],
      "execution_count": null,
      "outputs": [
        {
          "output_type": "stream",
          "name": "stdout",
          "text": [
            "<class 'pandas.core.frame.DataFrame'>\n",
            "Int64Index: 23243 entries, 1 to 100676\n",
            "Data columns (total 14 columns):\n",
            " #   Column            Non-Null Count  Dtype  \n",
            "---  ------            --------------  -----  \n",
            " 0   NCESSCH           23243 non-null  int64  \n",
            " 1   TITLEI            23243 non-null  object \n",
            " 2   LEAID             23243 non-null  int64  \n",
            " 3   G12               23068 non-null  float64\n",
            " 4   SCHOOL_LEVEL      23243 non-null  object \n",
            " 5   TOTFRL            23243 non-null  int64  \n",
            " 6   SCHOOL_TYPE_TEXT  23243 non-null  object \n",
            " 7   FTE               22092 non-null  float64\n",
            " 8   STUTERATIO        21432 non-null  float64\n",
            " 9   TOTMENROL         23054 non-null  float64\n",
            " 10  TOTFENROL         23030 non-null  float64\n",
            " 11  PCT_MEN           21650 non-null  float64\n",
            " 12  PCT_FEN           21650 non-null  float64\n",
            " 13  PCT_FRL           22926 non-null  float64\n",
            "dtypes: float64(8), int64(3), object(3)\n",
            "memory usage: 2.7+ MB\n"
          ]
        }
      ]
    },
    {
      "cell_type": "code",
      "metadata": {
        "colab": {
          "base_uri": "https://localhost:8080/"
        },
        "id": "7IEgEP_Hc4Hf",
        "outputId": "523545d4-47da-4969-d3ef-71f019781520"
      },
      "source": [
        "data['NCESSCH'].nunique()"
      ],
      "execution_count": null,
      "outputs": [
        {
          "output_type": "execute_result",
          "data": {
            "text/plain": [
              "23243"
            ]
          },
          "metadata": {},
          "execution_count": 5
        }
      ]
    },
    {
      "cell_type": "code",
      "metadata": {
        "id": "k0ugqWqwIZ7l"
      },
      "source": [
        "data['TITLEI'] = data['TITLEI'].replace('\\d+', '', regex=True)\n",
        "data['TITLEI'] = data['TITLEI'].replace('-', '', regex=True)"
      ],
      "execution_count": null,
      "outputs": []
    },
    {
      "cell_type": "code",
      "metadata": {
        "colab": {
          "base_uri": "https://localhost:8080/"
        },
        "id": "zZVBofG9nugA",
        "outputId": "aa788afa-ec4f-427b-bc3e-fe1778772c01"
      },
      "source": [
        "data['TITLEI'].unique()"
      ],
      "execution_count": null,
      "outputs": [
        {
          "output_type": "execute_result",
          "data": {
            "text/plain": [
              "array(['Yes', 'Not Applicable', 'Missing'], dtype=object)"
            ]
          },
          "metadata": {},
          "execution_count": 7
        }
      ]
    },
    {
      "cell_type": "markdown",
      "metadata": {
        "id": "4s7NjXCsxx9c"
      },
      "source": [
        "School type map using dictionary - Regular is 1 and the others are 0"
      ]
    },
    {
      "cell_type": "code",
      "metadata": {
        "id": "aSRpM1CLjwkK"
      },
      "source": [
        "SCHOOL_TYPE ={'Alternative/other school':0, 'Regular school':1, 'Vocational school':0,\n",
        "       'Special education school':0}\n",
        "\n",
        "data['SCHOOL_TYPE']=data['SCHOOL_TYPE_TEXT'].map(SCHOOL_TYPE)\n",
        "\n",
        "data.drop(['SCHOOL_TYPE_TEXT'], axis=1, inplace=True)"
      ],
      "execution_count": null,
      "outputs": []
    },
    {
      "cell_type": "markdown",
      "metadata": {
        "id": "q5D3EqVtkAS5"
      },
      "source": [
        "Adjusted Graduation Rate database school year 2018-2019"
      ]
    },
    {
      "cell_type": "code",
      "metadata": {
        "id": "_YC4_XFbjwh7"
      },
      "source": [
        "url2 = \"https://www2.ed.gov/about/inits/ed/edfacts/data-files/acgr-sch-sy2018-19-wide.csv\"\n",
        "grad_rates = pd.read_csv(url2,sep=\",\")"
      ],
      "execution_count": null,
      "outputs": []
    },
    {
      "cell_type": "markdown",
      "metadata": {
        "id": "pqyDaVmTywJc"
      },
      "source": [
        "New column \"Success Rate\" created using success list"
      ]
    },
    {
      "cell_type": "code",
      "metadata": {
        "id": "iMqsGqVbGwlb"
      },
      "source": [
        "# removed the suffix from the columns for readability \n",
        "grad_rates.columns = grad_rates.columns.str.rstrip('_1819')"
      ],
      "execution_count": null,
      "outputs": []
    },
    {
      "cell_type": "code",
      "metadata": {
        "id": "oOdnw3BqI8Ho"
      },
      "source": [
        "# drop the category rates since we are interested in how the number of students in each category contributes to the overall success rate\n",
        "grad_rates = grad_rates.drop(['MAM_RATE', 'MAS_RATE', 'MBL_RATE', 'MHI_RATE', 'MTR_RATE',\n",
        "                             'MWH_RATE', 'CWD_RATE', 'ECD_RATE', 'FCS_RATE', 'HOM_RATE', \n",
        "                             'LEP_RATE'], axis=1)"
      ],
      "execution_count": null,
      "outputs": []
    },
    {
      "cell_type": "code",
      "metadata": {
        "id": "pyErAnnLIAW5"
      },
      "source": [
        "# fill all nulls with 0 because those are where the number of students for that category is just 0 and not null\n",
        "grad_rates.fillna(0, inplace = True)"
      ],
      "execution_count": null,
      "outputs": []
    },
    {
      "cell_type": "code",
      "metadata": {
        "colab": {
          "base_uri": "https://localhost:8080/",
          "height": 452
        },
        "id": "feIQkg96GkyJ",
        "outputId": "0a631e93-7e55-4a1a-b028-5b59b9b67fe3"
      },
      "source": [
        "grad_rates.head()"
      ],
      "execution_count": null,
      "outputs": [
        {
          "output_type": "execute_result",
          "data": {
            "text/html": [
              "<div>\n",
              "<style scoped>\n",
              "    .dataframe tbody tr th:only-of-type {\n",
              "        vertical-align: middle;\n",
              "    }\n",
              "\n",
              "    .dataframe tbody tr th {\n",
              "        vertical-align: top;\n",
              "    }\n",
              "\n",
              "    .dataframe thead th {\n",
              "        text-align: right;\n",
              "    }\n",
              "</style>\n",
              "<table border=\"1\" class=\"dataframe\">\n",
              "  <thead>\n",
              "    <tr style=\"text-align: right;\">\n",
              "      <th></th>\n",
              "      <th>STNAM</th>\n",
              "      <th>FIPST</th>\n",
              "      <th>LEAID</th>\n",
              "      <th>ST_LEAID</th>\n",
              "      <th>LEANM</th>\n",
              "      <th>NCESSCH</th>\n",
              "      <th>ST_SCHID</th>\n",
              "      <th>SCHNAM</th>\n",
              "      <th>ALL_COHORT</th>\n",
              "      <th>ALL_RATE</th>\n",
              "      <th>MAM_COHORT</th>\n",
              "      <th>MAS_COHORT</th>\n",
              "      <th>MBL_COHORT</th>\n",
              "      <th>MHI_COHORT</th>\n",
              "      <th>MTR_COHORT</th>\n",
              "      <th>MWH_COHORT</th>\n",
              "      <th>CWD_COHORT</th>\n",
              "      <th>ECD_COHORT</th>\n",
              "      <th>FCS_COHORT</th>\n",
              "      <th>HOM_COHORT</th>\n",
              "      <th>LEP_COHORT</th>\n",
              "      <th>DATE_CUR</th>\n",
              "    </tr>\n",
              "  </thead>\n",
              "  <tbody>\n",
              "    <tr>\n",
              "      <th>0</th>\n",
              "      <td>ALABAMA</td>\n",
              "      <td>1</td>\n",
              "      <td>100005</td>\n",
              "      <td>AL-101</td>\n",
              "      <td>Albertville City</td>\n",
              "      <td>10000500871</td>\n",
              "      <td>AL-101-0020</td>\n",
              "      <td>Albertville High School</td>\n",
              "      <td>375</td>\n",
              "      <td>94</td>\n",
              "      <td>0.0</td>\n",
              "      <td>8.0</td>\n",
              "      <td>15.0</td>\n",
              "      <td>173.0</td>\n",
              "      <td>4.0</td>\n",
              "      <td>175.0</td>\n",
              "      <td>19.0</td>\n",
              "      <td>114.0</td>\n",
              "      <td>0.0</td>\n",
              "      <td>7.0</td>\n",
              "      <td>67.0</td>\n",
              "      <td>24JUL20</td>\n",
              "    </tr>\n",
              "    <tr>\n",
              "      <th>1</th>\n",
              "      <td>ALABAMA</td>\n",
              "      <td>1</td>\n",
              "      <td>100006</td>\n",
              "      <td>AL-048</td>\n",
              "      <td>Marshall County</td>\n",
              "      <td>10000600872</td>\n",
              "      <td>AL-048-0030</td>\n",
              "      <td>Asbury High School</td>\n",
              "      <td>55</td>\n",
              "      <td>GE90</td>\n",
              "      <td>0.0</td>\n",
              "      <td>0.0</td>\n",
              "      <td>0.0</td>\n",
              "      <td>24.0</td>\n",
              "      <td>0.0</td>\n",
              "      <td>31.0</td>\n",
              "      <td>7.0</td>\n",
              "      <td>15.0</td>\n",
              "      <td>0.0</td>\n",
              "      <td>3.0</td>\n",
              "      <td>3.0</td>\n",
              "      <td>24JUL20</td>\n",
              "    </tr>\n",
              "    <tr>\n",
              "      <th>2</th>\n",
              "      <td>ALABAMA</td>\n",
              "      <td>1</td>\n",
              "      <td>100006</td>\n",
              "      <td>AL-048</td>\n",
              "      <td>Marshall County</td>\n",
              "      <td>10000600878</td>\n",
              "      <td>AL-048-0100</td>\n",
              "      <td>Douglas High School</td>\n",
              "      <td>130</td>\n",
              "      <td>90-94</td>\n",
              "      <td>4.0</td>\n",
              "      <td>0.0</td>\n",
              "      <td>0.0</td>\n",
              "      <td>41.0</td>\n",
              "      <td>0.0</td>\n",
              "      <td>85.0</td>\n",
              "      <td>9.0</td>\n",
              "      <td>99.0</td>\n",
              "      <td>0.0</td>\n",
              "      <td>10.0</td>\n",
              "      <td>7.0</td>\n",
              "      <td>24JUL20</td>\n",
              "    </tr>\n",
              "    <tr>\n",
              "      <th>3</th>\n",
              "      <td>ALABAMA</td>\n",
              "      <td>1</td>\n",
              "      <td>100006</td>\n",
              "      <td>AL-048</td>\n",
              "      <td>Marshall County</td>\n",
              "      <td>10000600883</td>\n",
              "      <td>AL-048-0140</td>\n",
              "      <td>Kate D Smith DAR High School</td>\n",
              "      <td>97</td>\n",
              "      <td>GE95</td>\n",
              "      <td>0.0</td>\n",
              "      <td>0.0</td>\n",
              "      <td>1.0</td>\n",
              "      <td>1.0</td>\n",
              "      <td>0.0</td>\n",
              "      <td>95.0</td>\n",
              "      <td>4.0</td>\n",
              "      <td>34.0</td>\n",
              "      <td>1.0</td>\n",
              "      <td>2.0</td>\n",
              "      <td>1.0</td>\n",
              "      <td>24JUL20</td>\n",
              "    </tr>\n",
              "    <tr>\n",
              "      <th>4</th>\n",
              "      <td>ALABAMA</td>\n",
              "      <td>1</td>\n",
              "      <td>100006</td>\n",
              "      <td>AL-048</td>\n",
              "      <td>Marshall County</td>\n",
              "      <td>10000601585</td>\n",
              "      <td>AL-048-0042</td>\n",
              "      <td>Brindlee Mountain High School</td>\n",
              "      <td>64</td>\n",
              "      <td>85-89</td>\n",
              "      <td>0.0</td>\n",
              "      <td>0.0</td>\n",
              "      <td>0.0</td>\n",
              "      <td>4.0</td>\n",
              "      <td>1.0</td>\n",
              "      <td>59.0</td>\n",
              "      <td>7.0</td>\n",
              "      <td>47.0</td>\n",
              "      <td>0.0</td>\n",
              "      <td>7.0</td>\n",
              "      <td>1.0</td>\n",
              "      <td>24JUL20</td>\n",
              "    </tr>\n",
              "  </tbody>\n",
              "</table>\n",
              "</div>"
            ],
            "text/plain": [
              "     STNAM  FIPST   LEAID ST_LEAID  ... FCS_COHORT  HOM_COHORT LEP_COHORT DATE_CUR\n",
              "0  ALABAMA      1  100005   AL-101  ...        0.0         7.0       67.0  24JUL20\n",
              "1  ALABAMA      1  100006   AL-048  ...        0.0         3.0        3.0  24JUL20\n",
              "2  ALABAMA      1  100006   AL-048  ...        0.0        10.0        7.0  24JUL20\n",
              "3  ALABAMA      1  100006   AL-048  ...        1.0         2.0        1.0  24JUL20\n",
              "4  ALABAMA      1  100006   AL-048  ...        0.0         7.0        1.0  24JUL20\n",
              "\n",
              "[5 rows x 22 columns]"
            ]
          },
          "metadata": {},
          "execution_count": 13
        }
      ]
    },
    {
      "cell_type": "code",
      "metadata": {
        "id": "LXzYXcgnRedq"
      },
      "source": [
        "# split at hyphen and keep lower bound\n",
        "grad_rates['ALL_RATE'] = grad_rates['ALL_RATE'].str.split('-').str[0]"
      ],
      "execution_count": null,
      "outputs": []
    },
    {
      "cell_type": "code",
      "metadata": {
        "id": "E9LwnO0hJuJf"
      },
      "source": [
        "# remove any letters or punctuation from grad rate\n",
        "grad_rates['ALL_RATE'] = grad_rates[\"ALL_RATE\"].str.replace(r'\\D', '')"
      ],
      "execution_count": null,
      "outputs": []
    },
    {
      "cell_type": "code",
      "metadata": {
        "id": "_XkIwugCSUrl"
      },
      "source": [
        "grad_rates['ALL_RATE'] = grad_rates[\"ALL_RATE\"].apply(pd.to_numeric)"
      ],
      "execution_count": null,
      "outputs": []
    },
    {
      "cell_type": "code",
      "metadata": {
        "id": "3Z5J00rmWRx-"
      },
      "source": [
        "grad_rates['Success_Rate'] = (grad_rates['ALL_RATE'] > 66).astype(int)"
      ],
      "execution_count": null,
      "outputs": []
    },
    {
      "cell_type": "markdown",
      "metadata": {
        "id": "9cZ2y2B0zDy6"
      },
      "source": [
        "State ID, District ID, School ID, each Cohort, Success Rate are columns selected"
      ]
    },
    {
      "cell_type": "code",
      "metadata": {
        "id": "t9slvrI7jwb3"
      },
      "source": [
        "grad_rates = grad_rates[['STNAM', 'FIPST','LEAID','NCESSCH', 'ALL_RATE', 'ALL_COHORT','MAM_COHORT', 'MAS_COHORT', 'MBL_COHORT', 'MHI_COHORT', 'MTR_COHORT', 'MWH_COHORT', 'CWD_COHORT', 'ECD_COHORT', 'FCS_COHORT', 'HOM_COHORT', 'LEP_COHORT','Success_Rate']]\n"
      ],
      "execution_count": null,
      "outputs": []
    },
    {
      "cell_type": "code",
      "metadata": {
        "colab": {
          "base_uri": "https://localhost:8080/",
          "height": 206
        },
        "id": "fd4kna9oXGYQ",
        "outputId": "da220f69-56f9-45b1-a001-fc5551e5f837"
      },
      "source": [
        "grad_rates.head()"
      ],
      "execution_count": null,
      "outputs": [
        {
          "output_type": "execute_result",
          "data": {
            "text/html": [
              "<div>\n",
              "<style scoped>\n",
              "    .dataframe tbody tr th:only-of-type {\n",
              "        vertical-align: middle;\n",
              "    }\n",
              "\n",
              "    .dataframe tbody tr th {\n",
              "        vertical-align: top;\n",
              "    }\n",
              "\n",
              "    .dataframe thead th {\n",
              "        text-align: right;\n",
              "    }\n",
              "</style>\n",
              "<table border=\"1\" class=\"dataframe\">\n",
              "  <thead>\n",
              "    <tr style=\"text-align: right;\">\n",
              "      <th></th>\n",
              "      <th>STNAM</th>\n",
              "      <th>FIPST</th>\n",
              "      <th>LEAID</th>\n",
              "      <th>NCESSCH</th>\n",
              "      <th>ALL_RATE</th>\n",
              "      <th>ALL_COHORT</th>\n",
              "      <th>MAM_COHORT</th>\n",
              "      <th>MAS_COHORT</th>\n",
              "      <th>MBL_COHORT</th>\n",
              "      <th>MHI_COHORT</th>\n",
              "      <th>MTR_COHORT</th>\n",
              "      <th>MWH_COHORT</th>\n",
              "      <th>CWD_COHORT</th>\n",
              "      <th>ECD_COHORT</th>\n",
              "      <th>FCS_COHORT</th>\n",
              "      <th>HOM_COHORT</th>\n",
              "      <th>LEP_COHORT</th>\n",
              "      <th>Success_Rate</th>\n",
              "    </tr>\n",
              "  </thead>\n",
              "  <tbody>\n",
              "    <tr>\n",
              "      <th>0</th>\n",
              "      <td>ALABAMA</td>\n",
              "      <td>1</td>\n",
              "      <td>100005</td>\n",
              "      <td>10000500871</td>\n",
              "      <td>94.0</td>\n",
              "      <td>375</td>\n",
              "      <td>0.0</td>\n",
              "      <td>8.0</td>\n",
              "      <td>15.0</td>\n",
              "      <td>173.0</td>\n",
              "      <td>4.0</td>\n",
              "      <td>175.0</td>\n",
              "      <td>19.0</td>\n",
              "      <td>114.0</td>\n",
              "      <td>0.0</td>\n",
              "      <td>7.0</td>\n",
              "      <td>67.0</td>\n",
              "      <td>1</td>\n",
              "    </tr>\n",
              "    <tr>\n",
              "      <th>1</th>\n",
              "      <td>ALABAMA</td>\n",
              "      <td>1</td>\n",
              "      <td>100006</td>\n",
              "      <td>10000600872</td>\n",
              "      <td>90.0</td>\n",
              "      <td>55</td>\n",
              "      <td>0.0</td>\n",
              "      <td>0.0</td>\n",
              "      <td>0.0</td>\n",
              "      <td>24.0</td>\n",
              "      <td>0.0</td>\n",
              "      <td>31.0</td>\n",
              "      <td>7.0</td>\n",
              "      <td>15.0</td>\n",
              "      <td>0.0</td>\n",
              "      <td>3.0</td>\n",
              "      <td>3.0</td>\n",
              "      <td>1</td>\n",
              "    </tr>\n",
              "    <tr>\n",
              "      <th>2</th>\n",
              "      <td>ALABAMA</td>\n",
              "      <td>1</td>\n",
              "      <td>100006</td>\n",
              "      <td>10000600878</td>\n",
              "      <td>90.0</td>\n",
              "      <td>130</td>\n",
              "      <td>4.0</td>\n",
              "      <td>0.0</td>\n",
              "      <td>0.0</td>\n",
              "      <td>41.0</td>\n",
              "      <td>0.0</td>\n",
              "      <td>85.0</td>\n",
              "      <td>9.0</td>\n",
              "      <td>99.0</td>\n",
              "      <td>0.0</td>\n",
              "      <td>10.0</td>\n",
              "      <td>7.0</td>\n",
              "      <td>1</td>\n",
              "    </tr>\n",
              "    <tr>\n",
              "      <th>3</th>\n",
              "      <td>ALABAMA</td>\n",
              "      <td>1</td>\n",
              "      <td>100006</td>\n",
              "      <td>10000600883</td>\n",
              "      <td>95.0</td>\n",
              "      <td>97</td>\n",
              "      <td>0.0</td>\n",
              "      <td>0.0</td>\n",
              "      <td>1.0</td>\n",
              "      <td>1.0</td>\n",
              "      <td>0.0</td>\n",
              "      <td>95.0</td>\n",
              "      <td>4.0</td>\n",
              "      <td>34.0</td>\n",
              "      <td>1.0</td>\n",
              "      <td>2.0</td>\n",
              "      <td>1.0</td>\n",
              "      <td>1</td>\n",
              "    </tr>\n",
              "    <tr>\n",
              "      <th>4</th>\n",
              "      <td>ALABAMA</td>\n",
              "      <td>1</td>\n",
              "      <td>100006</td>\n",
              "      <td>10000601585</td>\n",
              "      <td>85.0</td>\n",
              "      <td>64</td>\n",
              "      <td>0.0</td>\n",
              "      <td>0.0</td>\n",
              "      <td>0.0</td>\n",
              "      <td>4.0</td>\n",
              "      <td>1.0</td>\n",
              "      <td>59.0</td>\n",
              "      <td>7.0</td>\n",
              "      <td>47.0</td>\n",
              "      <td>0.0</td>\n",
              "      <td>7.0</td>\n",
              "      <td>1.0</td>\n",
              "      <td>1</td>\n",
              "    </tr>\n",
              "  </tbody>\n",
              "</table>\n",
              "</div>"
            ],
            "text/plain": [
              "     STNAM  FIPST   LEAID  ...  HOM_COHORT  LEP_COHORT  Success_Rate\n",
              "0  ALABAMA      1  100005  ...         7.0        67.0             1\n",
              "1  ALABAMA      1  100006  ...         3.0         3.0             1\n",
              "2  ALABAMA      1  100006  ...        10.0         7.0             1\n",
              "3  ALABAMA      1  100006  ...         2.0         1.0             1\n",
              "4  ALABAMA      1  100006  ...         7.0         1.0             1\n",
              "\n",
              "[5 rows x 18 columns]"
            ]
          },
          "metadata": {},
          "execution_count": 19
        }
      ]
    },
    {
      "cell_type": "code",
      "metadata": {
        "colab": {
          "base_uri": "https://localhost:8080/"
        },
        "id": "DbKeh2WGn16U",
        "outputId": "c5e725a2-fe1b-4470-a417-f258ba0e4b18"
      },
      "source": [
        "grad_rates['NCESSCH'].nunique()"
      ],
      "execution_count": null,
      "outputs": [
        {
          "output_type": "execute_result",
          "data": {
            "text/plain": [
              "22900"
            ]
          },
          "metadata": {},
          "execution_count": 20
        }
      ]
    },
    {
      "cell_type": "code",
      "metadata": {
        "colab": {
          "base_uri": "https://localhost:8080/"
        },
        "id": "bSrKRHwqoUnQ",
        "outputId": "2bb2103f-6221-40be-d754-f52f391f462a"
      },
      "source": [
        "grad_rates.info()"
      ],
      "execution_count": null,
      "outputs": [
        {
          "output_type": "stream",
          "name": "stdout",
          "text": [
            "<class 'pandas.core.frame.DataFrame'>\n",
            "RangeIndex: 22900 entries, 0 to 22899\n",
            "Data columns (total 18 columns):\n",
            " #   Column        Non-Null Count  Dtype  \n",
            "---  ------        --------------  -----  \n",
            " 0   STNAM         22900 non-null  object \n",
            " 1   FIPST         22900 non-null  int64  \n",
            " 2   LEAID         22900 non-null  int64  \n",
            " 3   NCESSCH       22900 non-null  int64  \n",
            " 4   ALL_RATE      21425 non-null  float64\n",
            " 5   ALL_COHORT    22900 non-null  int64  \n",
            " 6   MAM_COHORT    22900 non-null  float64\n",
            " 7   MAS_COHORT    22900 non-null  float64\n",
            " 8   MBL_COHORT    22900 non-null  float64\n",
            " 9   MHI_COHORT    22900 non-null  float64\n",
            " 10  MTR_COHORT    22900 non-null  float64\n",
            " 11  MWH_COHORT    22900 non-null  float64\n",
            " 12  CWD_COHORT    22900 non-null  float64\n",
            " 13  ECD_COHORT    22900 non-null  float64\n",
            " 14  FCS_COHORT    22900 non-null  float64\n",
            " 15  HOM_COHORT    22900 non-null  float64\n",
            " 16  LEP_COHORT    22900 non-null  float64\n",
            " 17  Success_Rate  22900 non-null  int64  \n",
            "dtypes: float64(12), int64(5), object(1)\n",
            "memory usage: 3.1+ MB\n"
          ]
        }
      ]
    },
    {
      "cell_type": "code",
      "metadata": {
        "id": "Y_P16NpWqGUe"
      },
      "source": [
        "# drop LEAID to merge on NCESSCH without making duplicates\n",
        "grad_rates.drop('LEAID', axis=1, inplace=True)"
      ],
      "execution_count": null,
      "outputs": []
    },
    {
      "cell_type": "markdown",
      "metadata": {
        "id": "8bwwq5bHkiKJ"
      },
      "source": [
        "Merge School Characteristics and Grad Rate tables"
      ]
    },
    {
      "cell_type": "code",
      "metadata": {
        "id": "Wyie94hDjwZT"
      },
      "source": [
        "Merged_data = pd.merge(data, grad_rates, left_on='NCESSCH', right_on='NCESSCH')"
      ],
      "execution_count": null,
      "outputs": []
    },
    {
      "cell_type": "code",
      "metadata": {
        "colab": {
          "base_uri": "https://localhost:8080/",
          "height": 226
        },
        "id": "JbF203eqXUmV",
        "outputId": "0eef180e-c850-4132-cfff-399e9c8a2a78"
      },
      "source": [
        "Merged_data.head()"
      ],
      "execution_count": null,
      "outputs": [
        {
          "output_type": "execute_result",
          "data": {
            "text/html": [
              "<div>\n",
              "<style scoped>\n",
              "    .dataframe tbody tr th:only-of-type {\n",
              "        vertical-align: middle;\n",
              "    }\n",
              "\n",
              "    .dataframe tbody tr th {\n",
              "        vertical-align: top;\n",
              "    }\n",
              "\n",
              "    .dataframe thead th {\n",
              "        text-align: right;\n",
              "    }\n",
              "</style>\n",
              "<table border=\"1\" class=\"dataframe\">\n",
              "  <thead>\n",
              "    <tr style=\"text-align: right;\">\n",
              "      <th></th>\n",
              "      <th>NCESSCH</th>\n",
              "      <th>TITLEI</th>\n",
              "      <th>LEAID</th>\n",
              "      <th>G12</th>\n",
              "      <th>SCHOOL_LEVEL</th>\n",
              "      <th>TOTFRL</th>\n",
              "      <th>FTE</th>\n",
              "      <th>STUTERATIO</th>\n",
              "      <th>TOTMENROL</th>\n",
              "      <th>TOTFENROL</th>\n",
              "      <th>PCT_MEN</th>\n",
              "      <th>PCT_FEN</th>\n",
              "      <th>PCT_FRL</th>\n",
              "      <th>SCHOOL_TYPE</th>\n",
              "      <th>STNAM</th>\n",
              "      <th>FIPST</th>\n",
              "      <th>ALL_RATE</th>\n",
              "      <th>ALL_COHORT</th>\n",
              "      <th>MAM_COHORT</th>\n",
              "      <th>MAS_COHORT</th>\n",
              "      <th>MBL_COHORT</th>\n",
              "      <th>MHI_COHORT</th>\n",
              "      <th>MTR_COHORT</th>\n",
              "      <th>MWH_COHORT</th>\n",
              "      <th>CWD_COHORT</th>\n",
              "      <th>ECD_COHORT</th>\n",
              "      <th>FCS_COHORT</th>\n",
              "      <th>HOM_COHORT</th>\n",
              "      <th>LEP_COHORT</th>\n",
              "      <th>Success_Rate</th>\n",
              "    </tr>\n",
              "  </thead>\n",
              "  <tbody>\n",
              "    <tr>\n",
              "      <th>0</th>\n",
              "      <td>20061000470</td>\n",
              "      <td>Yes</td>\n",
              "      <td>200610</td>\n",
              "      <td>29.0</td>\n",
              "      <td>High</td>\n",
              "      <td>16</td>\n",
              "      <td>3.700000</td>\n",
              "      <td>11.1</td>\n",
              "      <td>25.0</td>\n",
              "      <td>16.0</td>\n",
              "      <td>0.609756</td>\n",
              "      <td>0.390244</td>\n",
              "      <td>0.390244</td>\n",
              "      <td>0</td>\n",
              "      <td>ALASKA</td>\n",
              "      <td>2</td>\n",
              "      <td>21.0</td>\n",
              "      <td>16</td>\n",
              "      <td>11.0</td>\n",
              "      <td>1.0</td>\n",
              "      <td>0.0</td>\n",
              "      <td>1.0</td>\n",
              "      <td>2.0</td>\n",
              "      <td>1.0</td>\n",
              "      <td>2.0</td>\n",
              "      <td>3.0</td>\n",
              "      <td>0.0</td>\n",
              "      <td>0.0</td>\n",
              "      <td>6.0</td>\n",
              "      <td>0</td>\n",
              "    </tr>\n",
              "    <tr>\n",
              "      <th>1</th>\n",
              "      <td>20039000513</td>\n",
              "      <td>Yes</td>\n",
              "      <td>200390</td>\n",
              "      <td>3.0</td>\n",
              "      <td>High</td>\n",
              "      <td>3</td>\n",
              "      <td>1.000000</td>\n",
              "      <td>9.0</td>\n",
              "      <td>7.0</td>\n",
              "      <td>2.0</td>\n",
              "      <td>0.777778</td>\n",
              "      <td>0.222222</td>\n",
              "      <td>0.333333</td>\n",
              "      <td>0</td>\n",
              "      <td>ALASKA</td>\n",
              "      <td>2</td>\n",
              "      <td>50.0</td>\n",
              "      <td>8</td>\n",
              "      <td>2.0</td>\n",
              "      <td>0.0</td>\n",
              "      <td>0.0</td>\n",
              "      <td>0.0</td>\n",
              "      <td>0.0</td>\n",
              "      <td>6.0</td>\n",
              "      <td>3.0</td>\n",
              "      <td>0.0</td>\n",
              "      <td>0.0</td>\n",
              "      <td>0.0</td>\n",
              "      <td>0.0</td>\n",
              "      <td>0</td>\n",
              "    </tr>\n",
              "    <tr>\n",
              "      <th>2</th>\n",
              "      <td>20072000661</td>\n",
              "      <td>Yes</td>\n",
              "      <td>200720</td>\n",
              "      <td>34.0</td>\n",
              "      <td>High</td>\n",
              "      <td>33</td>\n",
              "      <td>14.400000</td>\n",
              "      <td>13.1</td>\n",
              "      <td>95.0</td>\n",
              "      <td>93.0</td>\n",
              "      <td>0.505319</td>\n",
              "      <td>0.494681</td>\n",
              "      <td>0.175532</td>\n",
              "      <td>1</td>\n",
              "      <td>ALASKA</td>\n",
              "      <td>2</td>\n",
              "      <td>90.0</td>\n",
              "      <td>35</td>\n",
              "      <td>5.0</td>\n",
              "      <td>16.0</td>\n",
              "      <td>0.0</td>\n",
              "      <td>5.0</td>\n",
              "      <td>0.0</td>\n",
              "      <td>9.0</td>\n",
              "      <td>1.0</td>\n",
              "      <td>8.0</td>\n",
              "      <td>0.0</td>\n",
              "      <td>0.0</td>\n",
              "      <td>5.0</td>\n",
              "      <td>1</td>\n",
              "    </tr>\n",
              "    <tr>\n",
              "      <th>3</th>\n",
              "      <td>20000100208</td>\n",
              "      <td>Yes</td>\n",
              "      <td>200001</td>\n",
              "      <td>61.0</td>\n",
              "      <td>High</td>\n",
              "      <td>393</td>\n",
              "      <td>34.970001</td>\n",
              "      <td>14.1</td>\n",
              "      <td>259.0</td>\n",
              "      <td>235.0</td>\n",
              "      <td>0.524291</td>\n",
              "      <td>0.475709</td>\n",
              "      <td>0.795547</td>\n",
              "      <td>1</td>\n",
              "      <td>ALASKA</td>\n",
              "      <td>2</td>\n",
              "      <td>55.0</td>\n",
              "      <td>85</td>\n",
              "      <td>72.0</td>\n",
              "      <td>2.0</td>\n",
              "      <td>0.0</td>\n",
              "      <td>3.0</td>\n",
              "      <td>0.0</td>\n",
              "      <td>8.0</td>\n",
              "      <td>14.0</td>\n",
              "      <td>49.0</td>\n",
              "      <td>3.0</td>\n",
              "      <td>0.0</td>\n",
              "      <td>18.0</td>\n",
              "      <td>0</td>\n",
              "    </tr>\n",
              "    <tr>\n",
              "      <th>4</th>\n",
              "      <td>20000100318</td>\n",
              "      <td>Yes</td>\n",
              "      <td>200001</td>\n",
              "      <td>22.0</td>\n",
              "      <td>High</td>\n",
              "      <td>3</td>\n",
              "      <td>7.800000</td>\n",
              "      <td>7.7</td>\n",
              "      <td>30.0</td>\n",
              "      <td>30.0</td>\n",
              "      <td>0.500000</td>\n",
              "      <td>0.500000</td>\n",
              "      <td>0.050000</td>\n",
              "      <td>0</td>\n",
              "      <td>ALASKA</td>\n",
              "      <td>2</td>\n",
              "      <td>21.0</td>\n",
              "      <td>23</td>\n",
              "      <td>23.0</td>\n",
              "      <td>0.0</td>\n",
              "      <td>0.0</td>\n",
              "      <td>0.0</td>\n",
              "      <td>0.0</td>\n",
              "      <td>0.0</td>\n",
              "      <td>4.0</td>\n",
              "      <td>20.0</td>\n",
              "      <td>1.0</td>\n",
              "      <td>1.0</td>\n",
              "      <td>14.0</td>\n",
              "      <td>0</td>\n",
              "    </tr>\n",
              "  </tbody>\n",
              "</table>\n",
              "</div>"
            ],
            "text/plain": [
              "       NCESSCH TITLEI   LEAID  ...  HOM_COHORT LEP_COHORT  Success_Rate\n",
              "0  20061000470    Yes  200610  ...         0.0        6.0             0\n",
              "1  20039000513    Yes  200390  ...         0.0        0.0             0\n",
              "2  20072000661    Yes  200720  ...         0.0        5.0             1\n",
              "3  20000100208    Yes  200001  ...         0.0       18.0             0\n",
              "4  20000100318    Yes  200001  ...         1.0       14.0             0\n",
              "\n",
              "[5 rows x 30 columns]"
            ]
          },
          "metadata": {},
          "execution_count": 24
        }
      ]
    },
    {
      "cell_type": "code",
      "metadata": {
        "colab": {
          "base_uri": "https://localhost:8080/"
        },
        "id": "W4B9MUDCoMIl",
        "outputId": "80cfa814-d307-4427-800f-c81cc9914c1d"
      },
      "source": [
        "Merged_data['NCESSCH'].nunique()"
      ],
      "execution_count": null,
      "outputs": [
        {
          "output_type": "execute_result",
          "data": {
            "text/plain": [
              "19961"
            ]
          },
          "metadata": {},
          "execution_count": 25
        }
      ]
    },
    {
      "cell_type": "code",
      "metadata": {
        "colab": {
          "base_uri": "https://localhost:8080/"
        },
        "id": "Tgo6JZ0EoppM",
        "outputId": "f8fca791-99f8-4549-f062-702b8ed3f33b"
      },
      "source": [
        "Merged_data.info()"
      ],
      "execution_count": null,
      "outputs": [
        {
          "output_type": "stream",
          "name": "stdout",
          "text": [
            "<class 'pandas.core.frame.DataFrame'>\n",
            "Int64Index: 19961 entries, 0 to 19960\n",
            "Data columns (total 30 columns):\n",
            " #   Column        Non-Null Count  Dtype  \n",
            "---  ------        --------------  -----  \n",
            " 0   NCESSCH       19961 non-null  int64  \n",
            " 1   TITLEI        19961 non-null  object \n",
            " 2   LEAID         19961 non-null  int64  \n",
            " 3   G12           19945 non-null  float64\n",
            " 4   SCHOOL_LEVEL  19961 non-null  object \n",
            " 5   TOTFRL        19961 non-null  int64  \n",
            " 6   FTE           19334 non-null  float64\n",
            " 7   STUTERATIO    19141 non-null  float64\n",
            " 8   TOTMENROL     19938 non-null  float64\n",
            " 9   TOTFENROL     19936 non-null  float64\n",
            " 10  PCT_MEN       19695 non-null  float64\n",
            " 11  PCT_FEN       19695 non-null  float64\n",
            " 12  PCT_FRL       19926 non-null  float64\n",
            " 13  SCHOOL_TYPE   19961 non-null  int64  \n",
            " 14  STNAM         19961 non-null  object \n",
            " 15  FIPST         19961 non-null  int64  \n",
            " 16  ALL_RATE      19175 non-null  float64\n",
            " 17  ALL_COHORT    19961 non-null  int64  \n",
            " 18  MAM_COHORT    19961 non-null  float64\n",
            " 19  MAS_COHORT    19961 non-null  float64\n",
            " 20  MBL_COHORT    19961 non-null  float64\n",
            " 21  MHI_COHORT    19961 non-null  float64\n",
            " 22  MTR_COHORT    19961 non-null  float64\n",
            " 23  MWH_COHORT    19961 non-null  float64\n",
            " 24  CWD_COHORT    19961 non-null  float64\n",
            " 25  ECD_COHORT    19961 non-null  float64\n",
            " 26  FCS_COHORT    19961 non-null  float64\n",
            " 27  HOM_COHORT    19961 non-null  float64\n",
            " 28  LEP_COHORT    19961 non-null  float64\n",
            " 29  Success_Rate  19961 non-null  int64  \n",
            "dtypes: float64(20), int64(7), object(3)\n",
            "memory usage: 4.7+ MB\n"
          ]
        }
      ]
    },
    {
      "cell_type": "markdown",
      "metadata": {
        "id": "82VN0KvbziKv"
      },
      "source": [
        "District ID needs leading 0 to be able to merge with financial data"
      ]
    },
    {
      "cell_type": "code",
      "metadata": {
        "id": "vIMO6YnnjwXE"
      },
      "source": [
        "Merged_data['LEAID'] = Merged_data['LEAID'].map(lambda x: f'{x:0>7}')"
      ],
      "execution_count": null,
      "outputs": []
    },
    {
      "cell_type": "markdown",
      "metadata": {
        "id": "i4XUFpAqzsLe"
      },
      "source": [
        "Duplicate District ID is dropped"
      ]
    },
    {
      "cell_type": "code",
      "metadata": {
        "colab": {
          "base_uri": "https://localhost:8080/"
        },
        "id": "an6O6OB0kRP-",
        "outputId": "15a59782-0d69-44e9-ef80-1e60d92531aa"
      },
      "source": [
        "Merged_data.info()"
      ],
      "execution_count": null,
      "outputs": [
        {
          "output_type": "stream",
          "name": "stdout",
          "text": [
            "<class 'pandas.core.frame.DataFrame'>\n",
            "Int64Index: 19961 entries, 0 to 19960\n",
            "Data columns (total 30 columns):\n",
            " #   Column        Non-Null Count  Dtype  \n",
            "---  ------        --------------  -----  \n",
            " 0   NCESSCH       19961 non-null  int64  \n",
            " 1   TITLEI        19961 non-null  object \n",
            " 2   LEAID         19961 non-null  object \n",
            " 3   G12           19945 non-null  float64\n",
            " 4   SCHOOL_LEVEL  19961 non-null  object \n",
            " 5   TOTFRL        19961 non-null  int64  \n",
            " 6   FTE           19334 non-null  float64\n",
            " 7   STUTERATIO    19141 non-null  float64\n",
            " 8   TOTMENROL     19938 non-null  float64\n",
            " 9   TOTFENROL     19936 non-null  float64\n",
            " 10  PCT_MEN       19695 non-null  float64\n",
            " 11  PCT_FEN       19695 non-null  float64\n",
            " 12  PCT_FRL       19926 non-null  float64\n",
            " 13  SCHOOL_TYPE   19961 non-null  int64  \n",
            " 14  STNAM         19961 non-null  object \n",
            " 15  FIPST         19961 non-null  int64  \n",
            " 16  ALL_RATE      19175 non-null  float64\n",
            " 17  ALL_COHORT    19961 non-null  int64  \n",
            " 18  MAM_COHORT    19961 non-null  float64\n",
            " 19  MAS_COHORT    19961 non-null  float64\n",
            " 20  MBL_COHORT    19961 non-null  float64\n",
            " 21  MHI_COHORT    19961 non-null  float64\n",
            " 22  MTR_COHORT    19961 non-null  float64\n",
            " 23  MWH_COHORT    19961 non-null  float64\n",
            " 24  CWD_COHORT    19961 non-null  float64\n",
            " 25  ECD_COHORT    19961 non-null  float64\n",
            " 26  FCS_COHORT    19961 non-null  float64\n",
            " 27  HOM_COHORT    19961 non-null  float64\n",
            " 28  LEP_COHORT    19961 non-null  float64\n",
            " 29  Success_Rate  19961 non-null  int64  \n",
            "dtypes: float64(20), int64(6), object(4)\n",
            "memory usage: 4.7+ MB\n"
          ]
        }
      ]
    },
    {
      "cell_type": "markdown",
      "metadata": {
        "id": "Ch1yqFsvz31t"
      },
      "source": [
        "Copy of data is made"
      ]
    },
    {
      "cell_type": "code",
      "metadata": {
        "id": "hgX44l4ZkROM"
      },
      "source": [
        "df = Merged_data.copy(deep=False)"
      ],
      "execution_count": null,
      "outputs": []
    },
    {
      "cell_type": "markdown",
      "metadata": {
        "id": "zwq1YmRbksn3"
      },
      "source": [
        "Finance data for school year 2018-2019"
      ]
    },
    {
      "cell_type": "code",
      "metadata": {
        "id": "MQxrbHYykRL4"
      },
      "source": [
        "url4 = \"https://www2.census.gov/programs-surveys/school-finances/tables/2019/secondary-education-finance/elsec19t.xls\"\n",
        "revenue = pd.read_excel(url4)"
      ],
      "execution_count": null,
      "outputs": []
    },
    {
      "cell_type": "markdown",
      "metadata": {
        "id": "-6C0icYVz8aS"
      },
      "source": [
        "Dsitrict ID,  PER PUPIL - TOTAL CURRENT SPENDING (ELEMENTARY-SECONDARY) columns are selected"
      ]
    },
    {
      "cell_type": "markdown",
      "metadata": {
        "id": "pAa8EMxQ07ic"
      },
      "source": [
        "PER PUPIL SPENDING AMOUNTS\n",
        "The per pupil spending amounts included in the summary tables and data files are derived from current spending totals and the fall membership data. Per pupil expenditure does not include spending for nonelementary-secondary programs (community service, adult education), or spending by a school system for students not included in its fall membership counts."
      ]
    },
    {
      "cell_type": "code",
      "metadata": {
        "colab": {
          "base_uri": "https://localhost:8080/"
        },
        "id": "iVHWob6QkRJ8",
        "outputId": "98da1690-7144-402e-a467-c22cf63150eb"
      },
      "source": [
        "revenue = revenue[['NCESID', 'PPCSTOT']]\n",
        "revenue.shape"
      ],
      "execution_count": null,
      "outputs": [
        {
          "output_type": "execute_result",
          "data": {
            "text/plain": [
              "(14197, 2)"
            ]
          },
          "metadata": {},
          "execution_count": 31
        }
      ]
    },
    {
      "cell_type": "code",
      "metadata": {
        "id": "loZ1JRQrrSwM"
      },
      "source": [
        "revenue = revenue.rename(columns={\"NCESID\": \"LEAID\"})"
      ],
      "execution_count": null,
      "outputs": []
    },
    {
      "cell_type": "code",
      "metadata": {
        "colab": {
          "base_uri": "https://localhost:8080/"
        },
        "id": "rBVZ76SeruC1",
        "outputId": "299a682e-3617-4d78-fa2b-183b161e4629"
      },
      "source": [
        "revenue['LEAID'].nunique()"
      ],
      "execution_count": null,
      "outputs": [
        {
          "output_type": "execute_result",
          "data": {
            "text/plain": [
              "14197"
            ]
          },
          "metadata": {},
          "execution_count": 33
        }
      ]
    },
    {
      "cell_type": "markdown",
      "metadata": {
        "id": "6ZtQIP_xnIxH"
      },
      "source": [
        "Merge revenue and other 2 tables"
      ]
    },
    {
      "cell_type": "code",
      "metadata": {
        "id": "vsiGaLU-kRHe"
      },
      "source": [
        "All_data = pd.merge(Merged_data, revenue, left_on='LEAID', right_on='LEAID')"
      ],
      "execution_count": null,
      "outputs": []
    },
    {
      "cell_type": "code",
      "metadata": {
        "colab": {
          "base_uri": "https://localhost:8080/"
        },
        "id": "ovKX03xukREy",
        "outputId": "0396508e-0c82-4bb8-8abb-364563560efb"
      },
      "source": [
        "All_data.info()"
      ],
      "execution_count": null,
      "outputs": [
        {
          "output_type": "stream",
          "name": "stdout",
          "text": [
            "<class 'pandas.core.frame.DataFrame'>\n",
            "Int64Index: 17855 entries, 0 to 17854\n",
            "Data columns (total 31 columns):\n",
            " #   Column        Non-Null Count  Dtype  \n",
            "---  ------        --------------  -----  \n",
            " 0   NCESSCH       17855 non-null  int64  \n",
            " 1   TITLEI        17855 non-null  object \n",
            " 2   LEAID         17855 non-null  object \n",
            " 3   G12           17841 non-null  float64\n",
            " 4   SCHOOL_LEVEL  17855 non-null  object \n",
            " 5   TOTFRL        17855 non-null  int64  \n",
            " 6   FTE           17470 non-null  float64\n",
            " 7   STUTERATIO    17283 non-null  float64\n",
            " 8   TOTMENROL     17834 non-null  float64\n",
            " 9   TOTFENROL     17834 non-null  float64\n",
            " 10  PCT_MEN       17600 non-null  float64\n",
            " 11  PCT_FEN       17600 non-null  float64\n",
            " 12  PCT_FRL       17825 non-null  float64\n",
            " 13  SCHOOL_TYPE   17855 non-null  int64  \n",
            " 14  STNAM         17855 non-null  object \n",
            " 15  FIPST         17855 non-null  int64  \n",
            " 16  ALL_RATE      17128 non-null  float64\n",
            " 17  ALL_COHORT    17855 non-null  int64  \n",
            " 18  MAM_COHORT    17855 non-null  float64\n",
            " 19  MAS_COHORT    17855 non-null  float64\n",
            " 20  MBL_COHORT    17855 non-null  float64\n",
            " 21  MHI_COHORT    17855 non-null  float64\n",
            " 22  MTR_COHORT    17855 non-null  float64\n",
            " 23  MWH_COHORT    17855 non-null  float64\n",
            " 24  CWD_COHORT    17855 non-null  float64\n",
            " 25  ECD_COHORT    17855 non-null  float64\n",
            " 26  FCS_COHORT    17855 non-null  float64\n",
            " 27  HOM_COHORT    17855 non-null  float64\n",
            " 28  LEP_COHORT    17855 non-null  float64\n",
            " 29  Success_Rate  17855 non-null  int64  \n",
            " 30  PPCSTOT       17855 non-null  int64  \n",
            "dtypes: float64(20), int64(7), object(4)\n",
            "memory usage: 4.4+ MB\n"
          ]
        }
      ]
    },
    {
      "cell_type": "markdown",
      "metadata": {
        "id": "dlI2pjB71Bxa"
      },
      "source": [
        "Nulls dropped from merged data"
      ]
    },
    {
      "cell_type": "code",
      "metadata": {
        "colab": {
          "base_uri": "https://localhost:8080/",
          "height": 461
        },
        "id": "EJHP-8A1mxVO",
        "outputId": "7fe5b2e8-bd4e-424b-fba8-0f2d38d0a314"
      },
      "source": [
        "All_data.dropna()"
      ],
      "execution_count": null,
      "outputs": [
        {
          "output_type": "execute_result",
          "data": {
            "text/html": [
              "<div>\n",
              "<style scoped>\n",
              "    .dataframe tbody tr th:only-of-type {\n",
              "        vertical-align: middle;\n",
              "    }\n",
              "\n",
              "    .dataframe tbody tr th {\n",
              "        vertical-align: top;\n",
              "    }\n",
              "\n",
              "    .dataframe thead th {\n",
              "        text-align: right;\n",
              "    }\n",
              "</style>\n",
              "<table border=\"1\" class=\"dataframe\">\n",
              "  <thead>\n",
              "    <tr style=\"text-align: right;\">\n",
              "      <th></th>\n",
              "      <th>NCESSCH</th>\n",
              "      <th>TITLEI</th>\n",
              "      <th>LEAID</th>\n",
              "      <th>G12</th>\n",
              "      <th>SCHOOL_LEVEL</th>\n",
              "      <th>TOTFRL</th>\n",
              "      <th>FTE</th>\n",
              "      <th>STUTERATIO</th>\n",
              "      <th>TOTMENROL</th>\n",
              "      <th>TOTFENROL</th>\n",
              "      <th>PCT_MEN</th>\n",
              "      <th>PCT_FEN</th>\n",
              "      <th>PCT_FRL</th>\n",
              "      <th>SCHOOL_TYPE</th>\n",
              "      <th>STNAM</th>\n",
              "      <th>FIPST</th>\n",
              "      <th>ALL_RATE</th>\n",
              "      <th>ALL_COHORT</th>\n",
              "      <th>MAM_COHORT</th>\n",
              "      <th>MAS_COHORT</th>\n",
              "      <th>MBL_COHORT</th>\n",
              "      <th>MHI_COHORT</th>\n",
              "      <th>MTR_COHORT</th>\n",
              "      <th>MWH_COHORT</th>\n",
              "      <th>CWD_COHORT</th>\n",
              "      <th>ECD_COHORT</th>\n",
              "      <th>FCS_COHORT</th>\n",
              "      <th>HOM_COHORT</th>\n",
              "      <th>LEP_COHORT</th>\n",
              "      <th>Success_Rate</th>\n",
              "      <th>PPCSTOT</th>\n",
              "    </tr>\n",
              "  </thead>\n",
              "  <tbody>\n",
              "    <tr>\n",
              "      <th>0</th>\n",
              "      <td>20061000470</td>\n",
              "      <td>Yes</td>\n",
              "      <td>0200610</td>\n",
              "      <td>29.0</td>\n",
              "      <td>High</td>\n",
              "      <td>16</td>\n",
              "      <td>3.700000</td>\n",
              "      <td>11.1</td>\n",
              "      <td>25.0</td>\n",
              "      <td>16.0</td>\n",
              "      <td>0.609756</td>\n",
              "      <td>0.390244</td>\n",
              "      <td>0.390244</td>\n",
              "      <td>0</td>\n",
              "      <td>ALASKA</td>\n",
              "      <td>2</td>\n",
              "      <td>21.0</td>\n",
              "      <td>16</td>\n",
              "      <td>11.0</td>\n",
              "      <td>1.0</td>\n",
              "      <td>0.0</td>\n",
              "      <td>1.0</td>\n",
              "      <td>2.0</td>\n",
              "      <td>1.0</td>\n",
              "      <td>2.0</td>\n",
              "      <td>3.0</td>\n",
              "      <td>0.0</td>\n",
              "      <td>0.0</td>\n",
              "      <td>6.0</td>\n",
              "      <td>0</td>\n",
              "      <td>36416</td>\n",
              "    </tr>\n",
              "    <tr>\n",
              "      <th>1</th>\n",
              "      <td>20061000286</td>\n",
              "      <td>Not Applicable</td>\n",
              "      <td>0200610</td>\n",
              "      <td>52.0</td>\n",
              "      <td>High</td>\n",
              "      <td>60</td>\n",
              "      <td>20.299999</td>\n",
              "      <td>11.9</td>\n",
              "      <td>130.0</td>\n",
              "      <td>111.0</td>\n",
              "      <td>0.539419</td>\n",
              "      <td>0.460581</td>\n",
              "      <td>0.248963</td>\n",
              "      <td>1</td>\n",
              "      <td>ALASKA</td>\n",
              "      <td>2</td>\n",
              "      <td>80.0</td>\n",
              "      <td>52</td>\n",
              "      <td>29.0</td>\n",
              "      <td>10.0</td>\n",
              "      <td>0.0</td>\n",
              "      <td>1.0</td>\n",
              "      <td>7.0</td>\n",
              "      <td>5.0</td>\n",
              "      <td>2.0</td>\n",
              "      <td>20.0</td>\n",
              "      <td>0.0</td>\n",
              "      <td>0.0</td>\n",
              "      <td>5.0</td>\n",
              "      <td>1</td>\n",
              "      <td>36416</td>\n",
              "    </tr>\n",
              "    <tr>\n",
              "      <th>2</th>\n",
              "      <td>20039000513</td>\n",
              "      <td>Yes</td>\n",
              "      <td>0200390</td>\n",
              "      <td>3.0</td>\n",
              "      <td>High</td>\n",
              "      <td>3</td>\n",
              "      <td>1.000000</td>\n",
              "      <td>9.0</td>\n",
              "      <td>7.0</td>\n",
              "      <td>2.0</td>\n",
              "      <td>0.777778</td>\n",
              "      <td>0.222222</td>\n",
              "      <td>0.333333</td>\n",
              "      <td>0</td>\n",
              "      <td>ALASKA</td>\n",
              "      <td>2</td>\n",
              "      <td>50.0</td>\n",
              "      <td>8</td>\n",
              "      <td>2.0</td>\n",
              "      <td>0.0</td>\n",
              "      <td>0.0</td>\n",
              "      <td>0.0</td>\n",
              "      <td>0.0</td>\n",
              "      <td>6.0</td>\n",
              "      <td>3.0</td>\n",
              "      <td>0.0</td>\n",
              "      <td>0.0</td>\n",
              "      <td>0.0</td>\n",
              "      <td>0.0</td>\n",
              "      <td>0</td>\n",
              "      <td>17859</td>\n",
              "    </tr>\n",
              "    <tr>\n",
              "      <th>3</th>\n",
              "      <td>20039000079</td>\n",
              "      <td>Yes</td>\n",
              "      <td>0200390</td>\n",
              "      <td>42.0</td>\n",
              "      <td>High</td>\n",
              "      <td>52</td>\n",
              "      <td>7.000000</td>\n",
              "      <td>9.9</td>\n",
              "      <td>36.0</td>\n",
              "      <td>33.0</td>\n",
              "      <td>0.521739</td>\n",
              "      <td>0.478261</td>\n",
              "      <td>0.753623</td>\n",
              "      <td>0</td>\n",
              "      <td>ALASKA</td>\n",
              "      <td>2</td>\n",
              "      <td>30.0</td>\n",
              "      <td>39</td>\n",
              "      <td>6.0</td>\n",
              "      <td>2.0</td>\n",
              "      <td>0.0</td>\n",
              "      <td>0.0</td>\n",
              "      <td>9.0</td>\n",
              "      <td>22.0</td>\n",
              "      <td>14.0</td>\n",
              "      <td>16.0</td>\n",
              "      <td>0.0</td>\n",
              "      <td>3.0</td>\n",
              "      <td>0.0</td>\n",
              "      <td>0</td>\n",
              "      <td>17859</td>\n",
              "    </tr>\n",
              "    <tr>\n",
              "      <th>4</th>\n",
              "      <td>20039000081</td>\n",
              "      <td>Yes</td>\n",
              "      <td>0200390</td>\n",
              "      <td>15.0</td>\n",
              "      <td>High</td>\n",
              "      <td>28</td>\n",
              "      <td>4.010000</td>\n",
              "      <td>8.5</td>\n",
              "      <td>18.0</td>\n",
              "      <td>16.0</td>\n",
              "      <td>0.529412</td>\n",
              "      <td>0.470588</td>\n",
              "      <td>0.823529</td>\n",
              "      <td>0</td>\n",
              "      <td>ALASKA</td>\n",
              "      <td>2</td>\n",
              "      <td>50.0</td>\n",
              "      <td>10</td>\n",
              "      <td>0.0</td>\n",
              "      <td>0.0</td>\n",
              "      <td>0.0</td>\n",
              "      <td>1.0</td>\n",
              "      <td>2.0</td>\n",
              "      <td>7.0</td>\n",
              "      <td>3.0</td>\n",
              "      <td>6.0</td>\n",
              "      <td>0.0</td>\n",
              "      <td>5.0</td>\n",
              "      <td>0.0</td>\n",
              "      <td>0</td>\n",
              "      <td>17859</td>\n",
              "    </tr>\n",
              "    <tr>\n",
              "      <th>...</th>\n",
              "      <td>...</td>\n",
              "      <td>...</td>\n",
              "      <td>...</td>\n",
              "      <td>...</td>\n",
              "      <td>...</td>\n",
              "      <td>...</td>\n",
              "      <td>...</td>\n",
              "      <td>...</td>\n",
              "      <td>...</td>\n",
              "      <td>...</td>\n",
              "      <td>...</td>\n",
              "      <td>...</td>\n",
              "      <td>...</td>\n",
              "      <td>...</td>\n",
              "      <td>...</td>\n",
              "      <td>...</td>\n",
              "      <td>...</td>\n",
              "      <td>...</td>\n",
              "      <td>...</td>\n",
              "      <td>...</td>\n",
              "      <td>...</td>\n",
              "      <td>...</td>\n",
              "      <td>...</td>\n",
              "      <td>...</td>\n",
              "      <td>...</td>\n",
              "      <td>...</td>\n",
              "      <td>...</td>\n",
              "      <td>...</td>\n",
              "      <td>...</td>\n",
              "      <td>...</td>\n",
              "      <td>...</td>\n",
              "    </tr>\n",
              "    <tr>\n",
              "      <th>17850</th>\n",
              "      <td>500041800540</td>\n",
              "      <td>Yes</td>\n",
              "      <td>5000418</td>\n",
              "      <td>22.0</td>\n",
              "      <td>High</td>\n",
              "      <td>109</td>\n",
              "      <td>23.100000</td>\n",
              "      <td>8.8</td>\n",
              "      <td>105.0</td>\n",
              "      <td>99.0</td>\n",
              "      <td>0.514706</td>\n",
              "      <td>0.485294</td>\n",
              "      <td>0.534314</td>\n",
              "      <td>1</td>\n",
              "      <td>VERMONT</td>\n",
              "      <td>50</td>\n",
              "      <td>80.0</td>\n",
              "      <td>27</td>\n",
              "      <td>0.0</td>\n",
              "      <td>1.0</td>\n",
              "      <td>0.0</td>\n",
              "      <td>0.0</td>\n",
              "      <td>1.0</td>\n",
              "      <td>25.0</td>\n",
              "      <td>11.0</td>\n",
              "      <td>16.0</td>\n",
              "      <td>0.0</td>\n",
              "      <td>0.0</td>\n",
              "      <td>0.0</td>\n",
              "      <td>1</td>\n",
              "      <td>16229</td>\n",
              "    </tr>\n",
              "    <tr>\n",
              "      <th>17851</th>\n",
              "      <td>500042500338</td>\n",
              "      <td>Yes</td>\n",
              "      <td>5000425</td>\n",
              "      <td>108.0</td>\n",
              "      <td>High</td>\n",
              "      <td>188</td>\n",
              "      <td>55.619999</td>\n",
              "      <td>11.3</td>\n",
              "      <td>340.0</td>\n",
              "      <td>287.0</td>\n",
              "      <td>0.542265</td>\n",
              "      <td>0.457735</td>\n",
              "      <td>0.299841</td>\n",
              "      <td>1</td>\n",
              "      <td>VERMONT</td>\n",
              "      <td>50</td>\n",
              "      <td>85.0</td>\n",
              "      <td>121</td>\n",
              "      <td>0.0</td>\n",
              "      <td>1.0</td>\n",
              "      <td>0.0</td>\n",
              "      <td>2.0</td>\n",
              "      <td>3.0</td>\n",
              "      <td>114.0</td>\n",
              "      <td>19.0</td>\n",
              "      <td>42.0</td>\n",
              "      <td>0.0</td>\n",
              "      <td>0.0</td>\n",
              "      <td>0.0</td>\n",
              "      <td>1</td>\n",
              "      <td>20224</td>\n",
              "    </tr>\n",
              "    <tr>\n",
              "      <th>17852</th>\n",
              "      <td>500042600543</td>\n",
              "      <td>Yes</td>\n",
              "      <td>5000426</td>\n",
              "      <td>40.0</td>\n",
              "      <td>High</td>\n",
              "      <td>58</td>\n",
              "      <td>30.150000</td>\n",
              "      <td>6.0</td>\n",
              "      <td>95.0</td>\n",
              "      <td>85.0</td>\n",
              "      <td>0.527778</td>\n",
              "      <td>0.472222</td>\n",
              "      <td>0.322222</td>\n",
              "      <td>1</td>\n",
              "      <td>VERMONT</td>\n",
              "      <td>50</td>\n",
              "      <td>80.0</td>\n",
              "      <td>50</td>\n",
              "      <td>0.0</td>\n",
              "      <td>0.0</td>\n",
              "      <td>0.0</td>\n",
              "      <td>0.0</td>\n",
              "      <td>0.0</td>\n",
              "      <td>49.0</td>\n",
              "      <td>6.0</td>\n",
              "      <td>28.0</td>\n",
              "      <td>0.0</td>\n",
              "      <td>0.0</td>\n",
              "      <td>0.0</td>\n",
              "      <td>1</td>\n",
              "      <td>16039</td>\n",
              "    </tr>\n",
              "    <tr>\n",
              "      <th>17853</th>\n",
              "      <td>500042700348</td>\n",
              "      <td>Yes</td>\n",
              "      <td>5000427</td>\n",
              "      <td>59.0</td>\n",
              "      <td>High</td>\n",
              "      <td>120</td>\n",
              "      <td>27.260000</td>\n",
              "      <td>11.7</td>\n",
              "      <td>146.0</td>\n",
              "      <td>172.0</td>\n",
              "      <td>0.459119</td>\n",
              "      <td>0.540881</td>\n",
              "      <td>0.377358</td>\n",
              "      <td>1</td>\n",
              "      <td>VERMONT</td>\n",
              "      <td>50</td>\n",
              "      <td>85.0</td>\n",
              "      <td>69</td>\n",
              "      <td>0.0</td>\n",
              "      <td>0.0</td>\n",
              "      <td>1.0</td>\n",
              "      <td>1.0</td>\n",
              "      <td>1.0</td>\n",
              "      <td>66.0</td>\n",
              "      <td>18.0</td>\n",
              "      <td>40.0</td>\n",
              "      <td>0.0</td>\n",
              "      <td>5.0</td>\n",
              "      <td>0.0</td>\n",
              "      <td>1</td>\n",
              "      <td>14916</td>\n",
              "    </tr>\n",
              "    <tr>\n",
              "      <th>17854</th>\n",
              "      <td>530381003659</td>\n",
              "      <td>Yes</td>\n",
              "      <td>5303810</td>\n",
              "      <td>84.0</td>\n",
              "      <td>High</td>\n",
              "      <td>90</td>\n",
              "      <td>14.640000</td>\n",
              "      <td>20.8</td>\n",
              "      <td>181.0</td>\n",
              "      <td>124.0</td>\n",
              "      <td>0.593443</td>\n",
              "      <td>0.406557</td>\n",
              "      <td>0.295082</td>\n",
              "      <td>1</td>\n",
              "      <td>WASHINGTON</td>\n",
              "      <td>53</td>\n",
              "      <td>85.0</td>\n",
              "      <td>69</td>\n",
              "      <td>1.0</td>\n",
              "      <td>1.0</td>\n",
              "      <td>4.0</td>\n",
              "      <td>5.0</td>\n",
              "      <td>2.0</td>\n",
              "      <td>56.0</td>\n",
              "      <td>11.0</td>\n",
              "      <td>26.0</td>\n",
              "      <td>0.0</td>\n",
              "      <td>4.0</td>\n",
              "      <td>0.0</td>\n",
              "      <td>1</td>\n",
              "      <td>10626</td>\n",
              "    </tr>\n",
              "  </tbody>\n",
              "</table>\n",
              "<p>16797 rows × 31 columns</p>\n",
              "</div>"
            ],
            "text/plain": [
              "            NCESSCH          TITLEI    LEAID  ...  LEP_COHORT Success_Rate  PPCSTOT\n",
              "0       20061000470             Yes  0200610  ...         6.0            0    36416\n",
              "1       20061000286  Not Applicable  0200610  ...         5.0            1    36416\n",
              "2       20039000513             Yes  0200390  ...         0.0            0    17859\n",
              "3       20039000079             Yes  0200390  ...         0.0            0    17859\n",
              "4       20039000081             Yes  0200390  ...         0.0            0    17859\n",
              "...             ...             ...      ...  ...         ...          ...      ...\n",
              "17850  500041800540             Yes  5000418  ...         0.0            1    16229\n",
              "17851  500042500338             Yes  5000425  ...         0.0            1    20224\n",
              "17852  500042600543             Yes  5000426  ...         0.0            1    16039\n",
              "17853  500042700348             Yes  5000427  ...         0.0            1    14916\n",
              "17854  530381003659             Yes  5303810  ...         0.0            1    10626\n",
              "\n",
              "[16797 rows x 31 columns]"
            ]
          },
          "metadata": {},
          "execution_count": 36
        }
      ]
    },
    {
      "cell_type": "markdown",
      "metadata": {
        "id": "CT99ZFnIvbtJ"
      },
      "source": [
        "Create new df with just NY and DMV data"
      ]
    },
    {
      "cell_type": "code",
      "metadata": {
        "id": "stzGejsPvbFL"
      },
      "source": [
        "#ny_dmv = All_data.loc[(All_data['STNAM'] == 'DISTRICT OF COLUMBIA') | (All_data['STNAM'] == 'NEW YORK') | (All_data['STNAM'] == 'MARYLAND') | (All_data['STNAM'] == 'VIRGINIA')]"
      ],
      "execution_count": null,
      "outputs": []
    },
    {
      "cell_type": "code",
      "metadata": {
        "id": "yrXaoI7Rytcd"
      },
      "source": [
        "#ny_dmv.drop(['STNAM', 'FIPST'], axis=1, inplace=True)"
      ],
      "execution_count": null,
      "outputs": []
    },
    {
      "cell_type": "code",
      "metadata": {
        "id": "khkU9iRoyQpM"
      },
      "source": [
        "#ny_dmv.info()"
      ],
      "execution_count": null,
      "outputs": []
    },
    {
      "cell_type": "markdown",
      "metadata": {
        "id": "tLvsATJlz0UJ"
      },
      "source": [
        "Assessment - Math & Reading 2018-2019"
      ]
    },
    {
      "cell_type": "code",
      "metadata": {
        "id": "l-EIL1Kdzvl8",
        "colab": {
          "base_uri": "https://localhost:8080/",
          "height": 323
        },
        "outputId": "fd3f0272-a0d7-4731-b8e1-b03c586c8a17"
      },
      "source": [
        "Assessment = pd.read_csv('https://www2.ed.gov/about/inits/ed/edfacts/data-files/math-achievement-sch-sy2018-19-wide.csv')"
      ],
      "execution_count": null,
      "outputs": [
        {
          "output_type": "error",
          "ename": "KeyboardInterrupt",
          "evalue": "ignored",
          "traceback": [
            "\u001b[0;31m---------------------------------------------------------------------------\u001b[0m",
            "\u001b[0;31mKeyboardInterrupt\u001b[0m                         Traceback (most recent call last)",
            "\u001b[0;32m<ipython-input-37-1b6763a914bb>\u001b[0m in \u001b[0;36m<module>\u001b[0;34m()\u001b[0m\n\u001b[0;32m----> 1\u001b[0;31m \u001b[0mAssessment\u001b[0m \u001b[0;34m=\u001b[0m \u001b[0mpd\u001b[0m\u001b[0;34m.\u001b[0m\u001b[0mread_csv\u001b[0m\u001b[0;34m(\u001b[0m\u001b[0;34m'https://www2.ed.gov/about/inits/ed/edfacts/data-files/math-achievement-sch-sy2018-19-wide.csv'\u001b[0m\u001b[0;34m)\u001b[0m\u001b[0;34m\u001b[0m\u001b[0;34m\u001b[0m\u001b[0m\n\u001b[0m",
            "\u001b[0;32m/usr/local/lib/python3.7/dist-packages/pandas/io/parsers.py\u001b[0m in \u001b[0;36mread_csv\u001b[0;34m(filepath_or_buffer, sep, delimiter, header, names, index_col, usecols, squeeze, prefix, mangle_dupe_cols, dtype, engine, converters, true_values, false_values, skipinitialspace, skiprows, skipfooter, nrows, na_values, keep_default_na, na_filter, verbose, skip_blank_lines, parse_dates, infer_datetime_format, keep_date_col, date_parser, dayfirst, cache_dates, iterator, chunksize, compression, thousands, decimal, lineterminator, quotechar, quoting, doublequote, escapechar, comment, encoding, dialect, error_bad_lines, warn_bad_lines, delim_whitespace, low_memory, memory_map, float_precision)\u001b[0m\n\u001b[1;32m    686\u001b[0m     )\n\u001b[1;32m    687\u001b[0m \u001b[0;34m\u001b[0m\u001b[0m\n\u001b[0;32m--> 688\u001b[0;31m     \u001b[0;32mreturn\u001b[0m \u001b[0m_read\u001b[0m\u001b[0;34m(\u001b[0m\u001b[0mfilepath_or_buffer\u001b[0m\u001b[0;34m,\u001b[0m \u001b[0mkwds\u001b[0m\u001b[0;34m)\u001b[0m\u001b[0;34m\u001b[0m\u001b[0;34m\u001b[0m\u001b[0m\n\u001b[0m\u001b[1;32m    689\u001b[0m \u001b[0;34m\u001b[0m\u001b[0m\n\u001b[1;32m    690\u001b[0m \u001b[0;34m\u001b[0m\u001b[0m\n",
            "\u001b[0;32m/usr/local/lib/python3.7/dist-packages/pandas/io/parsers.py\u001b[0m in \u001b[0;36m_read\u001b[0;34m(filepath_or_buffer, kwds)\u001b[0m\n\u001b[1;32m    435\u001b[0m     \u001b[0;31m# See https://github.com/python/mypy/issues/1297\u001b[0m\u001b[0;34m\u001b[0m\u001b[0;34m\u001b[0m\u001b[0;34m\u001b[0m\u001b[0m\n\u001b[1;32m    436\u001b[0m     fp_or_buf, _, compression, should_close = get_filepath_or_buffer(\n\u001b[0;32m--> 437\u001b[0;31m         \u001b[0mfilepath_or_buffer\u001b[0m\u001b[0;34m,\u001b[0m \u001b[0mencoding\u001b[0m\u001b[0;34m,\u001b[0m \u001b[0mcompression\u001b[0m\u001b[0;34m\u001b[0m\u001b[0;34m\u001b[0m\u001b[0m\n\u001b[0m\u001b[1;32m    438\u001b[0m     )\n\u001b[1;32m    439\u001b[0m     \u001b[0mkwds\u001b[0m\u001b[0;34m[\u001b[0m\u001b[0;34m\"compression\"\u001b[0m\u001b[0;34m]\u001b[0m \u001b[0;34m=\u001b[0m \u001b[0mcompression\u001b[0m\u001b[0;34m\u001b[0m\u001b[0;34m\u001b[0m\u001b[0m\n",
            "\u001b[0;32m/usr/local/lib/python3.7/dist-packages/pandas/io/common.py\u001b[0m in \u001b[0;36mget_filepath_or_buffer\u001b[0;34m(filepath_or_buffer, encoding, compression, mode, storage_options)\u001b[0m\n\u001b[1;32m    186\u001b[0m             \u001b[0;31m# Override compression based on Content-Encoding header\u001b[0m\u001b[0;34m\u001b[0m\u001b[0;34m\u001b[0m\u001b[0;34m\u001b[0m\u001b[0m\n\u001b[1;32m    187\u001b[0m             \u001b[0mcompression\u001b[0m \u001b[0;34m=\u001b[0m \u001b[0;34m\"gzip\"\u001b[0m\u001b[0;34m\u001b[0m\u001b[0;34m\u001b[0m\u001b[0m\n\u001b[0;32m--> 188\u001b[0;31m         \u001b[0mreader\u001b[0m \u001b[0;34m=\u001b[0m \u001b[0mBytesIO\u001b[0m\u001b[0;34m(\u001b[0m\u001b[0mreq\u001b[0m\u001b[0;34m.\u001b[0m\u001b[0mread\u001b[0m\u001b[0;34m(\u001b[0m\u001b[0;34m)\u001b[0m\u001b[0;34m)\u001b[0m\u001b[0;34m\u001b[0m\u001b[0;34m\u001b[0m\u001b[0m\n\u001b[0m\u001b[1;32m    189\u001b[0m         \u001b[0mreq\u001b[0m\u001b[0;34m.\u001b[0m\u001b[0mclose\u001b[0m\u001b[0;34m(\u001b[0m\u001b[0;34m)\u001b[0m\u001b[0;34m\u001b[0m\u001b[0;34m\u001b[0m\u001b[0m\n\u001b[1;32m    190\u001b[0m         \u001b[0;32mreturn\u001b[0m \u001b[0mreader\u001b[0m\u001b[0;34m,\u001b[0m \u001b[0mencoding\u001b[0m\u001b[0;34m,\u001b[0m \u001b[0mcompression\u001b[0m\u001b[0;34m,\u001b[0m \u001b[0;32mTrue\u001b[0m\u001b[0;34m\u001b[0m\u001b[0;34m\u001b[0m\u001b[0m\n",
            "\u001b[0;32m/usr/lib/python3.7/http/client.py\u001b[0m in \u001b[0;36mread\u001b[0;34m(self, amt)\u001b[0m\n\u001b[1;32m    476\u001b[0m             \u001b[0;32melse\u001b[0m\u001b[0;34m:\u001b[0m\u001b[0;34m\u001b[0m\u001b[0;34m\u001b[0m\u001b[0m\n\u001b[1;32m    477\u001b[0m                 \u001b[0;32mtry\u001b[0m\u001b[0;34m:\u001b[0m\u001b[0;34m\u001b[0m\u001b[0;34m\u001b[0m\u001b[0m\n\u001b[0;32m--> 478\u001b[0;31m                     \u001b[0ms\u001b[0m \u001b[0;34m=\u001b[0m \u001b[0mself\u001b[0m\u001b[0;34m.\u001b[0m\u001b[0m_safe_read\u001b[0m\u001b[0;34m(\u001b[0m\u001b[0mself\u001b[0m\u001b[0;34m.\u001b[0m\u001b[0mlength\u001b[0m\u001b[0;34m)\u001b[0m\u001b[0;34m\u001b[0m\u001b[0;34m\u001b[0m\u001b[0m\n\u001b[0m\u001b[1;32m    479\u001b[0m                 \u001b[0;32mexcept\u001b[0m \u001b[0mIncompleteRead\u001b[0m\u001b[0;34m:\u001b[0m\u001b[0;34m\u001b[0m\u001b[0;34m\u001b[0m\u001b[0m\n\u001b[1;32m    480\u001b[0m                     \u001b[0mself\u001b[0m\u001b[0;34m.\u001b[0m\u001b[0m_close_conn\u001b[0m\u001b[0;34m(\u001b[0m\u001b[0;34m)\u001b[0m\u001b[0;34m\u001b[0m\u001b[0;34m\u001b[0m\u001b[0m\n",
            "\u001b[0;32m/usr/lib/python3.7/http/client.py\u001b[0m in \u001b[0;36m_safe_read\u001b[0;34m(self, amt)\u001b[0m\n\u001b[1;32m    626\u001b[0m         \u001b[0ms\u001b[0m \u001b[0;34m=\u001b[0m \u001b[0;34m[\u001b[0m\u001b[0;34m]\u001b[0m\u001b[0;34m\u001b[0m\u001b[0;34m\u001b[0m\u001b[0m\n\u001b[1;32m    627\u001b[0m         \u001b[0;32mwhile\u001b[0m \u001b[0mamt\u001b[0m \u001b[0;34m>\u001b[0m \u001b[0;36m0\u001b[0m\u001b[0;34m:\u001b[0m\u001b[0;34m\u001b[0m\u001b[0;34m\u001b[0m\u001b[0m\n\u001b[0;32m--> 628\u001b[0;31m             \u001b[0mchunk\u001b[0m \u001b[0;34m=\u001b[0m \u001b[0mself\u001b[0m\u001b[0;34m.\u001b[0m\u001b[0mfp\u001b[0m\u001b[0;34m.\u001b[0m\u001b[0mread\u001b[0m\u001b[0;34m(\u001b[0m\u001b[0mmin\u001b[0m\u001b[0;34m(\u001b[0m\u001b[0mamt\u001b[0m\u001b[0;34m,\u001b[0m \u001b[0mMAXAMOUNT\u001b[0m\u001b[0;34m)\u001b[0m\u001b[0;34m)\u001b[0m\u001b[0;34m\u001b[0m\u001b[0;34m\u001b[0m\u001b[0m\n\u001b[0m\u001b[1;32m    629\u001b[0m             \u001b[0;32mif\u001b[0m \u001b[0;32mnot\u001b[0m \u001b[0mchunk\u001b[0m\u001b[0;34m:\u001b[0m\u001b[0;34m\u001b[0m\u001b[0;34m\u001b[0m\u001b[0m\n\u001b[1;32m    630\u001b[0m                 \u001b[0;32mraise\u001b[0m \u001b[0mIncompleteRead\u001b[0m\u001b[0;34m(\u001b[0m\u001b[0;34mb''\u001b[0m\u001b[0;34m.\u001b[0m\u001b[0mjoin\u001b[0m\u001b[0;34m(\u001b[0m\u001b[0ms\u001b[0m\u001b[0;34m)\u001b[0m\u001b[0;34m,\u001b[0m \u001b[0mamt\u001b[0m\u001b[0;34m)\u001b[0m\u001b[0;34m\u001b[0m\u001b[0;34m\u001b[0m\u001b[0m\n",
            "\u001b[0;32m/usr/lib/python3.7/socket.py\u001b[0m in \u001b[0;36mreadinto\u001b[0;34m(self, b)\u001b[0m\n\u001b[1;32m    587\u001b[0m         \u001b[0;32mwhile\u001b[0m \u001b[0;32mTrue\u001b[0m\u001b[0;34m:\u001b[0m\u001b[0;34m\u001b[0m\u001b[0;34m\u001b[0m\u001b[0m\n\u001b[1;32m    588\u001b[0m             \u001b[0;32mtry\u001b[0m\u001b[0;34m:\u001b[0m\u001b[0;34m\u001b[0m\u001b[0;34m\u001b[0m\u001b[0m\n\u001b[0;32m--> 589\u001b[0;31m                 \u001b[0;32mreturn\u001b[0m \u001b[0mself\u001b[0m\u001b[0;34m.\u001b[0m\u001b[0m_sock\u001b[0m\u001b[0;34m.\u001b[0m\u001b[0mrecv_into\u001b[0m\u001b[0;34m(\u001b[0m\u001b[0mb\u001b[0m\u001b[0;34m)\u001b[0m\u001b[0;34m\u001b[0m\u001b[0;34m\u001b[0m\u001b[0m\n\u001b[0m\u001b[1;32m    590\u001b[0m             \u001b[0;32mexcept\u001b[0m \u001b[0mtimeout\u001b[0m\u001b[0;34m:\u001b[0m\u001b[0;34m\u001b[0m\u001b[0;34m\u001b[0m\u001b[0m\n\u001b[1;32m    591\u001b[0m                 \u001b[0mself\u001b[0m\u001b[0;34m.\u001b[0m\u001b[0m_timeout_occurred\u001b[0m \u001b[0;34m=\u001b[0m \u001b[0;32mTrue\u001b[0m\u001b[0;34m\u001b[0m\u001b[0;34m\u001b[0m\u001b[0m\n",
            "\u001b[0;32m/usr/lib/python3.7/ssl.py\u001b[0m in \u001b[0;36mrecv_into\u001b[0;34m(self, buffer, nbytes, flags)\u001b[0m\n\u001b[1;32m   1069\u001b[0m                   \u001b[0;34m\"non-zero flags not allowed in calls to recv_into() on %s\"\u001b[0m \u001b[0;34m%\u001b[0m\u001b[0;34m\u001b[0m\u001b[0;34m\u001b[0m\u001b[0m\n\u001b[1;32m   1070\u001b[0m                   self.__class__)\n\u001b[0;32m-> 1071\u001b[0;31m             \u001b[0;32mreturn\u001b[0m \u001b[0mself\u001b[0m\u001b[0;34m.\u001b[0m\u001b[0mread\u001b[0m\u001b[0;34m(\u001b[0m\u001b[0mnbytes\u001b[0m\u001b[0;34m,\u001b[0m \u001b[0mbuffer\u001b[0m\u001b[0;34m)\u001b[0m\u001b[0;34m\u001b[0m\u001b[0;34m\u001b[0m\u001b[0m\n\u001b[0m\u001b[1;32m   1072\u001b[0m         \u001b[0;32melse\u001b[0m\u001b[0;34m:\u001b[0m\u001b[0;34m\u001b[0m\u001b[0;34m\u001b[0m\u001b[0m\n\u001b[1;32m   1073\u001b[0m             \u001b[0;32mreturn\u001b[0m \u001b[0msuper\u001b[0m\u001b[0;34m(\u001b[0m\u001b[0;34m)\u001b[0m\u001b[0;34m.\u001b[0m\u001b[0mrecv_into\u001b[0m\u001b[0;34m(\u001b[0m\u001b[0mbuffer\u001b[0m\u001b[0;34m,\u001b[0m \u001b[0mnbytes\u001b[0m\u001b[0;34m,\u001b[0m \u001b[0mflags\u001b[0m\u001b[0;34m)\u001b[0m\u001b[0;34m\u001b[0m\u001b[0;34m\u001b[0m\u001b[0m\n",
            "\u001b[0;32m/usr/lib/python3.7/ssl.py\u001b[0m in \u001b[0;36mread\u001b[0;34m(self, len, buffer)\u001b[0m\n\u001b[1;32m    927\u001b[0m         \u001b[0;32mtry\u001b[0m\u001b[0;34m:\u001b[0m\u001b[0;34m\u001b[0m\u001b[0;34m\u001b[0m\u001b[0m\n\u001b[1;32m    928\u001b[0m             \u001b[0;32mif\u001b[0m \u001b[0mbuffer\u001b[0m \u001b[0;32mis\u001b[0m \u001b[0;32mnot\u001b[0m \u001b[0;32mNone\u001b[0m\u001b[0;34m:\u001b[0m\u001b[0;34m\u001b[0m\u001b[0;34m\u001b[0m\u001b[0m\n\u001b[0;32m--> 929\u001b[0;31m                 \u001b[0;32mreturn\u001b[0m \u001b[0mself\u001b[0m\u001b[0;34m.\u001b[0m\u001b[0m_sslobj\u001b[0m\u001b[0;34m.\u001b[0m\u001b[0mread\u001b[0m\u001b[0;34m(\u001b[0m\u001b[0mlen\u001b[0m\u001b[0;34m,\u001b[0m \u001b[0mbuffer\u001b[0m\u001b[0;34m)\u001b[0m\u001b[0;34m\u001b[0m\u001b[0;34m\u001b[0m\u001b[0m\n\u001b[0m\u001b[1;32m    930\u001b[0m             \u001b[0;32melse\u001b[0m\u001b[0;34m:\u001b[0m\u001b[0;34m\u001b[0m\u001b[0;34m\u001b[0m\u001b[0m\n\u001b[1;32m    931\u001b[0m                 \u001b[0;32mreturn\u001b[0m \u001b[0mself\u001b[0m\u001b[0;34m.\u001b[0m\u001b[0m_sslobj\u001b[0m\u001b[0;34m.\u001b[0m\u001b[0mread\u001b[0m\u001b[0;34m(\u001b[0m\u001b[0mlen\u001b[0m\u001b[0;34m)\u001b[0m\u001b[0;34m\u001b[0m\u001b[0;34m\u001b[0m\u001b[0m\n",
            "\u001b[0;31mKeyboardInterrupt\u001b[0m: "
          ]
        }
      ]
    },
    {
      "cell_type": "code",
      "metadata": {
        "id": "uFpMNNCC6aba"
      },
      "source": [
        "Assessment = Assessment[['NCESSCH', 'ALL_MTHHSnumvalid_1819', 'ALL_MTHHSpctprof_1819']]"
      ],
      "execution_count": null,
      "outputs": []
    },
    {
      "cell_type": "code",
      "metadata": {
        "colab": {
          "base_uri": "https://localhost:8080/"
        },
        "id": "GlsWV3-yzKjN",
        "outputId": "5e6c9df6-e8db-4dfe-85b8-7594a5650cb8"
      },
      "source": [
        "Assessment.columns"
      ],
      "execution_count": null,
      "outputs": [
        {
          "output_type": "execute_result",
          "data": {
            "text/plain": [
              "Index(['NCESSCH', 'ALL_MTHHSnumvalid_1819', 'ALL_MTHHSpctprof_1819'], dtype='object')"
            ]
          },
          "metadata": {},
          "execution_count": 42
        }
      ]
    },
    {
      "cell_type": "code",
      "metadata": {
        "id": "BE8OxPbe7mxf"
      },
      "source": [
        "Assessment.columns = Assessment.columns.str.rstrip('_1819')"
      ],
      "execution_count": null,
      "outputs": []
    },
    {
      "cell_type": "code",
      "metadata": {
        "colab": {
          "base_uri": "https://localhost:8080/"
        },
        "id": "dionIS_N7NdF",
        "outputId": "40fa958f-a4aa-424f-fd6e-04ff367b52dc"
      },
      "source": [
        "column_list = Assessment.columns.to_list()\n",
        "column_list"
      ],
      "execution_count": null,
      "outputs": [
        {
          "output_type": "execute_result",
          "data": {
            "text/plain": [
              "['NCESSCH', 'ALL_MTHHSnumvalid', 'ALL_MTHHSpctprof']"
            ]
          },
          "metadata": {},
          "execution_count": 44
        }
      ]
    },
    {
      "cell_type": "code",
      "metadata": {
        "colab": {
          "base_uri": "https://localhost:8080/"
        },
        "id": "M4J5YV21tsQR",
        "outputId": "89783a08-7826-42ac-e0ba-9afcb5d1cb5b"
      },
      "source": [
        "Assessment.info()"
      ],
      "execution_count": null,
      "outputs": [
        {
          "output_type": "stream",
          "name": "stdout",
          "text": [
            "<class 'pandas.core.frame.DataFrame'>\n",
            "RangeIndex: 90278 entries, 0 to 90277\n",
            "Data columns (total 3 columns):\n",
            " #   Column             Non-Null Count  Dtype \n",
            "---  ------             --------------  ----- \n",
            " 0   NCESSCH            90278 non-null  int64 \n",
            " 1   ALL_MTHHSnumvalid  25285 non-null  object\n",
            " 2   ALL_MTHHSpctprof   24597 non-null  object\n",
            "dtypes: int64(1), object(2)\n",
            "memory usage: 2.1+ MB\n"
          ]
        }
      ]
    },
    {
      "cell_type": "code",
      "metadata": {
        "colab": {
          "base_uri": "https://localhost:8080/",
          "height": 206
        },
        "id": "oXfaVaAVvWbl",
        "outputId": "4d951a61-6b9d-4748-d86c-be29fb013152"
      },
      "source": [
        "Assessment.head()"
      ],
      "execution_count": null,
      "outputs": [
        {
          "output_type": "execute_result",
          "data": {
            "text/html": [
              "<div>\n",
              "<style scoped>\n",
              "    .dataframe tbody tr th:only-of-type {\n",
              "        vertical-align: middle;\n",
              "    }\n",
              "\n",
              "    .dataframe tbody tr th {\n",
              "        vertical-align: top;\n",
              "    }\n",
              "\n",
              "    .dataframe thead th {\n",
              "        text-align: right;\n",
              "    }\n",
              "</style>\n",
              "<table border=\"1\" class=\"dataframe\">\n",
              "  <thead>\n",
              "    <tr style=\"text-align: right;\">\n",
              "      <th></th>\n",
              "      <th>NCESSCH</th>\n",
              "      <th>ALL_MTHHSnumvalid</th>\n",
              "      <th>ALL_MTHHSpctprof</th>\n",
              "    </tr>\n",
              "  </thead>\n",
              "  <tbody>\n",
              "    <tr>\n",
              "      <th>0</th>\n",
              "      <td>10000500870</td>\n",
              "      <td>NaN</td>\n",
              "      <td>NaN</td>\n",
              "    </tr>\n",
              "    <tr>\n",
              "      <th>1</th>\n",
              "      <td>10000500871</td>\n",
              "      <td>317</td>\n",
              "      <td>39</td>\n",
              "    </tr>\n",
              "    <tr>\n",
              "      <th>2</th>\n",
              "      <td>10000500879</td>\n",
              "      <td>NaN</td>\n",
              "      <td>NaN</td>\n",
              "    </tr>\n",
              "    <tr>\n",
              "      <th>3</th>\n",
              "      <td>10000500889</td>\n",
              "      <td>NaN</td>\n",
              "      <td>NaN</td>\n",
              "    </tr>\n",
              "    <tr>\n",
              "      <th>4</th>\n",
              "      <td>10000600193</td>\n",
              "      <td>NaN</td>\n",
              "      <td>NaN</td>\n",
              "    </tr>\n",
              "  </tbody>\n",
              "</table>\n",
              "</div>"
            ],
            "text/plain": [
              "       NCESSCH ALL_MTHHSnumvalid ALL_MTHHSpctprof\n",
              "0  10000500870               NaN              NaN\n",
              "1  10000500871               317               39\n",
              "2  10000500879               NaN              NaN\n",
              "3  10000500889               NaN              NaN\n",
              "4  10000600193               NaN              NaN"
            ]
          },
          "metadata": {},
          "execution_count": 46
        }
      ]
    },
    {
      "cell_type": "code",
      "metadata": {
        "id": "7raN7GtMDKR0"
      },
      "source": [
        "# Nulls are elementary and middle school with no high school data\n",
        "Assessment = Assessment.dropna()"
      ],
      "execution_count": null,
      "outputs": []
    },
    {
      "cell_type": "code",
      "metadata": {
        "colab": {
          "base_uri": "https://localhost:8080/"
        },
        "id": "MahWAQ21tyK5",
        "outputId": "6ead8e20-5a38-48f8-c5de-ea3bd1a3f470"
      },
      "source": [
        "Assessment['NCESSCH'].nunique()"
      ],
      "execution_count": null,
      "outputs": [
        {
          "output_type": "execute_result",
          "data": {
            "text/plain": [
              "24597"
            ]
          },
          "metadata": {},
          "execution_count": 48
        }
      ]
    },
    {
      "cell_type": "code",
      "metadata": {
        "id": "M0l1MB9lcFTg"
      },
      "source": [
        "Assessment['ALL_MTHHSpctprof'] =Assessment['ALL_MTHHSpctprof'].str.split('-').str[0]\n",
        "Assessment['ALL_MTHHSpctprof'] = Assessment[\"ALL_MTHHSpctprof\"].str.replace(r'\\D', '')\n",
        "Assessment['ALL_MTHHSpctprof'] = Assessment[\"ALL_MTHHSpctprof\"].apply(pd.to_numeric)\n",
        "Assessment['ALL_MTHHSpctprof'] = Assessment['ALL_MTHHSpctprof'].fillna(Assessment['ALL_MTHHSpctprof'].mean())"
      ],
      "execution_count": null,
      "outputs": []
    },
    {
      "cell_type": "code",
      "metadata": {
        "id": "8MrpLq6XQjF0"
      },
      "source": [
        "Assessment['ALL_MTHHSnumvalid'] = Assessment['ALL_MTHHSnumvalid'].str.split('.').str[0]\n",
        "Assessment['ALL_MTHHSnumvalid'] = Assessment[\"ALL_MTHHSnumvalid\"].apply(pd.to_numeric)\n",
        "Assessment['ALL_MTHHSnumvalid'] = Assessment['ALL_MTHHSnumvalid'].fillna(Assessment['ALL_MTHHSpctprof'].mean())"
      ],
      "execution_count": null,
      "outputs": []
    },
    {
      "cell_type": "markdown",
      "metadata": {
        "id": "Te1LSnczz9MF"
      },
      "source": [
        "Math Assessment data merged to other data"
      ]
    },
    {
      "cell_type": "code",
      "metadata": {
        "id": "sMGT4NQ-QZAm"
      },
      "source": [
        "all_math = pd.merge(All_data, Assessment, on=\"NCESSCH\")"
      ],
      "execution_count": null,
      "outputs": []
    },
    {
      "cell_type": "code",
      "metadata": {
        "colab": {
          "base_uri": "https://localhost:8080/"
        },
        "id": "K2u9DiOWQep5",
        "outputId": "d3f9c6f9-3d02-4e08-dbb6-c2afc8a4da13"
      },
      "source": [
        "all_math.info()"
      ],
      "execution_count": null,
      "outputs": [
        {
          "output_type": "stream",
          "name": "stdout",
          "text": [
            "<class 'pandas.core.frame.DataFrame'>\n",
            "Int64Index: 17341 entries, 0 to 17340\n",
            "Data columns (total 33 columns):\n",
            " #   Column             Non-Null Count  Dtype  \n",
            "---  ------             --------------  -----  \n",
            " 0   NCESSCH            17341 non-null  int64  \n",
            " 1   TITLEI             17341 non-null  object \n",
            " 2   LEAID              17341 non-null  object \n",
            " 3   G12                17330 non-null  float64\n",
            " 4   SCHOOL_LEVEL       17341 non-null  object \n",
            " 5   TOTFRL             17341 non-null  int64  \n",
            " 6   FTE                17046 non-null  float64\n",
            " 7   STUTERATIO         16935 non-null  float64\n",
            " 8   TOTMENROL          17324 non-null  float64\n",
            " 9   TOTFENROL          17325 non-null  float64\n",
            " 10  PCT_MEN            17155 non-null  float64\n",
            " 11  PCT_FEN            17155 non-null  float64\n",
            " 12  PCT_FRL            17319 non-null  float64\n",
            " 13  SCHOOL_TYPE        17341 non-null  int64  \n",
            " 14  STNAM              17341 non-null  object \n",
            " 15  FIPST              17341 non-null  int64  \n",
            " 16  ALL_RATE           16830 non-null  float64\n",
            " 17  ALL_COHORT         17341 non-null  int64  \n",
            " 18  MAM_COHORT         17341 non-null  float64\n",
            " 19  MAS_COHORT         17341 non-null  float64\n",
            " 20  MBL_COHORT         17341 non-null  float64\n",
            " 21  MHI_COHORT         17341 non-null  float64\n",
            " 22  MTR_COHORT         17341 non-null  float64\n",
            " 23  MWH_COHORT         17341 non-null  float64\n",
            " 24  CWD_COHORT         17341 non-null  float64\n",
            " 25  ECD_COHORT         17341 non-null  float64\n",
            " 26  FCS_COHORT         17341 non-null  float64\n",
            " 27  HOM_COHORT         17341 non-null  float64\n",
            " 28  LEP_COHORT         17341 non-null  float64\n",
            " 29  Success_Rate       17341 non-null  int64  \n",
            " 30  PPCSTOT            17341 non-null  int64  \n",
            " 31  ALL_MTHHSnumvalid  17341 non-null  float64\n",
            " 32  ALL_MTHHSpctprof   17341 non-null  float64\n",
            "dtypes: float64(22), int64(7), object(4)\n",
            "memory usage: 4.5+ MB\n"
          ]
        }
      ]
    },
    {
      "cell_type": "markdown",
      "metadata": {
        "id": "rSN5lOQOIuAL"
      },
      "source": [
        "Do the same for reading data "
      ]
    },
    {
      "cell_type": "code",
      "metadata": {
        "id": "38LHtZJyItNq"
      },
      "source": [
        "Assessment1 = pd.read_csv('https://www2.ed.gov/about/inits/ed/edfacts/data-files/rla-achievement-sch-sy2018-19-wide.csv')"
      ],
      "execution_count": null,
      "outputs": []
    },
    {
      "cell_type": "code",
      "metadata": {
        "colab": {
          "base_uri": "https://localhost:8080/"
        },
        "id": "dyxKtDJhKpMB",
        "outputId": "b3e4e804-d1b3-4e0c-f5fe-c80a4413ba40"
      },
      "source": [
        "Assessment1.columns"
      ],
      "execution_count": null,
      "outputs": [
        {
          "output_type": "execute_result",
          "data": {
            "text/plain": [
              "Index(['STNAM', 'FIPST', 'LEANM', 'LEAID', 'ST_LEAID', 'NCESSCH', 'ST_SCHID',\n",
              "       'SCHNAM', 'DATE_CUR', 'ALL_RLA00numvalid_1819',\n",
              "       ...\n",
              "       'MIL_RLA05numvalid_1819', 'MIL_RLA05pctprof_1819',\n",
              "       'MIL_RLA06numvalid_1819', 'MIL_RLA06pctprof_1819',\n",
              "       'MIL_RLA07numvalid_1819', 'MIL_RLA07pctprof_1819',\n",
              "       'MIL_RLA08numvalid_1819', 'MIL_RLA08pctprof_1819',\n",
              "       'MIL_RLAHSnumvalid_1819', 'MIL_RLAHSpctprof_1819'],\n",
              "      dtype='object', length=265)"
            ]
          },
          "metadata": {},
          "execution_count": 54
        }
      ]
    },
    {
      "cell_type": "code",
      "metadata": {
        "id": "Nv9yKvJlKzAr"
      },
      "source": [
        "Assessment1.columns = Assessment1.columns.str.rstrip('_1819')"
      ],
      "execution_count": null,
      "outputs": []
    },
    {
      "cell_type": "code",
      "metadata": {
        "id": "wzIpDK6FKCiL"
      },
      "source": [
        "Assessment1 = Assessment1[['NCESSCH', 'ALL_RLAHSnumvalid', 'ALL_RLAHSpctprof']]"
      ],
      "execution_count": null,
      "outputs": []
    },
    {
      "cell_type": "code",
      "metadata": {
        "id": "-KkUusKQK9Y8"
      },
      "source": [
        "Assessment1 = Assessment1.dropna()"
      ],
      "execution_count": null,
      "outputs": []
    },
    {
      "cell_type": "code",
      "metadata": {
        "id": "mnneLZ2zLVOz"
      },
      "source": [
        "Assessment1['ALL_RLAHSpctprof'] = Assessment1['ALL_RLAHSpctprof'].str.split('-').str[0]\n",
        "Assessment1['ALL_RLAHSpctprof'] = Assessment1['ALL_RLAHSpctprof'].str.replace(r'\\D', '')\n",
        "Assessment1['ALL_RLAHSpctprof'] = Assessment1['ALL_RLAHSpctprof'].apply(pd.to_numeric)\n",
        "Assessment1['ALL_RLAHSpctprof'] = Assessment1['ALL_RLAHSpctprof'].fillna(Assessment1['ALL_RLAHSpctprof'].mean())"
      ],
      "execution_count": null,
      "outputs": []
    },
    {
      "cell_type": "code",
      "metadata": {
        "id": "fHNNSSAhRaHt"
      },
      "source": [
        "Assessment1['ALL_RLAHSnumvalid'] = Assessment1['ALL_RLAHSnumvalid'].str.split('.').str[0]\n",
        "Assessment1['ALL_RLAHSnumvalid'] = Assessment1['ALL_RLAHSnumvalid'].apply(pd.to_numeric)\n",
        "Assessment1['ALL_RLAHSnumvalid'] = Assessment1['ALL_RLAHSnumvalid'].fillna(Assessment1['ALL_RLAHSpctprof'].mean())"
      ],
      "execution_count": null,
      "outputs": []
    },
    {
      "cell_type": "code",
      "metadata": {
        "id": "sr9dPpXSL6S-"
      },
      "source": [
        "all_assessments = pd.merge(all_math, Assessment1, on=\"NCESSCH\")"
      ],
      "execution_count": null,
      "outputs": []
    },
    {
      "cell_type": "code",
      "metadata": {
        "id": "MHXxmTFGMtqJ"
      },
      "source": [
        "all_assessments =all_assessments.rename(columns={\"ALL_MTHHSnumvalid\": \"MATH_NUM\", \"ALL_MTHHSpctprof\": \"MATH_PCT\", \"ALL_RLAHSnumvalid\": \"READ_NUM\", \"ALL_RLAHSpctprof\": \"READ_PCT\"})"
      ],
      "execution_count": null,
      "outputs": []
    },
    {
      "cell_type": "code",
      "metadata": {
        "id": "rpLnPMU3Mnhz",
        "colab": {
          "base_uri": "https://localhost:8080/"
        },
        "outputId": "78a9f104-b3d2-453a-ce2c-759b456943a7"
      },
      "source": [
        "all_assessments.info()"
      ],
      "execution_count": null,
      "outputs": [
        {
          "output_type": "stream",
          "name": "stdout",
          "text": [
            "<class 'pandas.core.frame.DataFrame'>\n",
            "Int64Index: 17174 entries, 0 to 17173\n",
            "Data columns (total 35 columns):\n",
            " #   Column        Non-Null Count  Dtype  \n",
            "---  ------        --------------  -----  \n",
            " 0   NCESSCH       17174 non-null  int64  \n",
            " 1   TITLEI        17174 non-null  object \n",
            " 2   LEAID         17174 non-null  object \n",
            " 3   G12           17163 non-null  float64\n",
            " 4   SCHOOL_LEVEL  17174 non-null  object \n",
            " 5   TOTFRL        17174 non-null  int64  \n",
            " 6   FTE           16889 non-null  float64\n",
            " 7   STUTERATIO    16779 non-null  float64\n",
            " 8   TOTMENROL     17157 non-null  float64\n",
            " 9   TOTFENROL     17158 non-null  float64\n",
            " 10  PCT_MEN       16989 non-null  float64\n",
            " 11  PCT_FEN       16989 non-null  float64\n",
            " 12  PCT_FRL       17152 non-null  float64\n",
            " 13  SCHOOL_TYPE   17174 non-null  int64  \n",
            " 14  STNAM         17174 non-null  object \n",
            " 15  FIPST         17174 non-null  int64  \n",
            " 16  ALL_RATE      16678 non-null  float64\n",
            " 17  ALL_COHORT    17174 non-null  int64  \n",
            " 18  MAM_COHORT    17174 non-null  float64\n",
            " 19  MAS_COHORT    17174 non-null  float64\n",
            " 20  MBL_COHORT    17174 non-null  float64\n",
            " 21  MHI_COHORT    17174 non-null  float64\n",
            " 22  MTR_COHORT    17174 non-null  float64\n",
            " 23  MWH_COHORT    17174 non-null  float64\n",
            " 24  CWD_COHORT    17174 non-null  float64\n",
            " 25  ECD_COHORT    17174 non-null  float64\n",
            " 26  FCS_COHORT    17174 non-null  float64\n",
            " 27  HOM_COHORT    17174 non-null  float64\n",
            " 28  LEP_COHORT    17174 non-null  float64\n",
            " 29  Success_Rate  17174 non-null  int64  \n",
            " 30  PPCSTOT       17174 non-null  int64  \n",
            " 31  MATH_NUM      17174 non-null  float64\n",
            " 32  MATH_PCT      17174 non-null  float64\n",
            " 33  READ_NUM      17174 non-null  float64\n",
            " 34  READ_PCT      17174 non-null  float64\n",
            "dtypes: float64(24), int64(7), object(4)\n",
            "memory usage: 4.7+ MB\n"
          ]
        }
      ]
    },
    {
      "cell_type": "code",
      "metadata": {
        "id": "FegGZjEeUFsT"
      },
      "source": [
        "all_assessments['PCT_MEN'] = all_assessments['PCT_MEN'].fillna(all_assessments['PCT_MEN'].mean())\n",
        "all_assessments['PCT_FEN'] = all_assessments['PCT_MEN'].fillna(all_assessments['PCT_FEN'].mean())\n",
        "all_assessments['ALL_RATE'] = all_assessments['ALL_RATE'].fillna(all_assessments['ALL_RATE'].mean())\n",
        "all_assessments['FTE'] = all_assessments['FTE'].fillna(all_assessments['FTE'].mean())"
      ],
      "execution_count": null,
      "outputs": []
    },
    {
      "cell_type": "markdown",
      "metadata": {
        "id": "6Ihu8I94nNtM"
      },
      "source": [
        "Created separate NY and DMV dataframe"
      ]
    },
    {
      "cell_type": "code",
      "metadata": {
        "colab": {
          "base_uri": "https://localhost:8080/",
          "height": 313
        },
        "id": "sKeZHoQqson2",
        "outputId": "97a45bc2-9142-440d-8837-b739f75ce050"
      },
      "source": [
        "NY = all_assessments.loc[(all_assessments['STNAM'] == 'NEW YORK')]\n",
        "NY.head()"
      ],
      "execution_count": null,
      "outputs": [
        {
          "output_type": "execute_result",
          "data": {
            "text/html": [
              "<div>\n",
              "<style scoped>\n",
              "    .dataframe tbody tr th:only-of-type {\n",
              "        vertical-align: middle;\n",
              "    }\n",
              "\n",
              "    .dataframe tbody tr th {\n",
              "        vertical-align: top;\n",
              "    }\n",
              "\n",
              "    .dataframe thead th {\n",
              "        text-align: right;\n",
              "    }\n",
              "</style>\n",
              "<table border=\"1\" class=\"dataframe\">\n",
              "  <thead>\n",
              "    <tr style=\"text-align: right;\">\n",
              "      <th></th>\n",
              "      <th>NCESSCH</th>\n",
              "      <th>TITLEI</th>\n",
              "      <th>LEAID</th>\n",
              "      <th>G12</th>\n",
              "      <th>SCHOOL_LEVEL</th>\n",
              "      <th>TOTFRL</th>\n",
              "      <th>FTE</th>\n",
              "      <th>STUTERATIO</th>\n",
              "      <th>TOTMENROL</th>\n",
              "      <th>TOTFENROL</th>\n",
              "      <th>PCT_MEN</th>\n",
              "      <th>PCT_FEN</th>\n",
              "      <th>PCT_FRL</th>\n",
              "      <th>SCHOOL_TYPE</th>\n",
              "      <th>STNAM</th>\n",
              "      <th>FIPST</th>\n",
              "      <th>ALL_RATE</th>\n",
              "      <th>ALL_COHORT</th>\n",
              "      <th>MAM_COHORT</th>\n",
              "      <th>MAS_COHORT</th>\n",
              "      <th>MBL_COHORT</th>\n",
              "      <th>MHI_COHORT</th>\n",
              "      <th>MTR_COHORT</th>\n",
              "      <th>MWH_COHORT</th>\n",
              "      <th>CWD_COHORT</th>\n",
              "      <th>ECD_COHORT</th>\n",
              "      <th>FCS_COHORT</th>\n",
              "      <th>HOM_COHORT</th>\n",
              "      <th>LEP_COHORT</th>\n",
              "      <th>Success_Rate</th>\n",
              "      <th>PPCSTOT</th>\n",
              "      <th>MATH_NUM</th>\n",
              "      <th>MATH_PCT</th>\n",
              "      <th>READ_NUM</th>\n",
              "      <th>READ_PCT</th>\n",
              "    </tr>\n",
              "  </thead>\n",
              "  <tbody>\n",
              "    <tr>\n",
              "      <th>10560</th>\n",
              "      <td>361938005859</td>\n",
              "      <td>Not Applicable</td>\n",
              "      <td>3619380</td>\n",
              "      <td>84.0</td>\n",
              "      <td>High</td>\n",
              "      <td>85</td>\n",
              "      <td>27.020000</td>\n",
              "      <td>11.4</td>\n",
              "      <td>133.0</td>\n",
              "      <td>175.0</td>\n",
              "      <td>0.431818</td>\n",
              "      <td>0.431818</td>\n",
              "      <td>0.275974</td>\n",
              "      <td>1</td>\n",
              "      <td>NEW YORK</td>\n",
              "      <td>36</td>\n",
              "      <td>95.0</td>\n",
              "      <td>78</td>\n",
              "      <td>0.0</td>\n",
              "      <td>1.0</td>\n",
              "      <td>2.0</td>\n",
              "      <td>7.0</td>\n",
              "      <td>3.0</td>\n",
              "      <td>65.0</td>\n",
              "      <td>12.0</td>\n",
              "      <td>25.0</td>\n",
              "      <td>0.0</td>\n",
              "      <td>0.0</td>\n",
              "      <td>0.0</td>\n",
              "      <td>1</td>\n",
              "      <td>28407</td>\n",
              "      <td>40.504172</td>\n",
              "      <td>95.0</td>\n",
              "      <td>50.594066</td>\n",
              "      <td>95.0</td>\n",
              "    </tr>\n",
              "    <tr>\n",
              "      <th>10561</th>\n",
              "      <td>360585005857</td>\n",
              "      <td>Yes</td>\n",
              "      <td>3605850</td>\n",
              "      <td>135.0</td>\n",
              "      <td>High</td>\n",
              "      <td>585</td>\n",
              "      <td>51.009998</td>\n",
              "      <td>14.3</td>\n",
              "      <td>364.0</td>\n",
              "      <td>366.0</td>\n",
              "      <td>0.498630</td>\n",
              "      <td>0.498630</td>\n",
              "      <td>0.801370</td>\n",
              "      <td>1</td>\n",
              "      <td>NEW YORK</td>\n",
              "      <td>36</td>\n",
              "      <td>50.0</td>\n",
              "      <td>152</td>\n",
              "      <td>3.0</td>\n",
              "      <td>7.0</td>\n",
              "      <td>123.0</td>\n",
              "      <td>12.0</td>\n",
              "      <td>2.0</td>\n",
              "      <td>5.0</td>\n",
              "      <td>34.0</td>\n",
              "      <td>121.0</td>\n",
              "      <td>0.0</td>\n",
              "      <td>5.0</td>\n",
              "      <td>11.0</td>\n",
              "      <td>0</td>\n",
              "      <td>21573</td>\n",
              "      <td>40.504172</td>\n",
              "      <td>70.0</td>\n",
              "      <td>50.594066</td>\n",
              "      <td>70.0</td>\n",
              "    </tr>\n",
              "    <tr>\n",
              "      <th>10562</th>\n",
              "      <td>360585000297</td>\n",
              "      <td>Yes</td>\n",
              "      <td>3605850</td>\n",
              "      <td>120.0</td>\n",
              "      <td>High</td>\n",
              "      <td>434</td>\n",
              "      <td>67.019997</td>\n",
              "      <td>10.8</td>\n",
              "      <td>219.0</td>\n",
              "      <td>505.0</td>\n",
              "      <td>0.302486</td>\n",
              "      <td>0.302486</td>\n",
              "      <td>0.599448</td>\n",
              "      <td>1</td>\n",
              "      <td>NEW YORK</td>\n",
              "      <td>36</td>\n",
              "      <td>90.0</td>\n",
              "      <td>102</td>\n",
              "      <td>1.0</td>\n",
              "      <td>1.0</td>\n",
              "      <td>63.0</td>\n",
              "      <td>13.0</td>\n",
              "      <td>2.0</td>\n",
              "      <td>22.0</td>\n",
              "      <td>11.0</td>\n",
              "      <td>53.0</td>\n",
              "      <td>0.0</td>\n",
              "      <td>6.0</td>\n",
              "      <td>0.0</td>\n",
              "      <td>1</td>\n",
              "      <td>21573</td>\n",
              "      <td>40.504172</td>\n",
              "      <td>75.0</td>\n",
              "      <td>50.594066</td>\n",
              "      <td>80.0</td>\n",
              "    </tr>\n",
              "    <tr>\n",
              "      <th>10563</th>\n",
              "      <td>360585000301</td>\n",
              "      <td>Yes</td>\n",
              "      <td>3605850</td>\n",
              "      <td>110.0</td>\n",
              "      <td>High</td>\n",
              "      <td>396</td>\n",
              "      <td>47.009998</td>\n",
              "      <td>10.5</td>\n",
              "      <td>331.0</td>\n",
              "      <td>163.0</td>\n",
              "      <td>0.670040</td>\n",
              "      <td>0.670040</td>\n",
              "      <td>0.801619</td>\n",
              "      <td>0</td>\n",
              "      <td>NEW YORK</td>\n",
              "      <td>36</td>\n",
              "      <td>45.0</td>\n",
              "      <td>143</td>\n",
              "      <td>1.0</td>\n",
              "      <td>7.0</td>\n",
              "      <td>107.0</td>\n",
              "      <td>14.0</td>\n",
              "      <td>3.0</td>\n",
              "      <td>11.0</td>\n",
              "      <td>32.0</td>\n",
              "      <td>111.0</td>\n",
              "      <td>0.0</td>\n",
              "      <td>7.0</td>\n",
              "      <td>5.0</td>\n",
              "      <td>0</td>\n",
              "      <td>21573</td>\n",
              "      <td>40.504172</td>\n",
              "      <td>80.0</td>\n",
              "      <td>50.594066</td>\n",
              "      <td>65.0</td>\n",
              "    </tr>\n",
              "    <tr>\n",
              "      <th>10564</th>\n",
              "      <td>360585000307</td>\n",
              "      <td>Yes</td>\n",
              "      <td>3605850</td>\n",
              "      <td>97.0</td>\n",
              "      <td>High</td>\n",
              "      <td>400</td>\n",
              "      <td>47.000000</td>\n",
              "      <td>10.2</td>\n",
              "      <td>160.0</td>\n",
              "      <td>320.0</td>\n",
              "      <td>0.333333</td>\n",
              "      <td>0.333333</td>\n",
              "      <td>0.833333</td>\n",
              "      <td>1</td>\n",
              "      <td>NEW YORK</td>\n",
              "      <td>36</td>\n",
              "      <td>80.0</td>\n",
              "      <td>104</td>\n",
              "      <td>0.0</td>\n",
              "      <td>1.0</td>\n",
              "      <td>66.0</td>\n",
              "      <td>14.0</td>\n",
              "      <td>2.0</td>\n",
              "      <td>21.0</td>\n",
              "      <td>27.0</td>\n",
              "      <td>78.0</td>\n",
              "      <td>0.0</td>\n",
              "      <td>2.0</td>\n",
              "      <td>2.0</td>\n",
              "      <td>1</td>\n",
              "      <td>21573</td>\n",
              "      <td>40.504172</td>\n",
              "      <td>85.0</td>\n",
              "      <td>50.594066</td>\n",
              "      <td>85.0</td>\n",
              "    </tr>\n",
              "  </tbody>\n",
              "</table>\n",
              "</div>"
            ],
            "text/plain": [
              "            NCESSCH          TITLEI    LEAID  ...  MATH_PCT   READ_NUM  READ_PCT\n",
              "10560  361938005859  Not Applicable  3619380  ...      95.0  50.594066      95.0\n",
              "10561  360585005857             Yes  3605850  ...      70.0  50.594066      70.0\n",
              "10562  360585000297             Yes  3605850  ...      75.0  50.594066      80.0\n",
              "10563  360585000301             Yes  3605850  ...      80.0  50.594066      65.0\n",
              "10564  360585000307             Yes  3605850  ...      85.0  50.594066      85.0\n",
              "\n",
              "[5 rows x 35 columns]"
            ]
          },
          "metadata": {},
          "execution_count": 64
        }
      ]
    },
    {
      "cell_type": "code",
      "metadata": {
        "colab": {
          "base_uri": "https://localhost:8080/"
        },
        "id": "xsCsFFSxtXid",
        "outputId": "ce86210f-59f6-4004-b66b-4aa39101ad5a"
      },
      "source": [
        "NY.shape"
      ],
      "execution_count": null,
      "outputs": [
        {
          "output_type": "execute_result",
          "data": {
            "text/plain": [
              "(630, 35)"
            ]
          },
          "metadata": {},
          "execution_count": 65
        }
      ]
    },
    {
      "cell_type": "code",
      "metadata": {
        "colab": {
          "base_uri": "https://localhost:8080/"
        },
        "id": "LsKcY2BC-nrI",
        "outputId": "56e080de-0dd9-4954-b07e-f50075653b25"
      },
      "source": [
        "NY.isna().sum()"
      ],
      "execution_count": null,
      "outputs": [
        {
          "output_type": "execute_result",
          "data": {
            "text/plain": [
              "NCESSCH         0\n",
              "TITLEI          0\n",
              "LEAID           0\n",
              "G12             0\n",
              "SCHOOL_LEVEL    0\n",
              "TOTFRL          0\n",
              "FTE             0\n",
              "STUTERATIO      2\n",
              "TOTMENROL       0\n",
              "TOTFENROL       0\n",
              "PCT_MEN         0\n",
              "PCT_FEN         0\n",
              "PCT_FRL         0\n",
              "SCHOOL_TYPE     0\n",
              "STNAM           0\n",
              "FIPST           0\n",
              "ALL_RATE        0\n",
              "ALL_COHORT      0\n",
              "MAM_COHORT      0\n",
              "MAS_COHORT      0\n",
              "MBL_COHORT      0\n",
              "MHI_COHORT      0\n",
              "MTR_COHORT      0\n",
              "MWH_COHORT      0\n",
              "CWD_COHORT      0\n",
              "ECD_COHORT      0\n",
              "FCS_COHORT      0\n",
              "HOM_COHORT      0\n",
              "LEP_COHORT      0\n",
              "Success_Rate    0\n",
              "PPCSTOT         0\n",
              "MATH_NUM        0\n",
              "MATH_PCT        0\n",
              "READ_NUM        0\n",
              "READ_PCT        0\n",
              "dtype: int64"
            ]
          },
          "metadata": {},
          "execution_count": 66
        }
      ]
    },
    {
      "cell_type": "code",
      "metadata": {
        "colab": {
          "base_uri": "https://localhost:8080/",
          "height": 400
        },
        "id": "-J3O0dGhs_Od",
        "outputId": "0e1161e4-4266-4591-e86d-d0a336354b24"
      },
      "source": [
        "DMV = all_assessments.loc[(all_assessments['STNAM'] == 'MARYLAND') | (all_assessments['STNAM'] == 'DISTRICT OF COLUMBIA') | (all_assessments['STNAM'] == 'VIRGINIA')]\n",
        "DMV.head()"
      ],
      "execution_count": null,
      "outputs": [
        {
          "output_type": "execute_result",
          "data": {
            "text/html": [
              "<div>\n",
              "<style scoped>\n",
              "    .dataframe tbody tr th:only-of-type {\n",
              "        vertical-align: middle;\n",
              "    }\n",
              "\n",
              "    .dataframe tbody tr th {\n",
              "        vertical-align: top;\n",
              "    }\n",
              "\n",
              "    .dataframe thead th {\n",
              "        text-align: right;\n",
              "    }\n",
              "</style>\n",
              "<table border=\"1\" class=\"dataframe\">\n",
              "  <thead>\n",
              "    <tr style=\"text-align: right;\">\n",
              "      <th></th>\n",
              "      <th>NCESSCH</th>\n",
              "      <th>TITLEI</th>\n",
              "      <th>LEAID</th>\n",
              "      <th>G12</th>\n",
              "      <th>SCHOOL_LEVEL</th>\n",
              "      <th>TOTFRL</th>\n",
              "      <th>FTE</th>\n",
              "      <th>STUTERATIO</th>\n",
              "      <th>TOTMENROL</th>\n",
              "      <th>TOTFENROL</th>\n",
              "      <th>PCT_MEN</th>\n",
              "      <th>PCT_FEN</th>\n",
              "      <th>PCT_FRL</th>\n",
              "      <th>SCHOOL_TYPE</th>\n",
              "      <th>STNAM</th>\n",
              "      <th>FIPST</th>\n",
              "      <th>ALL_RATE</th>\n",
              "      <th>ALL_COHORT</th>\n",
              "      <th>MAM_COHORT</th>\n",
              "      <th>MAS_COHORT</th>\n",
              "      <th>MBL_COHORT</th>\n",
              "      <th>MHI_COHORT</th>\n",
              "      <th>MTR_COHORT</th>\n",
              "      <th>MWH_COHORT</th>\n",
              "      <th>CWD_COHORT</th>\n",
              "      <th>ECD_COHORT</th>\n",
              "      <th>FCS_COHORT</th>\n",
              "      <th>HOM_COHORT</th>\n",
              "      <th>LEP_COHORT</th>\n",
              "      <th>Success_Rate</th>\n",
              "      <th>PPCSTOT</th>\n",
              "      <th>MATH_NUM</th>\n",
              "      <th>MATH_PCT</th>\n",
              "      <th>READ_NUM</th>\n",
              "      <th>READ_PCT</th>\n",
              "    </tr>\n",
              "  </thead>\n",
              "  <tbody>\n",
              "    <tr>\n",
              "      <th>3268</th>\n",
              "      <td>110003000264</td>\n",
              "      <td>Not Applicable</td>\n",
              "      <td>1100030</td>\n",
              "      <td>85.0</td>\n",
              "      <td>High</td>\n",
              "      <td>-1</td>\n",
              "      <td>21.74</td>\n",
              "      <td>19.6</td>\n",
              "      <td>254.0</td>\n",
              "      <td>172.0</td>\n",
              "      <td>0.596244</td>\n",
              "      <td>0.596244</td>\n",
              "      <td>0.002347</td>\n",
              "      <td>0</td>\n",
              "      <td>DISTRICT OF COLUMBIA</td>\n",
              "      <td>11</td>\n",
              "      <td>6.0</td>\n",
              "      <td>169</td>\n",
              "      <td>0.0</td>\n",
              "      <td>0.0</td>\n",
              "      <td>80.0</td>\n",
              "      <td>88.0</td>\n",
              "      <td>1.0</td>\n",
              "      <td>0.0</td>\n",
              "      <td>36.0</td>\n",
              "      <td>158.0</td>\n",
              "      <td>9.0</td>\n",
              "      <td>21.0</td>\n",
              "      <td>77.0</td>\n",
              "      <td>0</td>\n",
              "      <td>22406</td>\n",
              "      <td>24.0</td>\n",
              "      <td>20.0</td>\n",
              "      <td>19.0</td>\n",
              "      <td>20.0</td>\n",
              "    </tr>\n",
              "    <tr>\n",
              "      <th>3269</th>\n",
              "      <td>110003000267</td>\n",
              "      <td>Not Applicable</td>\n",
              "      <td>1100030</td>\n",
              "      <td>139.0</td>\n",
              "      <td>High</td>\n",
              "      <td>-1</td>\n",
              "      <td>43.50</td>\n",
              "      <td>14.6</td>\n",
              "      <td>267.0</td>\n",
              "      <td>366.0</td>\n",
              "      <td>0.421801</td>\n",
              "      <td>0.421801</td>\n",
              "      <td>0.001580</td>\n",
              "      <td>1</td>\n",
              "      <td>DISTRICT OF COLUMBIA</td>\n",
              "      <td>11</td>\n",
              "      <td>95.0</td>\n",
              "      <td>143</td>\n",
              "      <td>2.0</td>\n",
              "      <td>3.0</td>\n",
              "      <td>122.0</td>\n",
              "      <td>14.0</td>\n",
              "      <td>2.0</td>\n",
              "      <td>0.0</td>\n",
              "      <td>9.0</td>\n",
              "      <td>57.0</td>\n",
              "      <td>2.0</td>\n",
              "      <td>6.0</td>\n",
              "      <td>5.0</td>\n",
              "      <td>1</td>\n",
              "      <td>22406</td>\n",
              "      <td>185.0</td>\n",
              "      <td>30.0</td>\n",
              "      <td>171.0</td>\n",
              "      <td>65.0</td>\n",
              "    </tr>\n",
              "    <tr>\n",
              "      <th>3270</th>\n",
              "      <td>110003000008</td>\n",
              "      <td>Not Applicable</td>\n",
              "      <td>1100030</td>\n",
              "      <td>112.0</td>\n",
              "      <td>High</td>\n",
              "      <td>-1</td>\n",
              "      <td>60.00</td>\n",
              "      <td>10.8</td>\n",
              "      <td>375.0</td>\n",
              "      <td>270.0</td>\n",
              "      <td>0.581395</td>\n",
              "      <td>0.581395</td>\n",
              "      <td>0.001550</td>\n",
              "      <td>1</td>\n",
              "      <td>DISTRICT OF COLUMBIA</td>\n",
              "      <td>11</td>\n",
              "      <td>60.0</td>\n",
              "      <td>164</td>\n",
              "      <td>0.0</td>\n",
              "      <td>1.0</td>\n",
              "      <td>84.0</td>\n",
              "      <td>77.0</td>\n",
              "      <td>1.0</td>\n",
              "      <td>1.0</td>\n",
              "      <td>29.0</td>\n",
              "      <td>126.0</td>\n",
              "      <td>9.0</td>\n",
              "      <td>26.0</td>\n",
              "      <td>59.0</td>\n",
              "      <td>0</td>\n",
              "      <td>22406</td>\n",
              "      <td>139.0</td>\n",
              "      <td>5.0</td>\n",
              "      <td>136.0</td>\n",
              "      <td>6.0</td>\n",
              "    </tr>\n",
              "    <tr>\n",
              "      <th>3271</th>\n",
              "      <td>110003000016</td>\n",
              "      <td>Not Applicable</td>\n",
              "      <td>1100030</td>\n",
              "      <td>110.0</td>\n",
              "      <td>High</td>\n",
              "      <td>-1</td>\n",
              "      <td>4.00</td>\n",
              "      <td>136.3</td>\n",
              "      <td>171.0</td>\n",
              "      <td>374.0</td>\n",
              "      <td>0.313761</td>\n",
              "      <td>0.313761</td>\n",
              "      <td>0.001835</td>\n",
              "      <td>1</td>\n",
              "      <td>DISTRICT OF COLUMBIA</td>\n",
              "      <td>11</td>\n",
              "      <td>95.0</td>\n",
              "      <td>114</td>\n",
              "      <td>0.0</td>\n",
              "      <td>4.0</td>\n",
              "      <td>86.0</td>\n",
              "      <td>13.0</td>\n",
              "      <td>2.0</td>\n",
              "      <td>9.0</td>\n",
              "      <td>15.0</td>\n",
              "      <td>44.0</td>\n",
              "      <td>4.0</td>\n",
              "      <td>5.0</td>\n",
              "      <td>1.0</td>\n",
              "      <td>1</td>\n",
              "      <td>22406</td>\n",
              "      <td>145.0</td>\n",
              "      <td>15.0</td>\n",
              "      <td>141.0</td>\n",
              "      <td>55.0</td>\n",
              "    </tr>\n",
              "    <tr>\n",
              "      <th>3272</th>\n",
              "      <td>110003000055</td>\n",
              "      <td>Not Applicable</td>\n",
              "      <td>1100030</td>\n",
              "      <td>136.0</td>\n",
              "      <td>High</td>\n",
              "      <td>-1</td>\n",
              "      <td>47.00</td>\n",
              "      <td>9.7</td>\n",
              "      <td>268.0</td>\n",
              "      <td>187.0</td>\n",
              "      <td>0.589011</td>\n",
              "      <td>0.589011</td>\n",
              "      <td>0.002198</td>\n",
              "      <td>1</td>\n",
              "      <td>DISTRICT OF COLUMBIA</td>\n",
              "      <td>11</td>\n",
              "      <td>65.0</td>\n",
              "      <td>180</td>\n",
              "      <td>0.0</td>\n",
              "      <td>0.0</td>\n",
              "      <td>174.0</td>\n",
              "      <td>6.0</td>\n",
              "      <td>0.0</td>\n",
              "      <td>0.0</td>\n",
              "      <td>36.0</td>\n",
              "      <td>137.0</td>\n",
              "      <td>12.0</td>\n",
              "      <td>15.0</td>\n",
              "      <td>1.0</td>\n",
              "      <td>0</td>\n",
              "      <td>22406</td>\n",
              "      <td>98.0</td>\n",
              "      <td>6.0</td>\n",
              "      <td>94.0</td>\n",
              "      <td>15.0</td>\n",
              "    </tr>\n",
              "  </tbody>\n",
              "</table>\n",
              "</div>"
            ],
            "text/plain": [
              "           NCESSCH          TITLEI    LEAID  ...  MATH_PCT READ_NUM  READ_PCT\n",
              "3268  110003000264  Not Applicable  1100030  ...      20.0     19.0      20.0\n",
              "3269  110003000267  Not Applicable  1100030  ...      30.0    171.0      65.0\n",
              "3270  110003000008  Not Applicable  1100030  ...       5.0    136.0       6.0\n",
              "3271  110003000016  Not Applicable  1100030  ...      15.0    141.0      55.0\n",
              "3272  110003000055  Not Applicable  1100030  ...       6.0     94.0      15.0\n",
              "\n",
              "[5 rows x 35 columns]"
            ]
          },
          "metadata": {},
          "execution_count": 67
        }
      ]
    },
    {
      "cell_type": "code",
      "metadata": {
        "colab": {
          "base_uri": "https://localhost:8080/"
        },
        "id": "ZTVIQueEtbIa",
        "outputId": "06da5357-40d4-43f8-8ab2-df267c06235a"
      },
      "source": [
        "DMV.shape"
      ],
      "execution_count": null,
      "outputs": [
        {
          "output_type": "execute_result",
          "data": {
            "text/plain": [
              "(571, 35)"
            ]
          },
          "metadata": {},
          "execution_count": 68
        }
      ]
    },
    {
      "cell_type": "markdown",
      "metadata": {
        "id": "MDy4UfQy2TLA"
      },
      "source": [
        "Create df for national data"
      ]
    },
    {
      "cell_type": "code",
      "metadata": {
        "id": "rDL7bYYI2SQA"
      },
      "source": [
        "national_data = all_assessments"
      ],
      "execution_count": null,
      "outputs": []
    },
    {
      "cell_type": "code",
      "metadata": {
        "colab": {
          "base_uri": "https://localhost:8080/"
        },
        "id": "Og-UkNL-3OaJ",
        "outputId": "df870146-70be-4dd3-e05e-d688358b0427"
      },
      "source": [
        "national_data.isna().sum()"
      ],
      "execution_count": null,
      "outputs": [
        {
          "output_type": "execute_result",
          "data": {
            "text/plain": [
              "NCESSCH           0\n",
              "TITLEI            0\n",
              "LEAID             0\n",
              "G12              11\n",
              "SCHOOL_LEVEL      0\n",
              "TOTFRL            0\n",
              "FTE               0\n",
              "STUTERATIO      395\n",
              "TOTMENROL        17\n",
              "TOTFENROL        16\n",
              "PCT_MEN           0\n",
              "PCT_FEN           0\n",
              "PCT_FRL          22\n",
              "SCHOOL_TYPE       0\n",
              "STNAM             0\n",
              "FIPST             0\n",
              "ALL_RATE          0\n",
              "ALL_COHORT        0\n",
              "MAM_COHORT        0\n",
              "MAS_COHORT        0\n",
              "MBL_COHORT        0\n",
              "MHI_COHORT        0\n",
              "MTR_COHORT        0\n",
              "MWH_COHORT        0\n",
              "CWD_COHORT        0\n",
              "ECD_COHORT        0\n",
              "FCS_COHORT        0\n",
              "HOM_COHORT        0\n",
              "LEP_COHORT        0\n",
              "Success_Rate      0\n",
              "PPCSTOT           0\n",
              "MATH_NUM          0\n",
              "MATH_PCT          0\n",
              "READ_NUM          0\n",
              "READ_PCT          0\n",
              "dtype: int64"
            ]
          },
          "metadata": {},
          "execution_count": 70
        }
      ]
    },
    {
      "cell_type": "markdown",
      "metadata": {
        "id": "U8sKKZ-51UZd"
      },
      "source": [
        "Create NY csv"
      ]
    },
    {
      "cell_type": "code",
      "metadata": {
        "id": "4sX-td2-oKuF"
      },
      "source": [
        "NY.to_csv(\"/content/drive/Shareddrives/DATA 602 Final Project/NY_GRAD_FINANCE_RACE_CLEAN.csv\")"
      ],
      "execution_count": null,
      "outputs": []
    },
    {
      "cell_type": "markdown",
      "metadata": {
        "id": "XM1re88c1hxZ"
      },
      "source": [
        "Create DMV"
      ]
    },
    {
      "cell_type": "code",
      "metadata": {
        "id": "nMxiIbyVoLa8"
      },
      "source": [
        "DMV.to_csv(\"/content/drive/Shareddrives/DATA 602 Final Project/DMV_GRAD_FINANCE_RACE_CLEAN.csv\")"
      ],
      "execution_count": null,
      "outputs": []
    },
    {
      "cell_type": "markdown",
      "metadata": {
        "id": "v-YiSt8J4T8f"
      },
      "source": [
        "Create National Data cav "
      ]
    },
    {
      "cell_type": "code",
      "metadata": {
        "id": "e6RdQot54f3N"
      },
      "source": [
        "national_data.to_csv(\"/content/drive/Shareddrives/DATA 602 Final Project/NATIONAL_GRAD_FINANCE_RACE_CLEAN.csv\")"
      ],
      "execution_count": null,
      "outputs": []
    }
  ]
}