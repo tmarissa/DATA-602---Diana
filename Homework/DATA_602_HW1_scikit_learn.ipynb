{
 "cells": [
  {
   "cell_type": "code",
   "execution_count": 1,
   "metadata": {
    "id": "vSoTojTJ-Qc0"
   },
   "outputs": [],
   "source": [
    "from sklearn.metrics import mean_squared_error\n",
    "import pandas as pd\n",
    "import numpy as np\n",
    "from sklearn.linear_model import LinearRegression\n",
    "from sklearn.model_selection import train_test_split\n",
    "import matplotlib.pyplot as plt\n",
    "%matplotlib inline"
   ]
  },
  {
   "cell_type": "code",
   "execution_count": 2,
   "metadata": {
    "colab": {
     "base_uri": "https://localhost:8080/",
     "height": 265
    },
    "id": "N50Qls4_OEhu",
    "outputId": "97b1bb6d-8b52-4e01-bf01-04f21f8fd893"
   },
   "outputs": [
    {
     "data": {
      "text/html": [
       "<div>\n",
       "<style scoped>\n",
       "    .dataframe tbody tr th:only-of-type {\n",
       "        vertical-align: middle;\n",
       "    }\n",
       "\n",
       "    .dataframe tbody tr th {\n",
       "        vertical-align: top;\n",
       "    }\n",
       "\n",
       "    .dataframe thead th {\n",
       "        text-align: right;\n",
       "    }\n",
       "</style>\n",
       "<table border=\"1\" class=\"dataframe\">\n",
       "  <thead>\n",
       "    <tr style=\"text-align: right;\">\n",
       "      <th></th>\n",
       "      <th>Id</th>\n",
       "      <th>MSSubClass</th>\n",
       "      <th>LotFrontage</th>\n",
       "      <th>LotArea</th>\n",
       "      <th>OverallQual</th>\n",
       "      <th>OverallCond</th>\n",
       "      <th>YearBuilt</th>\n",
       "      <th>YearRemodAdd</th>\n",
       "      <th>MasVnrArea</th>\n",
       "      <th>ExterQual</th>\n",
       "      <th>...</th>\n",
       "      <th>GarageType_NA</th>\n",
       "      <th>SaleType_COD</th>\n",
       "      <th>SaleType_CWD</th>\n",
       "      <th>SaleType_Con</th>\n",
       "      <th>SaleType_ConLD</th>\n",
       "      <th>SaleType_ConLI</th>\n",
       "      <th>SaleType_ConLw</th>\n",
       "      <th>SaleType_New</th>\n",
       "      <th>SaleType_Oth</th>\n",
       "      <th>SaleType_WD</th>\n",
       "    </tr>\n",
       "  </thead>\n",
       "  <tbody>\n",
       "    <tr>\n",
       "      <th>0</th>\n",
       "      <td>1</td>\n",
       "      <td>60</td>\n",
       "      <td>65.0</td>\n",
       "      <td>8450</td>\n",
       "      <td>7</td>\n",
       "      <td>5</td>\n",
       "      <td>2003</td>\n",
       "      <td>2003</td>\n",
       "      <td>196.0</td>\n",
       "      <td>Gd</td>\n",
       "      <td>...</td>\n",
       "      <td>0</td>\n",
       "      <td>0</td>\n",
       "      <td>0</td>\n",
       "      <td>0</td>\n",
       "      <td>0</td>\n",
       "      <td>0</td>\n",
       "      <td>0</td>\n",
       "      <td>0</td>\n",
       "      <td>0</td>\n",
       "      <td>1</td>\n",
       "    </tr>\n",
       "    <tr>\n",
       "      <th>1</th>\n",
       "      <td>2</td>\n",
       "      <td>20</td>\n",
       "      <td>80.0</td>\n",
       "      <td>9600</td>\n",
       "      <td>6</td>\n",
       "      <td>8</td>\n",
       "      <td>1976</td>\n",
       "      <td>1976</td>\n",
       "      <td>0.0</td>\n",
       "      <td>TA</td>\n",
       "      <td>...</td>\n",
       "      <td>0</td>\n",
       "      <td>0</td>\n",
       "      <td>0</td>\n",
       "      <td>0</td>\n",
       "      <td>0</td>\n",
       "      <td>0</td>\n",
       "      <td>0</td>\n",
       "      <td>0</td>\n",
       "      <td>0</td>\n",
       "      <td>1</td>\n",
       "    </tr>\n",
       "    <tr>\n",
       "      <th>2</th>\n",
       "      <td>3</td>\n",
       "      <td>60</td>\n",
       "      <td>68.0</td>\n",
       "      <td>11250</td>\n",
       "      <td>7</td>\n",
       "      <td>5</td>\n",
       "      <td>2001</td>\n",
       "      <td>2002</td>\n",
       "      <td>162.0</td>\n",
       "      <td>Gd</td>\n",
       "      <td>...</td>\n",
       "      <td>0</td>\n",
       "      <td>0</td>\n",
       "      <td>0</td>\n",
       "      <td>0</td>\n",
       "      <td>0</td>\n",
       "      <td>0</td>\n",
       "      <td>0</td>\n",
       "      <td>0</td>\n",
       "      <td>0</td>\n",
       "      <td>1</td>\n",
       "    </tr>\n",
       "    <tr>\n",
       "      <th>3</th>\n",
       "      <td>4</td>\n",
       "      <td>70</td>\n",
       "      <td>60.0</td>\n",
       "      <td>9550</td>\n",
       "      <td>7</td>\n",
       "      <td>5</td>\n",
       "      <td>1915</td>\n",
       "      <td>1970</td>\n",
       "      <td>0.0</td>\n",
       "      <td>TA</td>\n",
       "      <td>...</td>\n",
       "      <td>0</td>\n",
       "      <td>0</td>\n",
       "      <td>0</td>\n",
       "      <td>0</td>\n",
       "      <td>0</td>\n",
       "      <td>0</td>\n",
       "      <td>0</td>\n",
       "      <td>0</td>\n",
       "      <td>0</td>\n",
       "      <td>1</td>\n",
       "    </tr>\n",
       "    <tr>\n",
       "      <th>4</th>\n",
       "      <td>5</td>\n",
       "      <td>60</td>\n",
       "      <td>84.0</td>\n",
       "      <td>14260</td>\n",
       "      <td>8</td>\n",
       "      <td>5</td>\n",
       "      <td>2000</td>\n",
       "      <td>2000</td>\n",
       "      <td>350.0</td>\n",
       "      <td>Gd</td>\n",
       "      <td>...</td>\n",
       "      <td>0</td>\n",
       "      <td>0</td>\n",
       "      <td>0</td>\n",
       "      <td>0</td>\n",
       "      <td>0</td>\n",
       "      <td>0</td>\n",
       "      <td>0</td>\n",
       "      <td>0</td>\n",
       "      <td>0</td>\n",
       "      <td>1</td>\n",
       "    </tr>\n",
       "  </tbody>\n",
       "</table>\n",
       "<p>5 rows × 238 columns</p>\n",
       "</div>"
      ],
      "text/plain": [
       "   Id  MSSubClass  LotFrontage  LotArea  OverallQual  OverallCond  YearBuilt  \\\n",
       "0   1          60         65.0     8450            7            5       2003   \n",
       "1   2          20         80.0     9600            6            8       1976   \n",
       "2   3          60         68.0    11250            7            5       2001   \n",
       "3   4          70         60.0     9550            7            5       1915   \n",
       "4   5          60         84.0    14260            8            5       2000   \n",
       "\n",
       "   YearRemodAdd  MasVnrArea ExterQual  ... GarageType_NA SaleType_COD  \\\n",
       "0          2003       196.0        Gd  ...             0            0   \n",
       "1          1976         0.0        TA  ...             0            0   \n",
       "2          2002       162.0        Gd  ...             0            0   \n",
       "3          1970         0.0        TA  ...             0            0   \n",
       "4          2000       350.0        Gd  ...             0            0   \n",
       "\n",
       "  SaleType_CWD SaleType_Con SaleType_ConLD  SaleType_ConLI SaleType_ConLw  \\\n",
       "0            0            0              0               0              0   \n",
       "1            0            0              0               0              0   \n",
       "2            0            0              0               0              0   \n",
       "3            0            0              0               0              0   \n",
       "4            0            0              0               0              0   \n",
       "\n",
       "   SaleType_New  SaleType_Oth  SaleType_WD  \n",
       "0             0             0            1  \n",
       "1             0             0            1  \n",
       "2             0             0            1  \n",
       "3             0             0            1  \n",
       "4             0             0            1  \n",
       "\n",
       "[5 rows x 238 columns]"
      ]
     },
     "execution_count": 2,
     "metadata": {},
     "output_type": "execute_result"
    }
   ],
   "source": [
    "housing = pd.read_csv('housing_processed.csv')\n",
    "housing.head()"
   ]
  },
  {
   "cell_type": "code",
   "execution_count": 3,
   "metadata": {
    "id": "WDvzNV9kNybZ"
   },
   "outputs": [],
   "source": [
    "housing_ml = housing.loc[:,housing.dtypes != object]"
   ]
  },
  {
   "cell_type": "code",
   "execution_count": 4,
   "metadata": {
    "colab": {
     "base_uri": "https://localhost:8080/"
    },
    "id": "pfHZyvWpOEh7",
    "outputId": "b1c7a02b-1323-4882-ba0d-d1126e0808ad"
   },
   "outputs": [
    {
     "data": {
      "text/plain": [
       "(1460, 222)"
      ]
     },
     "execution_count": 4,
     "metadata": {},
     "output_type": "execute_result"
    }
   ],
   "source": [
    "housing_ml.shape"
   ]
  },
  {
   "cell_type": "code",
   "execution_count": 5,
   "metadata": {
    "colab": {
     "base_uri": "https://localhost:8080/"
    },
    "id": "_35jGH50OEh8",
    "outputId": "4ee5ba51-247b-42e3-88ca-9f803bee0c39"
   },
   "outputs": [
    {
     "data": {
      "text/plain": [
       "pandas.core.series.Series"
      ]
     },
     "execution_count": 5,
     "metadata": {},
     "output_type": "execute_result"
    }
   ],
   "source": [
    "# Split data as features and target\n",
    "# take \"SalePrice\" values into its own 1-D array \n",
    "sale_price = housing_ml.pop('SalePrice')\n",
    "type(sale_price)"
   ]
  },
  {
   "cell_type": "code",
   "execution_count": 6,
   "metadata": {
    "colab": {
     "base_uri": "https://localhost:8080/"
    },
    "id": "uOBaHmvoOEh8",
    "outputId": "ddbdcbea-c269-4562-af23-e0be3a00d6c1"
   },
   "outputs": [
    {
     "data": {
      "text/plain": [
       "(1460, 221)"
      ]
     },
     "execution_count": 6,
     "metadata": {},
     "output_type": "execute_result"
    }
   ],
   "source": [
    "# pop removes the column\n",
    "# \"in place\" operation\n",
    "# now housing_ml has one less column\n",
    "X = housing_ml\n",
    "housing_ml.shape"
   ]
  },
  {
   "cell_type": "code",
   "execution_count": 7,
   "metadata": {
    "colab": {
     "base_uri": "https://localhost:8080/"
    },
    "id": "3MNwJvO0OEh9",
    "outputId": "763badac-c94a-46f0-9bab-a0a0b6f07852"
   },
   "outputs": [
    {
     "name": "stdout",
     "output_type": "stream",
     "text": [
      "<class 'numpy.ndarray'> (1460,)\n"
     ]
    }
   ],
   "source": [
    "y = sale_price.values\n",
    "print(type(y), y.shape)"
   ]
  },
  {
   "cell_type": "code",
   "execution_count": 8,
   "metadata": {
    "colab": {
     "base_uri": "https://localhost:8080/"
    },
    "id": "Zcn_QQf6OEh_",
    "outputId": "151545ef-a3ec-4b53-b4b6-976c5635a1dc"
   },
   "outputs": [
    {
     "data": {
      "text/plain": [
       "(1460,)"
      ]
     },
     "execution_count": 8,
     "metadata": {},
     "output_type": "execute_result"
    }
   ],
   "source": [
    "y.shape\n",
    "# (1460,)\n",
    "# it is equivalent to (1460)\n",
    "# means it is a 1-d array"
   ]
  },
  {
   "cell_type": "code",
   "execution_count": 9,
   "metadata": {
    "id": "251aLOyBOEiB"
   },
   "outputs": [],
   "source": [
    "X = housing_ml.values"
   ]
  },
  {
   "cell_type": "code",
   "execution_count": 10,
   "metadata": {
    "colab": {
     "base_uri": "https://localhost:8080/"
    },
    "id": "U2_Ku4CwOEiC",
    "outputId": "e7ebdd21-d665-4a58-dc2e-abb5d2c20bf5"
   },
   "outputs": [
    {
     "data": {
      "text/plain": [
       "(1460, 221)"
      ]
     },
     "execution_count": 10,
     "metadata": {},
     "output_type": "execute_result"
    }
   ],
   "source": [
    "X.shape"
   ]
  },
  {
   "cell_type": "code",
   "execution_count": 11,
   "metadata": {
    "colab": {
     "base_uri": "https://localhost:8080/"
    },
    "id": "wm1N0E6ZOEiD",
    "outputId": "e3cbddf3-f1bc-4272-f0b9-55f1f8275db3"
   },
   "outputs": [
    {
     "data": {
      "text/plain": [
       "True"
      ]
     },
     "execution_count": 11,
     "metadata": {},
     "output_type": "execute_result"
    }
   ],
   "source": [
    "X.shape[0] == y.shape[0]"
   ]
  },
  {
   "cell_type": "code",
   "execution_count": 12,
   "metadata": {
    "id": "Xot438M5OEiH"
   },
   "outputs": [],
   "source": [
    "# This uses Linear Regression\n",
    "linear_model = LinearRegression()"
   ]
  },
  {
   "cell_type": "markdown",
   "metadata": {
    "id": "O-DQR4n3Odpa"
   },
   "source": [
    "\n",
    "After running the cells, add code to this notebook to achieve the following:\n",
    "- Split the data for training and testing, to use 80 percent as training data.\n",
    "use 21 as your randomization seed (so you achieve same results for us to grade).\n",
    "https://scikit-learn.org/stable/modules/generated/sklearn.model_selection.train_test_split.html\n",
    "random_state = 21\n",
    "train_size = .8"
   ]
  },
  {
   "cell_type": "code",
   "execution_count": 13,
   "metadata": {
    "id": "auDmMHgtRVkC"
   },
   "outputs": [],
   "source": [
    "#This uses the train test split from Scikit Learn\n",
    "X_train, X_test, y_train, y_test = train_test_split(X, y, train_size=0.8, random_state=21)"
   ]
  },
  {
   "cell_type": "code",
   "execution_count": 14,
   "metadata": {
    "colab": {
     "base_uri": "https://localhost:8080/"
    },
    "id": "lTCcxnBQR7LX",
    "outputId": "f07eca61-02a9-4758-ebcf-993613b1e779"
   },
   "outputs": [
    {
     "name": "stdout",
     "output_type": "stream",
     "text": [
      "X_train is  (1168, 221) x_test is  (292, 221)\n",
      "y_train is  (1168,) y_test is  (292,)\n"
     ]
    }
   ],
   "source": [
    "print(\"X_train is \", X_train.shape, \"x_test is \", X_test.shape)\n",
    "print(\"y_train is \", y_train.shape, \"y_test is \", y_test.shape)"
   ]
  },
  {
   "cell_type": "code",
   "execution_count": 15,
   "metadata": {
    "colab": {
     "base_uri": "https://localhost:8080/"
    },
    "id": "sUoU6uizfDeD",
    "outputId": "a91ac210-2233-423c-8233-cf1e972da9c8"
   },
   "outputs": [
    {
     "data": {
      "text/plain": [
       "LinearRegression()"
      ]
     },
     "execution_count": 15,
     "metadata": {},
     "output_type": "execute_result"
    }
   ],
   "source": [
    "linear_model.fit(X_train, y_train)"
   ]
  },
  {
   "cell_type": "code",
   "execution_count": 16,
   "metadata": {
    "colab": {
     "base_uri": "https://localhost:8080/"
    },
    "id": "gKSpfodgbdpr",
    "outputId": "fd8e5d46-2ba5-4dd3-b7e9-c73032c5fb6c"
   },
   "outputs": [
    {
     "data": {
      "text/plain": [
       "(1168,)"
      ]
     },
     "execution_count": 16,
     "metadata": {},
     "output_type": "execute_result"
    }
   ],
   "source": [
    "y_pred = linear_model.predict(X_train)\n",
    "y_pred.shape"
   ]
  },
  {
   "cell_type": "code",
   "execution_count": 17,
   "metadata": {
    "colab": {
     "base_uri": "https://localhost:8080/"
    },
    "id": "FonacraHbyC4",
    "outputId": "f9ee27b3-af5b-4b51-ebf9-26cdff81bd86"
   },
   "outputs": [
    {
     "name": "stdout",
     "output_type": "stream",
     "text": [
      "The accuracy of the training scores 0.8127547098528062\n"
     ]
    }
   ],
   "source": [
    "print(\"The accuracy of the training scores\", linear_model.score(X_test, y_test)) "
   ]
  },
  {
   "cell_type": "code",
   "execution_count": 18,
   "metadata": {
    "colab": {
     "base_uri": "https://localhost:8080/"
    },
    "id": "f8qvNdhlnksi",
    "outputId": "af4393c4-9791-42c6-ea6f-e1fb441f7dd7"
   },
   "outputs": [
    {
     "name": "stdout",
     "output_type": "stream",
     "text": [
      "The accuracy of the training rmse 20999.86660191205\n"
     ]
    }
   ],
   "source": [
    "print(\"The accuracy of the training rmse\", np.sqrt(mean_squared_error(y_pred, y_train)))"
   ]
  },
  {
   "cell_type": "code",
   "execution_count": 19,
   "metadata": {
    "id": "4hxAv6F9lrLD"
   },
   "outputs": [],
   "source": [
    "#This is just used for the columns and maintained the id which was removed in the next line during the loop when it was passed\n",
    "House_Columns = housing_ml.columns"
   ]
  },
  {
   "cell_type": "markdown",
   "metadata": {
    "id": "L30E3gL2nBnj"
   },
   "source": [
    "In the following steps use training set to fit the model, and test set to evaluate it.\n",
    "-  Analyze which feature alone would give the best prediction, list the scores and RMSE errors achieved by the top 10 predictors by score.\n",
    "(create a loop to train a linear model for each feature and save the scores and RMSE and sort by score)"
   ]
  },
  {
   "cell_type": "code",
   "execution_count": 20,
   "metadata": {
    "id": "k6G9bRYkr1XN"
   },
   "outputs": [],
   "source": [
    "keys = []\n",
    "score = []\n",
    "rmse = []\n",
    "for x in House_Columns:\n",
    "  if x.startswith(\"Id\"):\n",
    "    pass\n",
    "  else:\n",
    "    X_House = housing_ml[[x]]\n",
    "    linear_model.fit(X_House, y)\n",
    "    y_pred = linear_model.predict(X_House)\n",
    "    unsorted_score = linear_model.score(X_House, y)\n",
    "    unsorted_rmse = np.sqrt(mean_squared_error(X_House, y)) \n",
    "    keys.append(x)\n",
    "    score.append(unsorted_score)\n",
    "    rmse.append(unsorted_rmse)\n",
    "    House_score = dict(zip(keys, score))\n",
    "    House_rmse = dict(zip(keys, rmse))"
   ]
  },
  {
   "cell_type": "code",
   "execution_count": 21,
   "metadata": {
    "colab": {
     "base_uri": "https://localhost:8080/"
    },
    "id": "3WUDDUsnPzZq",
    "outputId": "4b6ccf71-9910-427b-b115-9c9f162a6d5d"
   },
   "outputs": [
    {
     "name": "stdout",
     "output_type": "stream",
     "text": [
      "These are the scores in the dictionary\n"
     ]
    },
    {
     "data": {
      "text/plain": [
       "dict_items([('MSSubClass', 0.007103815434038263), ('LotFrontage', 0.11215612336205616), ('LotArea', 0.0696133153821119), ('OverallQual', 0.6256518924621182), ('OverallCond', 0.006061540238119112), ('YearBuilt', 0.27342162073249154), ('YearRemodAdd', 0.25715139084530325), ('MasVnrArea', 0.22336446466934434), ('BsmtFinSF1', 0.14932026665622322), ('BsmtFinSF2', 0.00012946164773608437), ('BsmtUnfSF', 0.04600128671622783), ('TotalBsmtSF', 0.37648109325168655), ('1stFlrSF', 0.36705686969596585), ('2ndFlrSF', 0.10197407763119004), ('LowQualFinSF', 0.0006556738936118744), ('GrLivArea', 0.5021486502718042), ('BsmtFullBath', 0.051584508782636984), ('BsmtHalfBath', 0.00028372553399325096), ('FullBath', 0.31434385485924576), ('HalfBath', 0.0807171713318704), ('BedroomAbvGr', 0.02829566527980476), ('KitchenAbvGr', 0.01847081344922341), ('TotRmsAbvGrd', 0.2848604068044378), ('Fireplaces', 0.21802253859013498), ('GarageCars', 0.41012393993308704), ('GarageArea', 0.388666759031819), ('WoodDeckSF', 0.10524408301655919), ('OpenPorchSF', 0.0997651562079892), ('EnclosedPorch', 0.01653229126440925), ('3SsnPorch', 0.0019877032147699314), ('ScreenPorch', 0.01242033821951205), ('PoolArea', 0.008538415958697199), ('MiscVal', 0.0004489982853329577), ('MoSold', 0.0021559533965250788), ('YrSold', 0.0008365159328426186), ('ExterQual_Coded', 0.4659963342490334), ('ExterCond_Coded', 0.0003571766794124853), ('BsmtQual_Coded', 0.34246746596334543), ('BsmtCond_Coded', 0.045201802988883544), ('BsmtExposure_Coded', 0.14039725803234548), ('BsmtFinType1_Coded', 0.09296881106045773), ('BsmtFinType2_Coded', 2.833603955587627e-05), ('HeatingQC_Coded', 0.18288341693986754), ('KitchenQual_Coded', 0.4350717915853295), ('Functional_Coded', 0.011581826183062471), ('FireplaceQu_Coded', 0.2708553016873858), ('GarageFinish_Coded', 0.3016719993425554), ('GarageQual_Coded', 0.07498783845258616), ('GarageCond_Coded', 0.06926938903014423), ('PavedDrive_Coded', 0.05352603935775302), ('CentralAir_Coded', 0.06316584593926389), ('SaleCondition_Abnorml', 0.013940343217924256), ('SaleCondition_AdjLand', 0.0025690334492438627), ('SaleCondition_Alloca', 0.00024103723831880863), ('SaleCondition_Family', 0.0021604086232054343), ('SaleCondition_Normal', 0.023712855573727043), ('SaleCondition_Partial', 0.1239461412712719), ('MSZoning_C (all)', 0.012378027240383838), ('MSZoning_FV', 0.008090952068776747), ('MSZoning_RH', 0.004280992395699901), ('MSZoning_RL', 0.06005607192963003), ('MSZoning_RM', 0.08298151445360602), ('Street_Grvl', 0.0016839151737758629), ('Street_Pave', 0.0016839151737758629), ('LotShape_IR1', 0.04985571103162434), ('LotShape_IR2', 0.015900223460163176), ('LotShape_IR3', 0.0013483933209123), ('LotShape_Reg', 0.07164817125610168), ('LandContour_Bnk', 0.010226162600036948), ('LandContour_HLS', 0.014403312638741506), ('LandContour_Low', 0.0020728215778834658), ('LandContour_Lvl', 0.0007587038505129096), ('Utilities_AllPub', 0.00020489907419107833), ('Utilities_NoSeWa', 0.00020489907419107833), ('LotConfig_Corner', 1.7179560139024552e-05), ('LotConfig_CulDSac', 0.02011221366609295), ('LotConfig_FR2', 4.704438277025602e-05), ('LotConfig_FR3', 0.00033071468255052583), ('LotConfig_Inside', 0.006486348366563255), ('LandSlope_Gtl', 0.002612860723047894), ('LandSlope_Mod', 0.001847380110163832), ('LandSlope_Sev', 0.0007838803965173335), ('Neighborhood_Blmngtn', 0.00036349899137200214), ('Neighborhood_Blueste', 0.0004100792170713685), ('Neighborhood_BrDale', 0.010262264618450367), ('Neighborhood_BrkSide', 0.020634709612001534), ('Neighborhood_ClearCr', 0.00310453012864198), ('Neighborhood_CollgCr', 0.005274534877694359), ('Neighborhood_Crawfor', 0.0050636890317505845), ('Neighborhood_Edwards', 0.032381629818642454), ('Neighborhood_Gilbert', 0.0012916564506847417), ('Neighborhood_IDOTRR', 0.026914322539654867), ('Neighborhood_MeadowV', 0.012666186767491538), ('Neighborhood_Mitchel', 0.0033460502938696957), ('Neighborhood_NAmes', 0.03553699922691911), ('Neighborhood_NPkVill', 0.0014371483795927453), ('Neighborhood_NWAmes', 0.0005514406287210338), ('Neighborhood_NoRidge', 0.10917977246392496), ('Neighborhood_NridgHt', 0.16172349501433336), ('Neighborhood_OldTown', 0.03693653440762357), ('Neighborhood_SWISU', 0.004058389767580994), ('Neighborhood_Sawyer', 0.016485036057016456), ('Neighborhood_SawyerW', 0.00021199806465788118), ('Neighborhood_Somerst', 0.0196162423397912), ('Neighborhood_StoneBr', 0.04638110235864379), ('Neighborhood_Timber', 0.015935605374082562), ('Neighborhood_Veenker', 0.004028522058298845), ('Condition1_Artery', 0.011321111294507191), ('Condition1_Feedr', 0.01376601856053905), ('Condition1_Norm', 0.012761841569297938), ('Condition1_PosA', 0.0017654198087544426), ('Condition1_PosN', 0.00245432737118767), ('Condition1_RRAe', 0.0021763411188293613), ('Condition1_RRAn', 3.4724051315437876e-05), ('Condition1_RRNe', 2.1011911255586213e-05), ('Condition1_RRNn', 0.0005399271770732961), ('Condition2_Artery', 0.0012046405769249313), ('Condition2_Feedr', 0.0023362549214475115), ('Condition2_Norm', 0.0009410346721865359), ('Condition2_PosA', 0.0022559871693920153), ('Condition2_PosN', 0.0023504172836845694), ('Condition2_RRAe', 8.957642512186226e-06), ('Condition2_RRAn', 0.00021055300637762286), ('Condition2_RRNn', 0.001540959391313046), ('BldgType_1Fam', 0.01890164367177327), ('BldgType_2fmCon', 0.00947669189085143), ('BldgType_Duplex', 0.01314573004743902), ('BldgType_Twnhs', 0.009747652117666594), ('BldgType_TwnhsE', 1.4473333459830151e-05), ('HouseStyle_1.5Fin', 0.026721156371431798), ('HouseStyle_1.5Unf', 0.007688905770253607), ('HouseStyle_1Story', 0.003820612149457725), ('HouseStyle_2.5Fin', 0.0013341283950877303), ('HouseStyle_2.5Unf', 0.0006685159087950199), ('HouseStyle_2Story', 0.058990707645968254), ('HouseStyle_SFoyer', 0.008665724768357363), ('HouseStyle_SLvl', 0.0014934695299090306), ('RoofStyle_Flat', 0.00027005920864042743), ('RoofStyle_Gable', 0.050509917772403545), ('RoofStyle_Gambrel', 0.0012335151608917627), ('RoofStyle_Hip', 0.05564735623545436), ('RoofStyle_Mansard', 9.506066389608492e-08), ('RoofStyle_Shed', 0.00042259446577674886), ('RoofMatl_ClyTile', 4.756740363021095e-05), ('RoofMatl_CompShg', 0.010921330553769315), ('RoofMatl_Membran', 0.0003988208240198743), ('RoofMatl_Metal', 9.222324925950431e-08), ('RoofMatl_Roll', 0.0002096451155662038), ('RoofMatl_Tar&Grv', 2.421438300581613e-05), ('RoofMatl_WdShake', 0.00199299003866249), ('RoofMatl_WdShngl', 0.028670585076072008), ('Exterior1st_AsbShng', 0.01190844494904375), ('Exterior1st_AsphShn', 0.0007116410960266162), ('Exterior1st_BrkComm', 0.002628010451581786), ('Exterior1st_BrkFace', 0.001047906935307763), ('Exterior1st_CBlock', 0.0006264155296611396), ('Exterior1st_CemntBd', 0.017820050615398486), ('Exterior1st_HdBoard', 0.00905307450880899), ('Exterior1st_ImStucc', 0.0007144158872467443), ('Exterior1st_MetalSd', 0.027911730876283736), ('Exterior1st_Plywood', 0.00031397205065919476), ('Exterior1st_Stone', 0.0013090322914677266), ('Exterior1st_Stucco', 0.0008881745912470151), ('Exterior1st_VinylSd', 0.09303036958883615), ('Exterior1st_Wd Sdng', 0.025160013063829756), ('Exterior1st_WdShing', 0.0026334761732580425), ('Exterior2nd_AsbShng', 0.009844651936000925), ('Exterior2nd_AsphShn', 0.0006014465776190692), ('Exterior2nd_Brk Cmn', 0.00224457157476321), ('Exterior2nd_BrkFace', 0.0006130078676290784), ('Exterior2nd_CBlock', 0.0006264155296611396), ('Exterior2nd_CmentBd', 0.01643092251448819), ('Exterior2nd_HdBoard', 0.004605468930260148), ('Exterior2nd_ImStucc', 0.005535526501454946), ('Exterior2nd_MetalSd', 0.02637008033417787), ('Exterior2nd_Other', 0.002072003426029867), ('Exterior2nd_Plywood', 0.002802735607930873), ('Exterior2nd_Stone', 0.00028068068935416246), ('Exterior2nd_Stucco', 0.0017990909545353428), ('Exterior2nd_VinylSd', 0.09387414632167868), ('Exterior2nd_Wd Sdng', 0.026179400238286354), ('Exterior2nd_Wd Shng', 0.0016264633794863537), ('MasVnrType_0', 0.0026970395586847218), ('MasVnrType_BrkCmn', 0.0019708151324869805), ('MasVnrType_BrkFace', 0.039279754215264306), ('MasVnrType_None', 0.14022603846314463), ('MasVnrType_Stone', 0.10921415295828607), ('Foundation_BrkTil', 0.04166389901406897), ('Foundation_CBlock', 0.11782948678773786), ('Foundation_PConc', 0.24773888846427494), ('Foundation_Slab', 0.01433770597345796), ('Foundation_Stone', 0.00014647367169695613), ('Foundation_Wood', 7.352110682701252e-06), ('Heating_Floor', 0.001277511510031748), ('Heating_GasA', 0.008561599771133799), ('Heating_GasW', 0.00040411448797961214), ('Heating_Grav', 0.00852631243268731), ('Heating_OthW', 0.0006620472629103036), ('Heating_Wall', 0.0034365571915694337), ('Electrical_FuseA', 0.037627434831219), ('Electrical_FuseF', 0.016027809746738675), ('Electrical_FuseP', 0.002281076602603127), ('Electrical_Mix', 0.0014104104135521656), ('Electrical_SBrkr', 0.058736925949945284), ('GarageType_2Types', 0.0005747411999131868), ('GarageType_Attchd', 0.1128695564734562), ('GarageType_Basment', 0.0008658287725289426), ('GarageType_BuiltIn', 0.05543606686560765), ('GarageType_CarPort', 0.004952025072162747), ('GarageType_Detchd', 0.12541569801757135), ('GarageType_NA', 0.05608925972361223), ('SaleType_COD', 0.00656856941220707), ('SaleType_CWD', 0.0003836923479381138), ('SaleType_Con', 0.0017104242854878438), ('SaleType_ConLD', 0.0017464743614883371), ('SaleType_ConLI', 0.00020652721508684913), ('SaleType_ConLw', 0.0007548825448092655), ('SaleType_New', 0.12781297472293873), ('SaleType_Oth', 0.0012176606702936077), ('SaleType_WD', 0.058853555386999545)])"
      ]
     },
     "execution_count": 21,
     "metadata": {},
     "output_type": "execute_result"
    }
   ],
   "source": [
    "print(\"These are the scores in the dictionary\")\n",
    "House_score.items()"
   ]
  },
  {
   "cell_type": "code",
   "execution_count": 22,
   "metadata": {
    "colab": {
     "base_uri": "https://localhost:8080/"
    },
    "id": "gcaF3n41QUIo",
    "outputId": "151ace09-2618-4d00-da3d-80b50799ae6e"
   },
   "outputs": [
    {
     "name": "stdout",
     "output_type": "stream",
     "text": [
      "These are the rmse in the dictionary\n"
     ]
    },
    {
     "data": {
      "text/plain": [
       "dict_items([('MSSubClass', 197532.91111082333), ('LotFrontage', 197516.4756709386), ('LotArea', 187151.96770807984), ('OverallQual', 197577.54697060402), ('OverallCond', 197578.5011100235), ('YearBuilt', 195773.74364937475), ('YearRemodAdd', 195763.47202121938), ('MasVnrArea', 197454.89805812496), ('BsmtFinSF1', 197106.97903969162), ('BsmtFinSF2', 197541.75204371006), ('BsmtUnfSF', 197026.61125162937), ('TotalBsmtSF', 196507.54655618747), ('1stFlrSF', 196425.28696388486), ('2ndFlrSF', 197210.26552142468), ('LowQualFinSF', 197578.72606465206), ('GrLivArea', 196046.82618889908), ('BsmtFullBath', 197583.13462574067), ('BsmtHalfBath', 197583.5203857568), ('FullBath', 197582.01426202498), ('HalfBath', 197583.16345836694), ('BedroomAbvGr', 197580.89161085148), ('KitchenAbvGr', 197582.6251678779), ('TotRmsAbvGrd', 197577.25474771246), ('Fireplaces', 197582.88918949387), ('GarageCars', 197581.76105868), ('GarageArea', 197097.00438037736), ('WoodDeckSF', 197480.9725876627), ('OpenPorchSF', 197532.44755577238), ('EnclosedPorch', 197566.63622633688), ('3SsnPorch', 197579.92638987588), ('ScreenPorch', 197567.29161758415), ('PoolArea', 197579.55759481897), ('MiscVal', 197548.5979359135), ('MoSold', 197577.73226034286), ('YrSold', 195746.75547261437), ('ExterQual_Coded', 197581.2200961126), ('ExterCond_Coded', 197581.66093512718), ('BsmtQual_Coded', 197580.17055874979), ('BsmtCond_Coded', 197580.83686142133), ('BsmtExposure_Coded', 197581.91809161496), ('BsmtFinType1_Coded', 197580.06637678333), ('BsmtFinType2_Coded', 197582.43128544555), ('HeatingQC_Coded', 197580.52661987636), ('KitchenQual_Coded', 197581.09570649406), ('Functional_Coded', 197577.27779156526), ('FireplaceQu_Coded', 197581.5213772013), ('GarageFinish_Coded', 197581.803356998), ('GarageQual_Coded', 197580.91863580994), ('GarageCond_Coded', 197580.92332277808), ('PavedDrive_Coded', 197581.8256589004), ('CentralAir_Coded', 197581.80944667084), ('SaleCondition_Abnorml', 197583.52015027287), ('SaleCondition_AdjLand', 197583.57000828927), ('SaleCondition_Alloca', 197583.56448946957), ('SaleCondition_Family', 197583.56108024096), ('SaleCondition_Normal', 197582.84385275922), ('SaleCondition_Partial', 197583.4534634704), ('MSZoning_C (all)', 197583.56886857038), ('MSZoning_FV', 197583.52322945278), ('MSZoning_RH', 197583.56415528464), ('MSZoning_RL', 197582.8093449022), ('MSZoning_RM', 197583.47599407888), ('Street_Grvl', 197583.5687442429), ('Street_Pave', 197582.65849114585), ('LotShape_IR1', 197583.22565407687), ('LotShape_IR2', 197583.53736508687), ('LotShape_IR3', 197583.5639631204), ('LotShape_Reg', 197583.04315839504), ('LandContour_Bnk', 197583.54019940735), ('LandContour_HLS', 197583.53132108698), ('LandContour_Low', 197583.54603617368), ('LandContour_Lvl', 197582.75258331807), ('Utilities_AllPub', 197582.6562599295), ('Utilities_NoSeWa', 197583.57097544894), ('LotConfig_Corner', 197583.40586636504), ('LotConfig_CulDSac', 197583.4985081372), ('LotConfig_FR2', 197583.5424617554), ('LotConfig_FR3', 197583.56856135515), ('LotConfig_Inside', 197582.92619503627), ('LandSlope_Gtl', 197582.70932289082), ('LandSlope_Mod', 197583.52712305493), ('LandSlope_Sev', 197583.56224176273), ('Neighborhood_Blmngtn', 197583.55996815208), ('Neighborhood_Blueste', 197583.57049880133), ('Neighborhood_BrDale', 197583.5656564147), ('Neighborhood_BrkSide', 197583.54635314035), ('Neighborhood_ClearCr', 197583.5508198757), ('Neighborhood_CollgCr', 197583.46851386596), ('Neighborhood_Crawfor', 197583.5342150823), ('Neighborhood_Edwards', 197583.5270043831), ('Neighborhood_Gilbert', 197583.5186377237), ('Neighborhood_IDOTRR', 197583.55861008266), ('Neighborhood_MeadowV', 197583.56564289692), ('Neighborhood_Mitchel', 197583.5449080589), ('Neighborhood_NAmes', 197583.45769586263), ('Neighborhood_NPkVill', 197583.56700020714), ('Neighborhood_NWAmes', 197583.52361168404), ('Neighborhood_NoRidge', 197583.52379725146), ('Neighborhood_NridgHt', 197583.48703210612), ('Neighborhood_OldTown', 197583.52122398562), ('Neighborhood_SWISU', 197583.55909467043), ('Neighborhood_Sawyer', 197583.53636149716), ('Neighborhood_SawyerW', 197583.53329670188), ('Neighborhood_Somerst', 197583.5042614322), ('Neighborhood_StoneBr', 197583.54454320198), ('Neighborhood_Timber', 197583.539541255), ('Neighborhood_Veenker', 197583.56234724607), ('Condition1_Artery', 197583.5489737415), ('Condition1_Feedr', 197583.53144657056), ('Condition1_Norm', 197582.76560559325), ('Condition1_PosA', 197583.56518807117), ('Condition1_PosN', 197583.55727917704), ('Condition1_RRAe', 197583.5661746539), ('Condition1_RRAn', 197583.55483246292), ('Condition1_RRNe', 197583.57012961473), ('Condition1_RRNn', 197583.5677706389), ('Condition2_Artery', 197583.57071372686), ('Condition2_Feedr', 197583.56893193183), ('Condition2_Norm', 197582.66394753216), ('Condition2_PosA', 197583.57032547257), ('Condition2_PosN', 197583.56947703843), ('Condition2_RRAe', 197583.57079345555), ('Condition2_RRAn', 197583.57097751155), ('Condition2_RRNn', 197583.5707813244), ('BldgType_1Fam', 197582.78582411775), ('BldgType_2fmCon', 197583.55765046438), ('BldgType_Duplex', 197583.54738005466), ('BldgType_Twnhs', 197583.55119301248), ('BldgType_TwnhsE', 197583.4995445605), ('HouseStyle_1.5Fin', 197583.49504986632), ('HouseStyle_1.5Unf', 197583.56610636823), ('HouseStyle_1Story', 197583.12854869224), ('HouseStyle_2.5Fin', 197583.5653509986), ('HouseStyle_2.5Unf', 197583.56545188013), ('HouseStyle_2Story', 197583.24742451502), ('HouseStyle_SFoyer', 197583.554127235), ('HouseStyle_SLvl', 197583.53388974047), ('RoofStyle_Flat', 197583.56267840823), ('RoofStyle_Gable', 197582.89317846994), ('RoofStyle_Gambrel', 197583.56577392176), ('RoofStyle_Hip', 197583.35445117007), ('RoofStyle_Mansard', 197583.56707047392), ('RoofStyle_Shed', 197583.5698921567), ('RoofMatl_ClyTile', 197583.57089745178), ('RoofMatl_CompShg', 197582.6776449701), ('RoofMatl_Membran', 197583.5706149287), ('RoofMatl_Metal', 197583.57082812095), ('RoofMatl_Roll', 197583.57097718221), ('RoofMatl_Tar&Grv', 197583.56438220962), ('RoofMatl_WdShake', 197583.5672679905), ('RoofMatl_WdShngl', 197583.5633352016), ('Exterior1st_AsbShng', 197583.56400700336), ('Exterior1st_AsphShn', 197583.57110544422), ('Exterior1st_BrkComm', 197583.57095985126), ('Exterior1st_BrkFace', 197583.53772741847), ('Exterior1st_CBlock', 197583.57108811152), ('Exterior1st_CemntBd', 197583.5224591248), ('Exterior1st_HdBoard', 197583.44595259335), ('Exterior1st_ImStucc', 197583.57054386463), ('Exterior1st_MetalSd', 197583.45749726958), ('Exterior1st_Plywood', 197583.50558183802), ('Exterior1st_Stone', 197583.56965989844), ('Exterior1st_Stucco', 197583.55732685237), ('Exterior1st_VinylSd', 197583.18988200548), ('Exterior1st_Wd Sdng', 197583.46444939674), ('Exterior1st_WdShing', 197583.55787359003), ('Exterior2nd_AsbShng', 197583.56354422015), ('Exterior2nd_AsphShn', 197583.5700169539), ('Exterior2nd_Brk Cmn', 197583.568377287), ('Exterior2nd_BrkFace', 197583.55448186214), ('Exterior2nd_CBlock', 197583.57108811152), ('Exterior2nd_CmentBd', 197583.52359441546), ('Exterior2nd_HdBoard', 197583.45114284873), ('Exterior2nd_ImStucc', 197583.5627140044), ('Exterior2nd_MetalSd', 197583.46032249153), ('Exterior2nd_Other', 197583.5703462718), ('Exterior2nd_Plywood', 197583.48869920612), ('Exterior2nd_Stone', 197583.56870964164), ('Exterior2nd_Stucco', 197583.55740040026), ('Exterior2nd_VinylSd', 197583.19680982592), ('Exterior2nd_Wd Sdng', 197583.47011830145), ('Exterior2nd_Wd Shng', 197583.55020053306), ('MasVnrType_0', 197583.564893852), ('MasVnrType_BrkCmn', 197583.56384385927), ('MasVnrType_BrkFace', 197583.25569275508), ('MasVnrType_None', 197583.10355422393), ('MasVnrType_Stone', 197583.45360825575), ('Foundation_BrkTil', 197583.5044978469), ('Foundation_CBlock', 197583.24221189157), ('Foundation_PConc', 197583.06629405162), ('Foundation_Slab', 197583.56251964235), ('Foundation_Stone', 197583.56800028164), ('Foundation_Wood', 197583.56952123856), ('Heating_Floor', 197583.5712007741), ('Heating_GasA', 197582.67040751418), ('Heating_GasW', 197583.5610546579), ('Heating_Grav', 197583.56962558837), ('Heating_OthW', 197583.57058026505), ('Heating_Wall', 197583.5701750299), ('Electrical_FuseA', 197583.53163380714), ('Electrical_FuseF', 197583.56137408753), ('Electrical_FuseP', 197583.57043987187), ('Electrical_Mix', 197583.5712198401), ('Electrical_SBrkr', 197582.70692428548), ('GarageType_2Types', 197583.5683055279), ('GarageType_Attchd', 197582.9595506276), ('GarageType_Basment', 197583.56087625757), ('GarageType_BuiltIn', 197583.49373879234), ('GarageType_CarPort', 197583.56802141888), ('GarageType_Detchd', 197583.3915625144), ('GarageType_NA', 197583.54244179506), ('SaleType_COD', 197583.54999133598), ('SaleType_CWD', 197583.56853188953), ('SaleType_Con', 197583.56958294124), ('SaleType_ConLD', 197583.56712230563), ('SaleType_ConLI', 197583.5679788047), ('SaleType_ConLw', 197583.56896139568), ('SaleType_New', 197583.45517291452), ('SaleType_Oth', 197583.57020570702), ('SaleType_WD', 197582.80985337636)])"
      ]
     },
     "execution_count": 22,
     "metadata": {},
     "output_type": "execute_result"
    }
   ],
   "source": [
    "print(\"These are the rmse in the dictionary\")\n",
    "House_rmse.items()"
   ]
  },
  {
   "cell_type": "code",
   "execution_count": 23,
   "metadata": {
    "colab": {
     "base_uri": "https://localhost:8080/"
    },
    "id": "DFAuzjTXR1t4",
    "outputId": "d16f4d51-1059-478e-8c0c-6d3cab3fb73f"
   },
   "outputs": [
    {
     "name": "stdout",
     "output_type": "stream",
     "text": [
      "These are the sorted top 10 highest scores  [('OverallQual', 0.6256518924621182), ('GrLivArea', 0.5021486502718042), ('ExterQual_Coded', 0.4659963342490334), ('KitchenQual_Coded', 0.4350717915853295), ('GarageCars', 0.41012393993308704), ('GarageArea', 0.388666759031819), ('TotalBsmtSF', 0.37648109325168655), ('1stFlrSF', 0.36705686969596585), ('BsmtQual_Coded', 0.34246746596334543), ('FullBath', 0.31434385485924576)]\n"
     ]
    }
   ],
   "source": [
    "sorted_score = sorted(House_score.items(), key=lambda t: t[1], reverse=True) \n",
    "n = 10\n",
    "print(\"These are the sorted top 10 highest scores \", sorted_score[:n])"
   ]
  },
  {
   "cell_type": "code",
   "execution_count": 24,
   "metadata": {
    "colab": {
     "base_uri": "https://localhost:8080/"
    },
    "id": "V46P08nOX7W2",
    "outputId": "3aa15e3d-aad2-430a-e36e-2e933a250b56"
   },
   "outputs": [
    {
     "name": "stdout",
     "output_type": "stream",
     "text": [
      "These are the sorted top 10 highest rmse scores  [('Electrical_Mix', 197583.5712198401), ('Heating_Floor', 197583.5712007741), ('Exterior1st_AsphShn', 197583.57110544422), ('Exterior1st_CBlock', 197583.57108811152), ('Exterior2nd_CBlock', 197583.57108811152), ('Condition2_RRAn', 197583.57097751155), ('RoofMatl_Roll', 197583.57097718221), ('Utilities_NoSeWa', 197583.57097544894), ('Exterior1st_BrkComm', 197583.57095985126), ('RoofMatl_ClyTile', 197583.57089745178)]\n"
     ]
    }
   ],
   "source": [
    "sorted_rmse = sorted(House_rmse.items(), key=lambda t: t[1], reverse=True) \n",
    "print(\"These are the sorted top 10 highest rmse scores \", sorted_rmse[:n])"
   ]
  },
  {
   "cell_type": "markdown",
   "metadata": {
    "id": "obRXw3JLmnQw"
   },
   "source": [
    "-  Select all possible 2 pairs of these top 10 predictors, and train 45 linear models, list the scores and RMSE errors achieved by the top 10 predictors by score."
   ]
  },
  {
   "cell_type": "code",
   "execution_count": 25,
   "metadata": {
    "colab": {
     "base_uri": "https://localhost:8080/"
    },
    "id": "HzeRTonoFRkr",
    "outputId": "844cceac-16f2-42bc-efae-bef41148d4de"
   },
   "outputs": [
    {
     "data": {
      "text/plain": [
       "['OverallQual',\n",
       " 'GrLivArea',\n",
       " 'ExterQual_Coded',\n",
       " 'KitchenQual_Coded',\n",
       " 'GarageCars',\n",
       " 'GarageArea',\n",
       " 'TotalBsmtSF',\n",
       " '1stFlrSF',\n",
       " 'BsmtQual_Coded',\n",
       " 'FullBath']"
      ]
     },
     "execution_count": 25,
     "metadata": {},
     "output_type": "execute_result"
    }
   ],
   "source": [
    "#Make List\n",
    "sorted_score10 = sorted_score[:n]\n",
    "sorted_score1 = []\n",
    "for i in range(10):\n",
    "  sorted_score1.append(sorted_score[i][0])\n",
    "sorted_score1"
   ]
  },
  {
   "cell_type": "code",
   "execution_count": 26,
   "metadata": {
    "colab": {
     "base_uri": "https://localhost:8080/"
    },
    "id": "u19F4sqDCbRj",
    "outputId": "761bed8c-d8cf-4057-8bef-1da97cfddbfa"
   },
   "outputs": [
    {
     "name": "stdout",
     "output_type": "stream",
     "text": [
      "45\n",
      "[('OverallQual', 'GrLivArea'), ('OverallQual', 'ExterQual_Coded'), ('OverallQual', 'KitchenQual_Coded'), ('OverallQual', 'GarageCars'), ('OverallQual', 'GarageArea'), ('OverallQual', 'TotalBsmtSF'), ('OverallQual', '1stFlrSF'), ('OverallQual', 'BsmtQual_Coded'), ('OverallQual', 'FullBath'), ('GrLivArea', 'ExterQual_Coded'), ('GrLivArea', 'KitchenQual_Coded'), ('GrLivArea', 'GarageCars'), ('GrLivArea', 'GarageArea'), ('GrLivArea', 'TotalBsmtSF'), ('GrLivArea', '1stFlrSF'), ('GrLivArea', 'BsmtQual_Coded'), ('GrLivArea', 'FullBath'), ('ExterQual_Coded', 'KitchenQual_Coded'), ('ExterQual_Coded', 'GarageCars'), ('ExterQual_Coded', 'GarageArea'), ('ExterQual_Coded', 'TotalBsmtSF'), ('ExterQual_Coded', '1stFlrSF'), ('ExterQual_Coded', 'BsmtQual_Coded'), ('ExterQual_Coded', 'FullBath'), ('KitchenQual_Coded', 'GarageCars'), ('KitchenQual_Coded', 'GarageArea'), ('KitchenQual_Coded', 'TotalBsmtSF'), ('KitchenQual_Coded', '1stFlrSF'), ('KitchenQual_Coded', 'BsmtQual_Coded'), ('KitchenQual_Coded', 'FullBath'), ('GarageCars', 'GarageArea'), ('GarageCars', 'TotalBsmtSF'), ('GarageCars', '1stFlrSF'), ('GarageCars', 'BsmtQual_Coded'), ('GarageCars', 'FullBath'), ('GarageArea', 'TotalBsmtSF'), ('GarageArea', '1stFlrSF'), ('GarageArea', 'BsmtQual_Coded'), ('GarageArea', 'FullBath'), ('TotalBsmtSF', '1stFlrSF'), ('TotalBsmtSF', 'BsmtQual_Coded'), ('TotalBsmtSF', 'FullBath'), ('1stFlrSF', 'BsmtQual_Coded'), ('1stFlrSF', 'FullBath'), ('BsmtQual_Coded', 'FullBath')]\n"
     ]
    }
   ],
   "source": [
    "from itertools import combinations\n",
    "comb = combinations(sorted_score1, 2)\n",
    "combination_result =[]\n",
    "x_comb = []\n",
    "y_comb = []\n",
    "for comblist in list(comb):\n",
    "  combination_result.append(comblist)\n",
    "\n",
    "print(len(combination_result)) \n",
    "print(combination_result)"
   ]
  },
  {
   "cell_type": "code",
   "execution_count": 27,
   "metadata": {
    "colab": {
     "base_uri": "https://localhost:8080/"
    },
    "id": "3UhurGcaPlOY",
    "outputId": "b0018f1c-c4b6-4f1f-be48-7ff06af4c653"
   },
   "outputs": [
    {
     "name": "stdout",
     "output_type": "stream",
     "text": [
      "OverallQual  and  GrLivArea score is  0.3516578120691849  rmse is  1597.8929645090116\n",
      "OverallQual  and  ExterQual_Coded score is  0.5274804461466409  rmse is  3.8475218852573465\n",
      "OverallQual  and  KitchenQual_Coded score is  0.4533743408949561  rmse is  3.7400095230997357\n",
      "OverallQual  and  GarageCars score is  0.3608053097696037  rmse is  4.471753050255096\n",
      "OverallQual  and  GarageArea score is  0.3158684549059215  rmse is  513.1556013850737\n",
      "OverallQual  and  TotalBsmtSF score is  0.2892379811797141  rmse is  1138.8482544111582\n",
      "OverallQual  and  1stFlrSF score is  0.2267891353818806  rmse is  1219.178564129503\n",
      "OverallQual  and  BsmtQual_Coded score is  0.396118069597755  rmse is  2.822730631707192\n",
      "OverallQual  and  FullBath score is  0.3031600399564057  rmse is  4.683547420316801\n",
      "GrLivArea  and  ExterQual_Coded score is  0.1900838435071074  rmse is  1601.5779930456772\n",
      "GrLivArea  and  KitchenQual_Coded score is  0.17687302400791638  rmse is  1601.4592365406525\n",
      "GrLivArea  and  GarageCars score is  0.21832015037076447  rmse is  1602.1397128805718\n",
      "GrLivArea  and  GarageArea score is  0.21995863373530566  rmse is  1141.526124602799\n",
      "GrLivArea  and  TotalBsmtSF score is  0.20690508168916  rmse is  684.4615231788626\n",
      "GrLivArea  and  1stFlrSF score is  0.3203831334097772  rmse is  565.6594527083907\n",
      "GrLivArea  and  BsmtQual_Coded score is  0.1075548927269564  rmse is  1600.5332700791125\n",
      "GrLivArea  and  FullBath score is  0.39691467441204  rmse is  1602.3312229202816\n",
      "ExterQual_Coded  and  KitchenQual_Coded score is  0.5128309988924689  rmse is  0.48751536681084456\n",
      "ExterQual_Coded  and  GarageCars score is  0.2770866227741512  rmse is  0.9118699739080504\n",
      "ExterQual_Coded  and  GarageArea score is  0.2457954483382392  rmse is  516.7295223954874\n",
      "ExterQual_Coded  and  TotalBsmtSF score is  0.22144511894201813  rmse is  1142.4490057862179\n",
      "ExterQual_Coded  and  1stFlrSF score is  0.15827298549084323  rmse is  1222.8274940223523\n",
      "ExterQual_Coded  and  BsmtQual_Coded score is  0.3198559576847899  rmse is  1.3127405193841153\n",
      "ExterQual_Coded  and  FullBath score is  0.2342070372898496  rmse is  1.0085253034362762\n",
      "KitchenQual_Coded  and  GarageCars score is  0.25990583662950373  rmse is  1.0233573539935121\n",
      "KitchenQual_Coded  and  GarageArea score is  0.2397136279552221  rmse is  516.607562829468\n",
      "KitchenQual_Coded  and  TotalBsmtSF score is  0.1871683878851187  rmse is  1142.3356660686923\n",
      "KitchenQual_Coded  and  1stFlrSF score is  0.1497901209252963  rmse is  1222.7087310949776\n",
      "KitchenQual_Coded  and  BsmtQual_Coded score is  0.26105768114497974  rmse is  1.252668384765809\n",
      "KitchenQual_Coded  and  FullBath score is  0.18891889728649358  rmse is  1.149746845274723\n",
      "GarageCars  and  GarageArea score is  0.7787628568112384  rmse is  517.147612137701\n",
      "GarageCars  and  TotalBsmtSF score is  0.18886397819633494  rmse is  1143.0088738135144\n",
      "GarageCars  and  1stFlrSF score is  0.19299925778311156  rmse is  1223.3926572591552\n",
      "GarageCars  and  BsmtQual_Coded score is  0.2017756410750824  rmse is  1.9242504322534002\n",
      "GarageCars  and  FullBath score is  0.22059182822718781  rmse is  0.7181597487032633\n",
      "GarageArea  and  TotalBsmtSF score is  0.23684327363016433  rmse is  698.8271867824701\n",
      "GarageArea  and  1stFlrSF score is  0.2398860686970382  rmse is  767.9398556643666\n",
      "GarageArea  and  BsmtQual_Coded score is  0.16492456880887918  rmse is  515.7051051516283\n",
      "GarageArea  and  FullBath score is  0.16455695945728321  rmse is  517.51151929473\n",
      "TotalBsmtSF  and  1stFlrSF score is  0.6716293799317503  rmse is  273.7766688079202\n",
      "TotalBsmtSF  and  BsmtQual_Coded score is  0.31843310682238224  rmse is  1141.3535952771406\n",
      "TotalBsmtSF  and  FullBath score is  0.10479620107131493  rmse is  1143.251531546563\n",
      "1stFlrSF  and  BsmtQual_Coded score is  0.08619979417928536  rmse is  1221.781403502773\n",
      "1stFlrSF  and  FullBath score is  0.144884902579707  rmse is  1223.6217295333968\n",
      "BsmtQual_Coded  and  FullBath score is  0.13782133485939774  rmse is  2.1010434459201064\n"
     ]
    }
   ],
   "source": [
    "for x in range(45):\n",
    "  x_comb = combination_result[x][0]\n",
    "  y_comb = combination_result[x][1]\n",
    "  X_House = housing_ml[[x_comb]]\n",
    "  y_house = housing_ml[[y_comb]]\n",
    "  linear_model.fit(X_House, y_house)\n",
    "  y_pred = linear_model.predict(X_House)\n",
    "  unsorted_score_comb = linear_model.score(X_House, y_house)\n",
    "  unsorted_rmse_comb = np.sqrt(mean_squared_error(X_House, y_house))\n",
    "  print(combination_result[x][0], \" and \", combination_result[x][1], \"score is \", unsorted_score_comb,\" rmse is \", unsorted_rmse_comb)"
   ]
  },
  {
   "cell_type": "markdown",
   "metadata": {
    "id": "9CKzlfcPnRCW"
   },
   "source": [
    "-  Train a single model using all features. Calculate RMSE and score. Observe how much of the prediction power was in the 2 pairs, vs all features."
   ]
  },
  {
   "cell_type": "code",
   "execution_count": 28,
   "metadata": {
    "colab": {
     "base_uri": "https://localhost:8080/"
    },
    "id": "-5E5GpE4weoi",
    "outputId": "44af62e0-009e-4850-9741-fd0f0a2c9568"
   },
   "outputs": [
    {
     "name": "stdout",
     "output_type": "stream",
     "text": [
      "The accuracy of the score using all the data:  0.9184728890914109\n",
      "The accuracy of the rmse using al the data:  22675.41074544839\n"
     ]
    }
   ],
   "source": [
    "linear_model.fit(X, y)\n",
    "y_pred6 = linear_model.predict(X)\n",
    "print(\"The accuracy of the score using all the data: \", linear_model.score(X, y))\n",
    "print(\"The accuracy of the rmse using al the data: \", np.sqrt(mean_squared_error(y_pred6, y)))"
   ]
  },
  {
   "cell_type": "markdown",
   "metadata": {
    "id": "0WIfA9qOe3Z2"
   },
   "source": [
    "\n",
    "- As of the scores for all features is high percentage 91.85% and rmse for all feature is also high. It has a better accuracy<br>\n",
    "- As for the top10 with 2 models, the scores and rmse is unpredictable."
   ]
  },
  {
   "cell_type": "markdown",
   "metadata": {
    "id": "BKWcpcRapzUl"
   },
   "source": [
    "- Use the 5NN and 10NN regressor with all features, and list the RMSE and score for these 2 models \n",
    "https://scikit-learn.org/stable/modules/generated/sklearn.neighbors.KNeighborsRegressor.html\n",
    "observe if the results are better than linear regression? \n"
   ]
  },
  {
   "cell_type": "code",
   "execution_count": 29,
   "metadata": {
    "id": "kPAl52LmfRCp"
   },
   "outputs": [],
   "source": [
    "from sklearn.neighbors import KNeighborsRegressor\n",
    "neigh5 = KNeighborsRegressor(n_neighbors=5)\n",
    "neigh10 = KNeighborsRegressor(n_neighbors=10)"
   ]
  },
  {
   "cell_type": "code",
   "execution_count": 30,
   "metadata": {
    "colab": {
     "base_uri": "https://localhost:8080/"
    },
    "id": "33EHMwN7tZ9c",
    "outputId": "95241d9b-23bd-4a85-9409-172d6cfea3de"
   },
   "outputs": [
    {
     "name": "stdout",
     "output_type": "stream",
     "text": [
      "Using 5NN, this predict for the Full Bath is  [96600.]\n",
      "Using 10NN, this predict for the Overall Quality is  [99690.]\n"
     ]
    }
   ],
   "source": [
    "neigh5.fit(y_pred, y)\n",
    "print(\"Using 5NN, this predict for the Full Bath is \", neigh5.predict([[1]]))\n",
    "neigh10.fit(y_pred, y)\n",
    "print(\"Using 10NN, this predict for the Overall Quality is \", neigh10.predict([[1]]))"
   ]
  },
  {
   "cell_type": "code",
   "execution_count": 31,
   "metadata": {
    "colab": {
     "base_uri": "https://localhost:8080/"
    },
    "id": "wNHPTVBnqE72",
    "outputId": "c27b50e9-899f-4163-fb7f-b8dd36f0eb34"
   },
   "outputs": [
    {
     "name": "stdout",
     "output_type": "stream",
     "text": [
      "Using 5NN, this predict for  OverallQual  and  GrLivArea  is  [[591.2]]\n",
      "Using 5NN, this predict for  OverallQual  and  ExterQual_Coded  is  [[1.4]]\n",
      "Using 5NN, this predict for  OverallQual  and  KitchenQual_Coded  is  [[1.2]]\n",
      "Using 5NN, this predict for  OverallQual  and  GarageCars  is  [[0.4]]\n",
      "Using 5NN, this predict for  OverallQual  and  GarageArea  is  [[110.8]]\n",
      "Using 5NN, this predict for  OverallQual  and  TotalBsmtSF  is  [[343.4]]\n",
      "Using 5NN, this predict for  OverallQual  and  1stFlrSF  is  [[591.2]]\n",
      "Using 5NN, this predict for  OverallQual  and  BsmtQual_Coded  is  [[2.2]]\n",
      "Using 5NN, this predict for  OverallQual  and  FullBath  is  [[0.6]]\n",
      "Using 5NN, this predict for  GrLivArea  and  ExterQual_Coded  is  [[1.8]]\n",
      "Using 5NN, this predict for  GrLivArea  and  KitchenQual_Coded  is  [[1.4]]\n",
      "Using 5NN, this predict for  GrLivArea  and  GarageCars  is  [[0.6]]\n",
      "Using 5NN, this predict for  GrLivArea  and  GarageArea  is  [[158.8]]\n",
      "Using 5NN, this predict for  GrLivArea  and  TotalBsmtSF  is  [[363.6]]\n",
      "Using 5NN, this predict for  GrLivArea  and  1stFlrSF  is  [[475.4]]\n",
      "Using 5NN, this predict for  GrLivArea  and  BsmtQual_Coded  is  [[2.4]]\n",
      "Using 5NN, this predict for  GrLivArea  and  FullBath  is  [[0.8]]\n",
      "Using 5NN, this predict for  ExterQual_Coded  and  KitchenQual_Coded  is  [[1.4]]\n",
      "Using 5NN, this predict for  ExterQual_Coded  and  GarageCars  is  [[0.6]]\n",
      "Using 5NN, this predict for  ExterQual_Coded  and  GarageArea  is  [[162.]]\n",
      "Using 5NN, this predict for  ExterQual_Coded  and  TotalBsmtSF  is  [[646.6]]\n",
      "Using 5NN, this predict for  ExterQual_Coded  and  1stFlrSF  is  [[781.6]]\n",
      "Using 5NN, this predict for  ExterQual_Coded  and  BsmtQual_Coded  is  [[2.4]]\n",
      "Using 5NN, this predict for  ExterQual_Coded  and  FullBath  is  [[0.8]]\n",
      "Using 5NN, this predict for  KitchenQual_Coded  and  GarageCars  is  [[0.4]]\n",
      "Using 5NN, this predict for  KitchenQual_Coded  and  GarageArea  is  [[105.6]]\n",
      "Using 5NN, this predict for  KitchenQual_Coded  and  TotalBsmtSF  is  [[571.2]]\n",
      "Using 5NN, this predict for  KitchenQual_Coded  and  1stFlrSF  is  [[852.6]]\n",
      "Using 5NN, this predict for  KitchenQual_Coded  and  BsmtQual_Coded  is  [[2.4]]\n",
      "Using 5NN, this predict for  KitchenQual_Coded  and  FullBath  is  [[1.4]]\n",
      "Using 5NN, this predict for  GarageCars  and  GarageArea  is  [[290.6]]\n",
      "Using 5NN, this predict for  GarageCars  and  TotalBsmtSF  is  [[1049.6]]\n",
      "Using 5NN, this predict for  GarageCars  and  1stFlrSF  is  [[1099.2]]\n",
      "Using 5NN, this predict for  GarageCars  and  BsmtQual_Coded  is  [[3.]]\n",
      "Using 5NN, this predict for  GarageCars  and  FullBath  is  [[1.2]]\n",
      "Using 5NN, this predict for  GarageArea  and  TotalBsmtSF  is  [[683.6]]\n",
      "Using 5NN, this predict for  GarageArea  and  1stFlrSF  is  [[818.6]]\n",
      "Using 5NN, this predict for  GarageArea  and  BsmtQual_Coded  is  [[3.4]]\n",
      "Using 5NN, this predict for  GarageArea  and  FullBath  is  [[1.6]]\n",
      "Using 5NN, this predict for  TotalBsmtSF  and  1stFlrSF  is  [[1049.6]]\n",
      "Using 5NN, this predict for  TotalBsmtSF  and  BsmtQual_Coded  is  [[0.]]\n",
      "Using 5NN, this predict for  TotalBsmtSF  and  FullBath  is  [[1.6]]\n",
      "Using 5NN, this predict for  1stFlrSF  and  BsmtQual_Coded  is  [[1.8]]\n",
      "Using 5NN, this predict for  1stFlrSF  and  FullBath  is  [[1.]]\n",
      "Using 5NN, this predict for  BsmtQual_Coded  and  FullBath  is  [[1.6]]\n"
     ]
    }
   ],
   "source": [
    "for x in range(45):\n",
    "  x_comb = combination_result[x][0]\n",
    "  y_comb = combination_result[x][1]\n",
    "  X_House = housing_ml[[x_comb]]\n",
    "  y_house = housing_ml[[y_comb]]\n",
    "  neigh5.fit(X_House, y_house)\n",
    "  neigh10.fit(X_House, y_house)\n",
    "  print(\"Using 5NN, this predict for \", combination_result[x][0], \" and \", combination_result[x][1], \" is \", neigh5.predict([[1]]))"
   ]
  },
  {
   "cell_type": "code",
   "execution_count": 32,
   "metadata": {
    "colab": {
     "base_uri": "https://localhost:8080/"
    },
    "id": "6wwIC0JMrQ_C",
    "outputId": "163ef25d-d411-4724-be6b-dfefd79129af"
   },
   "outputs": [
    {
     "name": "stdout",
     "output_type": "stream",
     "text": [
      "Using 10NN, this predict for  OverallQual  and  GrLivArea  is  [[873.2]]\n",
      "Using 10NN, this predict for  OverallQual  and  ExterQual_Coded  is  [[1.6]]\n",
      "Using 10NN, this predict for  OverallQual  and  KitchenQual_Coded  is  [[1.5]]\n",
      "Using 10NN, this predict for  OverallQual  and  GarageCars  is  [[0.6]]\n",
      "Using 10NN, this predict for  OverallQual  and  GarageArea  is  [[148.2]]\n",
      "Using 10NN, this predict for  OverallQual  and  TotalBsmtSF  is  [[540.5]]\n",
      "Using 10NN, this predict for  OverallQual  and  1stFlrSF  is  [[771.5]]\n",
      "Using 10NN, this predict for  OverallQual  and  BsmtQual_Coded  is  [[2.3]]\n",
      "Using 10NN, this predict for  OverallQual  and  FullBath  is  [[0.9]]\n",
      "Using 10NN, this predict for  GrLivArea  and  ExterQual_Coded  is  [[1.9]]\n",
      "Using 10NN, this predict for  GrLivArea  and  KitchenQual_Coded  is  [[2.]]\n",
      "Using 10NN, this predict for  GrLivArea  and  GarageCars  is  [[0.5]]\n",
      "Using 10NN, this predict for  GrLivArea  and  GarageArea  is  [[128.5]]\n",
      "Using 10NN, this predict for  GrLivArea  and  TotalBsmtSF  is  [[495.4]]\n",
      "Using 10NN, this predict for  GrLivArea  and  1stFlrSF  is  [[551.3]]\n",
      "Using 10NN, this predict for  GrLivArea  and  BsmtQual_Coded  is  [[3.1]]\n",
      "Using 10NN, this predict for  GrLivArea  and  FullBath  is  [[0.9]]\n",
      "Using 10NN, this predict for  ExterQual_Coded  and  KitchenQual_Coded  is  [[1.3]]\n",
      "Using 10NN, this predict for  ExterQual_Coded  and  GarageCars  is  [[0.7]]\n",
      "Using 10NN, this predict for  ExterQual_Coded  and  GarageArea  is  [[189.]]\n",
      "Using 10NN, this predict for  ExterQual_Coded  and  TotalBsmtSF  is  [[641.3]]\n",
      "Using 10NN, this predict for  ExterQual_Coded  and  1stFlrSF  is  [[850.]]\n",
      "Using 10NN, this predict for  ExterQual_Coded  and  BsmtQual_Coded  is  [[2.3]]\n",
      "Using 10NN, this predict for  ExterQual_Coded  and  FullBath  is  [[1.1]]\n",
      "Using 10NN, this predict for  KitchenQual_Coded  and  GarageCars  is  [[0.4]]\n",
      "Using 10NN, this predict for  KitchenQual_Coded  and  GarageArea  is  [[128.]]\n",
      "Using 10NN, this predict for  KitchenQual_Coded  and  TotalBsmtSF  is  [[667.5]]\n",
      "Using 10NN, this predict for  KitchenQual_Coded  and  1stFlrSF  is  [[942.]]\n",
      "Using 10NN, this predict for  KitchenQual_Coded  and  BsmtQual_Coded  is  [[2.6]]\n",
      "Using 10NN, this predict for  KitchenQual_Coded  and  FullBath  is  [[1.4]]\n",
      "Using 10NN, this predict for  GarageCars  and  GarageArea  is  [[285.2]]\n",
      "Using 10NN, this predict for  GarageCars  and  TotalBsmtSF  is  [[923.6]]\n",
      "Using 10NN, this predict for  GarageCars  and  1stFlrSF  is  [[1045.3]]\n",
      "Using 10NN, this predict for  GarageCars  and  BsmtQual_Coded  is  [[2.9]]\n",
      "Using 10NN, this predict for  GarageCars  and  FullBath  is  [[1.1]]\n",
      "Using 10NN, this predict for  GarageArea  and  TotalBsmtSF  is  [[965.9]]\n",
      "Using 10NN, this predict for  GarageArea  and  1stFlrSF  is  [[1036.9]]\n",
      "Using 10NN, this predict for  GarageArea  and  BsmtQual_Coded  is  [[3.4]]\n",
      "Using 10NN, this predict for  GarageArea  and  FullBath  is  [[1.7]]\n",
      "Using 10NN, this predict for  TotalBsmtSF  and  1stFlrSF  is  [[1108.5]]\n",
      "Using 10NN, this predict for  TotalBsmtSF  and  BsmtQual_Coded  is  [[0.]]\n",
      "Using 10NN, this predict for  TotalBsmtSF  and  FullBath  is  [[1.5]]\n",
      "Using 10NN, this predict for  1stFlrSF  and  BsmtQual_Coded  is  [[2.4]]\n",
      "Using 10NN, this predict for  1stFlrSF  and  FullBath  is  [[1.]]\n",
      "Using 10NN, this predict for  BsmtQual_Coded  and  FullBath  is  [[1.7]]\n"
     ]
    }
   ],
   "source": [
    " for x in range(45):\n",
    "  x_comb = combination_result[x][0]\n",
    "  y_comb = combination_result[x][1]\n",
    "  X_House = housing_ml[[x_comb]]\n",
    "  y_house = housing_ml[[y_comb]]\n",
    "  neigh10.fit(X_House, y_house)\n",
    "  print(\"Using 10NN, this predict for \", combination_result[x][0], \" and \", combination_result[x][1], \" is \", neigh10.predict([[1]]))"
   ]
  },
  {
   "cell_type": "markdown",
   "metadata": {
    "id": "kBJVmriW-Ckz"
   },
   "source": [
    "- Which regressor is better for inference?\n",
    " - Comparing with the 2 Models from Top 10 and the all features for 5NN and 10 NN. Its prediction from 5NN to 10NN gets to bigger number. However, the better predictor is for the all features and with a higher NN such as 10NN\n",
    " - Using the score and rmse would be a better regressor for inference than using KNN because scores has a range on or within 1. Rmse has a range closer to mean. "
   ]
  }
 ],
 "metadata": {
  "colab": {
   "collapsed_sections": [],
   "name": "DATA 602 HW1 scikit_learn.ipynb",
   "provenance": []
  },
  "kernelspec": {
   "display_name": "Python 3",
   "language": "python",
   "name": "python3"
  },
  "language_info": {
   "codemirror_mode": {
    "name": "ipython",
    "version": 3
   },
   "file_extension": ".py",
   "mimetype": "text/x-python",
   "name": "python",
   "nbconvert_exporter": "python",
   "pygments_lexer": "ipython3",
   "version": "3.8.5"
  }
 },
 "nbformat": 4,
 "nbformat_minor": 1
}
