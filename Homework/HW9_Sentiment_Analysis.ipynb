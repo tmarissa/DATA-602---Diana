{
  "nbformat": 4,
  "nbformat_minor": 0,
  "metadata": {
    "colab": {
      "name": "602 Marissa HW9 Sentiment Analysis",
      "provenance": []
    },
    "kernelspec": {
      "name": "python3",
      "display_name": "Python 3"
    },
    "language_info": {
      "name": "python"
    }
  },
  "cells": [
    {
      "cell_type": "markdown",
      "metadata": {
        "id": "P_6zJ-sPOnA6"
      },
      "source": [
        "Natural Language Processing\n",
        "Use the train.tsv file at\n",
        "https://www.kaggle.com/c/sentiment-analysis-on-movie-reviews/data\n",
        "-Load the data, show the first five rows, check the data, and provide information on the\n",
        "data.\n",
        "-Show the distribution of review documents.\n",
        "-Generate the document term matrix by using scikitlearn’s CountVectorizer. From\n",
        "nltk.tokenizer import RegexpTokenizer. ‘Sentiment’ is the data. Train, test and split.\n",
        "-Import the MultinomialNB module and create a MNB classifier object using the\n",
        "MultinomialNB() function. Import scikit.learn metrics to compute the accuracy and fit\n",
        "the model before computing the accuracy. What is the outcome?\n",
        "-Use TfidfVectorizer-transformed data and split it into training and test datasets.\n",
        "-Build the text classification model using TF-IDF. First, import the MultinomialNB\n",
        "module and create the MNB classifier object using the MultinomialNB function. Fit the\n",
        "model on the training set and perform the prediction. Is the accuracy better?"
      ]
    },
    {
      "cell_type": "code",
      "metadata": {
        "id": "sSEDjBkcmBeq"
      },
      "source": [
        "#pip install nltk"
      ],
      "execution_count": 1,
      "outputs": []
    },
    {
      "cell_type": "code",
      "metadata": {
        "id": "tov-JlISnDb1"
      },
      "source": [
        "#import nltk"
      ],
      "execution_count": 2,
      "outputs": []
    },
    {
      "cell_type": "code",
      "metadata": {
        "id": "JapmPCMCpCI2"
      },
      "source": [
        "#nltk.download(\"book\")"
      ],
      "execution_count": 3,
      "outputs": []
    },
    {
      "cell_type": "code",
      "metadata": {
        "id": "7XEGNfBjrKtr"
      },
      "source": [
        "import pandas as pd\n",
        "import seaborn as sns"
      ],
      "execution_count": 4,
      "outputs": []
    },
    {
      "cell_type": "code",
      "metadata": {
        "colab": {
          "base_uri": "https://localhost:8080/",
          "height": 204
        },
        "id": "5PFVsyaybOjr",
        "outputId": "74b39e67-4d44-4e0d-f4dd-d3da2cc53b4e"
      },
      "source": [
        "train = pd.read_csv('train.tsv.zip', sep='\\t')\n",
        "train.head(5)"
      ],
      "execution_count": 5,
      "outputs": [
        {
          "output_type": "execute_result",
          "data": {
            "text/html": [
              "<div>\n",
              "<style scoped>\n",
              "    .dataframe tbody tr th:only-of-type {\n",
              "        vertical-align: middle;\n",
              "    }\n",
              "\n",
              "    .dataframe tbody tr th {\n",
              "        vertical-align: top;\n",
              "    }\n",
              "\n",
              "    .dataframe thead th {\n",
              "        text-align: right;\n",
              "    }\n",
              "</style>\n",
              "<table border=\"1\" class=\"dataframe\">\n",
              "  <thead>\n",
              "    <tr style=\"text-align: right;\">\n",
              "      <th></th>\n",
              "      <th>PhraseId</th>\n",
              "      <th>SentenceId</th>\n",
              "      <th>Phrase</th>\n",
              "      <th>Sentiment</th>\n",
              "    </tr>\n",
              "  </thead>\n",
              "  <tbody>\n",
              "    <tr>\n",
              "      <th>0</th>\n",
              "      <td>1</td>\n",
              "      <td>1</td>\n",
              "      <td>A series of escapades demonstrating the adage ...</td>\n",
              "      <td>1</td>\n",
              "    </tr>\n",
              "    <tr>\n",
              "      <th>1</th>\n",
              "      <td>2</td>\n",
              "      <td>1</td>\n",
              "      <td>A series of escapades demonstrating the adage ...</td>\n",
              "      <td>2</td>\n",
              "    </tr>\n",
              "    <tr>\n",
              "      <th>2</th>\n",
              "      <td>3</td>\n",
              "      <td>1</td>\n",
              "      <td>A series</td>\n",
              "      <td>2</td>\n",
              "    </tr>\n",
              "    <tr>\n",
              "      <th>3</th>\n",
              "      <td>4</td>\n",
              "      <td>1</td>\n",
              "      <td>A</td>\n",
              "      <td>2</td>\n",
              "    </tr>\n",
              "    <tr>\n",
              "      <th>4</th>\n",
              "      <td>5</td>\n",
              "      <td>1</td>\n",
              "      <td>series</td>\n",
              "      <td>2</td>\n",
              "    </tr>\n",
              "  </tbody>\n",
              "</table>\n",
              "</div>"
            ],
            "text/plain": [
              "   PhraseId  ...  Sentiment\n",
              "0         1  ...          1\n",
              "1         2  ...          2\n",
              "2         3  ...          2\n",
              "3         4  ...          2\n",
              "4         5  ...          2\n",
              "\n",
              "[5 rows x 4 columns]"
            ]
          },
          "metadata": {},
          "execution_count": 5
        }
      ]
    },
    {
      "cell_type": "code",
      "metadata": {
        "colab": {
          "base_uri": "https://localhost:8080/"
        },
        "id": "RIO1XXx6cKYz",
        "outputId": "785482ea-8148-4346-c094-ff37dbb81f74"
      },
      "source": [
        "train.info()"
      ],
      "execution_count": 7,
      "outputs": [
        {
          "output_type": "stream",
          "name": "stdout",
          "text": [
            "<class 'pandas.core.frame.DataFrame'>\n",
            "RangeIndex: 156060 entries, 0 to 156059\n",
            "Data columns (total 4 columns):\n",
            " #   Column      Non-Null Count   Dtype \n",
            "---  ------      --------------   ----- \n",
            " 0   PhraseId    156060 non-null  int64 \n",
            " 1   SentenceId  156060 non-null  int64 \n",
            " 2   Phrase      156060 non-null  object\n",
            " 3   Sentiment   156060 non-null  int64 \n",
            "dtypes: int64(3), object(1)\n",
            "memory usage: 4.8+ MB\n"
          ]
        }
      ]
    },
    {
      "cell_type": "code",
      "metadata": {
        "colab": {
          "base_uri": "https://localhost:8080/",
          "height": 297
        },
        "id": "1aa9WinodmMU",
        "outputId": "0d9e0fd6-e6bd-41be-d6b6-009c46bae632"
      },
      "source": [
        "train.describe()"
      ],
      "execution_count": 10,
      "outputs": [
        {
          "output_type": "execute_result",
          "data": {
            "text/html": [
              "<div>\n",
              "<style scoped>\n",
              "    .dataframe tbody tr th:only-of-type {\n",
              "        vertical-align: middle;\n",
              "    }\n",
              "\n",
              "    .dataframe tbody tr th {\n",
              "        vertical-align: top;\n",
              "    }\n",
              "\n",
              "    .dataframe thead th {\n",
              "        text-align: right;\n",
              "    }\n",
              "</style>\n",
              "<table border=\"1\" class=\"dataframe\">\n",
              "  <thead>\n",
              "    <tr style=\"text-align: right;\">\n",
              "      <th></th>\n",
              "      <th>PhraseId</th>\n",
              "      <th>SentenceId</th>\n",
              "      <th>Sentiment</th>\n",
              "    </tr>\n",
              "  </thead>\n",
              "  <tbody>\n",
              "    <tr>\n",
              "      <th>count</th>\n",
              "      <td>156060.000000</td>\n",
              "      <td>156060.000000</td>\n",
              "      <td>156060.000000</td>\n",
              "    </tr>\n",
              "    <tr>\n",
              "      <th>mean</th>\n",
              "      <td>78030.500000</td>\n",
              "      <td>4079.732744</td>\n",
              "      <td>2.063578</td>\n",
              "    </tr>\n",
              "    <tr>\n",
              "      <th>std</th>\n",
              "      <td>45050.785842</td>\n",
              "      <td>2502.764394</td>\n",
              "      <td>0.893832</td>\n",
              "    </tr>\n",
              "    <tr>\n",
              "      <th>min</th>\n",
              "      <td>1.000000</td>\n",
              "      <td>1.000000</td>\n",
              "      <td>0.000000</td>\n",
              "    </tr>\n",
              "    <tr>\n",
              "      <th>25%</th>\n",
              "      <td>39015.750000</td>\n",
              "      <td>1861.750000</td>\n",
              "      <td>2.000000</td>\n",
              "    </tr>\n",
              "    <tr>\n",
              "      <th>50%</th>\n",
              "      <td>78030.500000</td>\n",
              "      <td>4017.000000</td>\n",
              "      <td>2.000000</td>\n",
              "    </tr>\n",
              "    <tr>\n",
              "      <th>75%</th>\n",
              "      <td>117045.250000</td>\n",
              "      <td>6244.000000</td>\n",
              "      <td>3.000000</td>\n",
              "    </tr>\n",
              "    <tr>\n",
              "      <th>max</th>\n",
              "      <td>156060.000000</td>\n",
              "      <td>8544.000000</td>\n",
              "      <td>4.000000</td>\n",
              "    </tr>\n",
              "  </tbody>\n",
              "</table>\n",
              "</div>"
            ],
            "text/plain": [
              "            PhraseId     SentenceId      Sentiment\n",
              "count  156060.000000  156060.000000  156060.000000\n",
              "mean    78030.500000    4079.732744       2.063578\n",
              "std     45050.785842    2502.764394       0.893832\n",
              "min         1.000000       1.000000       0.000000\n",
              "25%     39015.750000    1861.750000       2.000000\n",
              "50%     78030.500000    4017.000000       2.000000\n",
              "75%    117045.250000    6244.000000       3.000000\n",
              "max    156060.000000    8544.000000       4.000000"
            ]
          },
          "metadata": {},
          "execution_count": 10
        }
      ]
    },
    {
      "cell_type": "code",
      "metadata": {
        "colab": {
          "base_uri": "https://localhost:8080/",
          "height": 293
        },
        "id": "-bsRtVMSEUwW",
        "outputId": "3ded38ce-07c9-4f3a-b144-5cfaf325401d"
      },
      "source": [
        "# Show the distribution of the review document\n",
        "train1 = train[['Phrase','Sentiment']]\n",
        "train1.groupby('Sentiment').Sentiment.count().plot.bar(ylim=0)"
      ],
      "execution_count": 11,
      "outputs": [
        {
          "output_type": "execute_result",
          "data": {
            "text/plain": [
              "<matplotlib.axes._subplots.AxesSubplot at 0x7f3feb8c22d0>"
            ]
          },
          "metadata": {},
          "execution_count": 11
        },
        {
          "output_type": "display_data",
          "data": {
            "image/png": "[encoded data removed]",
            "text/plain": [
              "<Figure size 432x288 with 1 Axes>"
            ]
          },
          "metadata": {
            "needs_background": "light"
          }
        }
      ]
    },
    {
      "cell_type": "code",
      "metadata": {
        "colab": {
          "base_uri": "https://localhost:8080/"
        },
        "id": "03CnHfVnhjzP",
        "outputId": "231eafa2-d02e-4855-b8e4-41f2ad76ca16"
      },
      "source": [
        "#Generate the document term matrix by using scikitlearn’s CountVectorizer. \n",
        "from sklearn.feature_extraction.text import CountVectorizer\n",
        "vectorizer = CountVectorizer()\n",
        "train_C = vectorizer.fit_transform(train)\n",
        "vectorizer.get_feature_names_out()"
      ],
      "execution_count": 12,
      "outputs": [
        {
          "output_type": "execute_result",
          "data": {
            "text/plain": [
              "array(['phrase', 'phraseid', 'sentenceid', 'sentiment'], dtype=object)"
            ]
          },
          "metadata": {},
          "execution_count": 12
        }
      ]
    },
    {
      "cell_type": "code",
      "metadata": {
        "colab": {
          "base_uri": "https://localhost:8080/"
        },
        "id": "zCeR4SkzkbxT",
        "outputId": "6c91c264-dc45-4903-f59a-5dd32dccb01a"
      },
      "source": [
        "print(train_C.toarray())"
      ],
      "execution_count": 13,
      "outputs": [
        {
          "output_type": "stream",
          "name": "stdout",
          "text": [
            "[[0 1 0 0]\n",
            " [0 0 1 0]\n",
            " [1 0 0 0]\n",
            " [0 0 0 1]]\n"
          ]
        }
      ]
    },
    {
      "cell_type": "code",
      "metadata": {
        "id": "v2Ivc2ahGV7o"
      },
      "source": [
        "# From nltk.tokenizer import RegexpTokenizer. ‘Sentiment’ is the data. Train, test and split.\n",
        "from nltk.tokenize import RegexpTokenizer\n",
        "\n",
        "token = RegexpTokenizer(r'[a-zA-Z0-9]+')\n",
        "cv = CountVectorizer(lowercase=True, stop_words='english', ngram_range=(1,1), tokenizer=token.tokenize)\n",
        "X = cv.fit_transform(train['Phrase'])"
      ],
      "execution_count": 16,
      "outputs": []
    },
    {
      "cell_type": "code",
      "metadata": {
        "id": "yIUweE4McI5N"
      },
      "source": [
        "from sklearn.model_selection import train_test_split\n",
        "\n",
        "X_train, X_test, y_train, y_test = train_test_split(X, train['Sentiment'], test_size=0.20, random_state=42)"
      ],
      "execution_count": 17,
      "outputs": []
    },
    {
      "cell_type": "code",
      "metadata": {
        "id": "e2XgaOuazUK-",
        "colab": {
          "base_uri": "https://localhost:8080/"
        },
        "outputId": "58182d0f-7f70-4916-b52a-b9178402c358"
      },
      "source": [
        "#Import the MultinomialNB module and create a MNB classifier object using the\n",
        "#MultinomialNB() function. Import scikit.learn metrics to compute the accuracy\n",
        "#and fit the model before computing the accuracy. What is the outcome?\n",
        "from sklearn.metrics import accuracy_score\n",
        "from sklearn.naive_bayes import MultinomialNB\n",
        "\n",
        "clf = MultinomialNB().fit(X_train, y_train) \n",
        "y_pred = clf.predict(X_test)\n",
        "accuracy = accuracy_score(y_test, y_pred)\n",
        "print(\"Accuracy Score: \", accuracy)"
      ],
      "execution_count": 18,
      "outputs": [
        {
          "output_type": "stream",
          "name": "stdout",
          "text": [
            "Accuracy Score:  0.6093169293861336\n"
          ]
        }
      ]
    },
    {
      "cell_type": "code",
      "metadata": {
        "id": "bnbxFEty5m95",
        "colab": {
          "base_uri": "https://localhost:8080/"
        },
        "outputId": "a7e8c5e1-a285-4d51-9ed5-67ec1027dc76"
      },
      "source": [
        "from sklearn.metrics import classification_report\n",
        "\n",
        "print(\"Classification Report:\", classification_report(y_test, y_pred))"
      ],
      "execution_count": 19,
      "outputs": [
        {
          "output_type": "stream",
          "name": "stdout",
          "text": [
            "Classification Report:               precision    recall  f1-score   support\n",
            "\n",
            "           0       0.46      0.28      0.35      1416\n",
            "           1       0.50      0.42      0.46      5527\n",
            "           2       0.68      0.79      0.73     15639\n",
            "           3       0.52      0.50      0.51      6707\n",
            "           4       0.49      0.30      0.37      1923\n",
            "\n",
            "    accuracy                           0.61     31212\n",
            "   macro avg       0.53      0.46      0.48     31212\n",
            "weighted avg       0.59      0.61      0.60     31212\n",
            "\n"
          ]
        }
      ]
    },
    {
      "cell_type": "code",
      "metadata": {
        "id": "thck52ay53fi"
      },
      "source": [
        "# Use TfidfVectorizer-transformed data and split it into training and test datasets.\n",
        "# Build the text classification model using TF-IDF. First, import the MultinomialNB\n",
        "# module and create the MNB classifier object using the MultinomialNB function. Fit the\n",
        "# model on the training set and perform the prediction. \n",
        "\n",
        "from sklearn.feature_extraction.text import TfidfVectorizer\n",
        "tf = TfidfVectorizer()\n",
        "X = tf.fit_transform(train['Phrase'])"
      ],
      "execution_count": 20,
      "outputs": []
    },
    {
      "cell_type": "code",
      "metadata": {
        "id": "R8CcuyBl53cD"
      },
      "source": [
        "X_train, X_test, y_train, y_test = train_test_split(X, train['Sentiment'], test_size=0.20, random_state=42)"
      ],
      "execution_count": 21,
      "outputs": []
    },
    {
      "cell_type": "code",
      "metadata": {
        "id": "_qOeuNW953Ys",
        "colab": {
          "base_uri": "https://localhost:8080/"
        },
        "outputId": "6a636a5c-11f4-4a9c-d351-7905479c625a"
      },
      "source": [
        "clf = MultinomialNB().fit(X_train, y_train) \n",
        "y_pred = clf.predict(X_test)\n",
        "accuracy = accuracy_score(y_test, y_pred)\n",
        "print(\"Accuracy Score: \", accuracy)"
      ],
      "execution_count": 22,
      "outputs": [
        {
          "output_type": "stream",
          "name": "stdout",
          "text": [
            "Accuracy Score:  0.5843265410739459\n"
          ]
        }
      ]
    },
    {
      "cell_type": "code",
      "metadata": {
        "id": "o4iJOg3E53VW",
        "colab": {
          "base_uri": "https://localhost:8080/"
        },
        "outputId": "927e9138-d968-4ccb-d354-3ea891e5b4e9"
      },
      "source": [
        "print(\"Classification Report:\", classification_report(y_test, y_pred))"
      ],
      "execution_count": 23,
      "outputs": [
        {
          "output_type": "stream",
          "name": "stdout",
          "text": [
            "Classification Report:               precision    recall  f1-score   support\n",
            "\n",
            "           0       0.66      0.04      0.07      1416\n",
            "           1       0.52      0.25      0.34      5527\n",
            "           2       0.60      0.90      0.72     15639\n",
            "           3       0.54      0.39      0.45      6707\n",
            "           4       0.66      0.06      0.11      1923\n",
            "\n",
            "    accuracy                           0.58     31212\n",
            "   macro avg       0.60      0.33      0.34     31212\n",
            "weighted avg       0.58      0.58      0.53     31212\n",
            "\n"
          ]
        }
      ]
    },
    {
      "cell_type": "markdown",
      "metadata": {
        "id": "Jqg2Zb1eLq8m"
      },
      "source": [
        "The accuracy score for the count vectorizer is better than the Tid Vectorizer. The accuracy for Count Vectorizer is 0.6093169293861336 while Tfid Vectorizer is  0.5843265410739459\n"
      ]
    }
  ]
}
