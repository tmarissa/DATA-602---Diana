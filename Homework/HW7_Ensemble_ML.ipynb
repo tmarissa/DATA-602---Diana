{
  "nbformat": 4,
  "nbformat_minor": 0,
  "metadata": {
    "colab": {
      "name": "602 Marissa HW7 Ensemble ML.ipynb",
      "provenance": [],
      "collapsed_sections": []
    },
    "kernelspec": {
      "name": "python3",
      "display_name": "Python 3"
    },
    "language_info": {
      "name": "python"
    }
  },
  "cells": [
    {
      "cell_type": "markdown",
      "metadata": {
        "id": "ea5-q3dT-zPo"
      },
      "source": [
        "HW7\n",
        "Use the iris data set from sklearn. \n",
        "- Load the iris dataset. What are the features?\n",
        "- Create a DataFrame of given iris dataset.\n",
        "- Split the dataset into training and test sets (30%).\n",
        "- Create a Gaussian RandomForestClassifier as clf (2,000 estimators and a depth of 2). \n",
        "- Determine the feature importance. Which one is the most important?\n",
        "- Use scikitlearn to determine the accuracy level. What is your assessment?\n",
        "- Use the Gradient Boosting algorithm to fit the model and predict test data.\n",
        "- Compute the accuracy.\n",
        "- Provide the feature importance.\n",
        "- Did the Gradient Boosting model perform better? Are there any reservations about GB and why?\n",
        "\n"
      ]
    },
    {
      "cell_type": "code",
      "metadata": {
        "colab": {
          "base_uri": "https://localhost:8080/"
        },
        "id": "pX0s_uLW-yNt",
        "outputId": "32af758f-cc05-48c2-f56f-6b48accd1941"
      },
      "source": [
        "# Use the iris data set from sklearn. \n",
        "# - Load the iris dataset. What are the features?\n",
        "from sklearn.datasets import load_iris\n",
        "iris = load_iris()\n",
        "iris.feature_names"
      ],
      "execution_count": 1,
      "outputs": [
        {
          "output_type": "execute_result",
          "data": {
            "text/plain": [
              "['sepal length (cm)',\n",
              " 'sepal width (cm)',\n",
              " 'petal length (cm)',\n",
              " 'petal width (cm)']"
            ]
          },
          "metadata": {},
          "execution_count": 1
        }
      ]
    },
    {
      "cell_type": "code",
      "metadata": {
        "colab": {
          "base_uri": "https://localhost:8080/"
        },
        "id": "wTP85wJT_6yS",
        "outputId": "c15ba001-1caf-4b0d-d81c-a6bbd7911f0f"
      },
      "source": [
        "iris.target_names"
      ],
      "execution_count": 2,
      "outputs": [
        {
          "output_type": "execute_result",
          "data": {
            "text/plain": [
              "array(['setosa', 'versicolor', 'virginica'], dtype='<U10')"
            ]
          },
          "metadata": {},
          "execution_count": 2
        }
      ]
    },
    {
      "cell_type": "code",
      "metadata": {
        "colab": {
          "base_uri": "https://localhost:8080/"
        },
        "id": "I2uBUalQBxyQ",
        "outputId": "a718b5c9-7337-4e9a-db2e-8a939365a9d1"
      },
      "source": [
        "iris.target"
      ],
      "execution_count": 3,
      "outputs": [
        {
          "output_type": "execute_result",
          "data": {
            "text/plain": [
              "array([0, 0, 0, 0, 0, 0, 0, 0, 0, 0, 0, 0, 0, 0, 0, 0, 0, 0, 0, 0, 0, 0,\n",
              "       0, 0, 0, 0, 0, 0, 0, 0, 0, 0, 0, 0, 0, 0, 0, 0, 0, 0, 0, 0, 0, 0,\n",
              "       0, 0, 0, 0, 0, 0, 1, 1, 1, 1, 1, 1, 1, 1, 1, 1, 1, 1, 1, 1, 1, 1,\n",
              "       1, 1, 1, 1, 1, 1, 1, 1, 1, 1, 1, 1, 1, 1, 1, 1, 1, 1, 1, 1, 1, 1,\n",
              "       1, 1, 1, 1, 1, 1, 1, 1, 1, 1, 1, 1, 2, 2, 2, 2, 2, 2, 2, 2, 2, 2,\n",
              "       2, 2, 2, 2, 2, 2, 2, 2, 2, 2, 2, 2, 2, 2, 2, 2, 2, 2, 2, 2, 2, 2,\n",
              "       2, 2, 2, 2, 2, 2, 2, 2, 2, 2, 2, 2, 2, 2, 2, 2, 2, 2])"
            ]
          },
          "metadata": {},
          "execution_count": 3
        }
      ]
    },
    {
      "cell_type": "code",
      "metadata": {
        "colab": {
          "base_uri": "https://localhost:8080/"
        },
        "id": "8wMFt7YBBxvP",
        "outputId": "a8ddf25d-a759-4c28-af64-8305cdcd0e5f"
      },
      "source": [
        "print(iris.data[:5])"
      ],
      "execution_count": 4,
      "outputs": [
        {
          "output_type": "stream",
          "name": "stdout",
          "text": [
            "[[5.1 3.5 1.4 0.2]\n",
            " [4.9 3.  1.4 0.2]\n",
            " [4.7 3.2 1.3 0.2]\n",
            " [4.6 3.1 1.5 0.2]\n",
            " [5.  3.6 1.4 0.2]]\n"
          ]
        }
      ]
    },
    {
      "cell_type": "code",
      "metadata": {
        "id": "RmNhm1pCBxsN",
        "colab": {
          "base_uri": "https://localhost:8080/",
          "height": 206
        },
        "outputId": "aa3dae09-16af-465c-a822-6a13c3d35632"
      },
      "source": [
        "# Create a DataFrame of given iris dataset.\n",
        "import pandas as pd\n",
        "data = pd.DataFrame({\n",
        "  'sepal length' : iris.data[:,0],\n",
        " 'sepal width' : iris.data[:,1],\n",
        " 'petal length' : iris.data[:,2],\n",
        " 'petal width' : iris.data[:,3],\n",
        " 'species': iris.target    \n",
        "})\n",
        "data.head()"
      ],
      "execution_count": 5,
      "outputs": [
        {
          "output_type": "execute_result",
          "data": {
            "text/html": [
              "<div>\n",
              "<style scoped>\n",
              "    .dataframe tbody tr th:only-of-type {\n",
              "        vertical-align: middle;\n",
              "    }\n",
              "\n",
              "    .dataframe tbody tr th {\n",
              "        vertical-align: top;\n",
              "    }\n",
              "\n",
              "    .dataframe thead th {\n",
              "        text-align: right;\n",
              "    }\n",
              "</style>\n",
              "<table border=\"1\" class=\"dataframe\">\n",
              "  <thead>\n",
              "    <tr style=\"text-align: right;\">\n",
              "      <th></th>\n",
              "      <th>sepal length</th>\n",
              "      <th>sepal width</th>\n",
              "      <th>petal length</th>\n",
              "      <th>petal width</th>\n",
              "      <th>species</th>\n",
              "    </tr>\n",
              "  </thead>\n",
              "  <tbody>\n",
              "    <tr>\n",
              "      <th>0</th>\n",
              "      <td>5.1</td>\n",
              "      <td>3.5</td>\n",
              "      <td>1.4</td>\n",
              "      <td>0.2</td>\n",
              "      <td>0</td>\n",
              "    </tr>\n",
              "    <tr>\n",
              "      <th>1</th>\n",
              "      <td>4.9</td>\n",
              "      <td>3.0</td>\n",
              "      <td>1.4</td>\n",
              "      <td>0.2</td>\n",
              "      <td>0</td>\n",
              "    </tr>\n",
              "    <tr>\n",
              "      <th>2</th>\n",
              "      <td>4.7</td>\n",
              "      <td>3.2</td>\n",
              "      <td>1.3</td>\n",
              "      <td>0.2</td>\n",
              "      <td>0</td>\n",
              "    </tr>\n",
              "    <tr>\n",
              "      <th>3</th>\n",
              "      <td>4.6</td>\n",
              "      <td>3.1</td>\n",
              "      <td>1.5</td>\n",
              "      <td>0.2</td>\n",
              "      <td>0</td>\n",
              "    </tr>\n",
              "    <tr>\n",
              "      <th>4</th>\n",
              "      <td>5.0</td>\n",
              "      <td>3.6</td>\n",
              "      <td>1.4</td>\n",
              "      <td>0.2</td>\n",
              "      <td>0</td>\n",
              "    </tr>\n",
              "  </tbody>\n",
              "</table>\n",
              "</div>"
            ],
            "text/plain": [
              "   sepal length  sepal width  petal length  petal width  species\n",
              "0           5.1          3.5           1.4          0.2        0\n",
              "1           4.9          3.0           1.4          0.2        0\n",
              "2           4.7          3.2           1.3          0.2        0\n",
              "3           4.6          3.1           1.5          0.2        0\n",
              "4           5.0          3.6           1.4          0.2        0"
            ]
          },
          "metadata": {},
          "execution_count": 5
        }
      ]
    },
    {
      "cell_type": "code",
      "metadata": {
        "id": "39e1-AJ9D7tF"
      },
      "source": [
        "# Split the dataset into training and test sets (30%).\n",
        "from sklearn.model_selection import train_test_split\n",
        "X = data[['sepal length', 'sepal width', 'petal length', 'petal width']]\n",
        "y = data['species']\n",
        "X_train, X_test, y_train, y_test = train_test_split(X, y, test_size=0.3)"
      ],
      "execution_count": 6,
      "outputs": []
    },
    {
      "cell_type": "code",
      "metadata": {
        "id": "sfyW4o1FD7rR"
      },
      "source": [
        "# Create a Gaussian RandomForestClassifier as clf (2,000 estimators and a depth of 2). \n",
        "from sklearn.ensemble import RandomForestClassifier\n",
        "clf=RandomForestClassifier(n_estimators= 2000, max_depth=2)\n",
        "clf.fit(X_train, y_train)\n",
        "y_pred = clf.predict(X_test)\n"
      ],
      "execution_count": 7,
      "outputs": []
    },
    {
      "cell_type": "code",
      "metadata": {
        "colab": {
          "base_uri": "https://localhost:8080/"
        },
        "id": "hYL1BqktIW79",
        "outputId": "bba9e291-75b9-4ca8-f0f7-339af9e084db"
      },
      "source": [
        "# Determine the feature importance. Which one is the most important?\n",
        "import pandas as pd\n",
        "impt_feature = pd.Series(clf.feature_importances_, index=iris.feature_names).sort_values(ascending=False)\n",
        "impt_feature"
      ],
      "execution_count": 8,
      "outputs": [
        {
          "output_type": "execute_result",
          "data": {
            "text/plain": [
              "petal length (cm)    0.436027\n",
              "petal width (cm)     0.431685\n",
              "sepal length (cm)    0.125556\n",
              "sepal width (cm)     0.006732\n",
              "dtype: float64"
            ]
          },
          "metadata": {},
          "execution_count": 8
        }
      ]
    },
    {
      "cell_type": "code",
      "metadata": {
        "colab": {
          "base_uri": "https://localhost:8080/"
        },
        "id": "iFCSN6IMIWsH",
        "outputId": "18212895-9a38-4d20-f8ae-86cf03c6970c"
      },
      "source": [
        "# Use scikitlearn to determine the accuracy level. What is your assessment?\n",
        "from sklearn import metrics\n",
        "print(\"Accuracy: \", metrics.accuracy_score(y_test, y_pred))\n"
      ],
      "execution_count": 9,
      "outputs": [
        {
          "output_type": "stream",
          "name": "stdout",
          "text": [
            "Accuracy:  1.0\n"
          ]
        }
      ]
    },
    {
      "cell_type": "code",
      "metadata": {
        "id": "AsHBt4hWIWou"
      },
      "source": [
        "# Use the Gradient Boosting algorithm to fit the model and predict test data.\n",
        "from sklearn.ensemble import GradientBoostingClassifier\n",
        "clf1 = GradientBoostingClassifier(n_estimators=2000, max_depth = 2)\n",
        "clf1.fit(X_train, y_train)\n",
        "y_pred1 = clf1.predict(X_test)\n"
      ],
      "execution_count": 10,
      "outputs": []
    },
    {
      "cell_type": "code",
      "metadata": {
        "colab": {
          "base_uri": "https://localhost:8080/"
        },
        "id": "Tfd-EUnkK5Tm",
        "outputId": "f05da82e-0e84-44e4-9d7d-41508e7a463f"
      },
      "source": [
        "# Compute the feature importances\n",
        "impt_feature1 = pd.Series(clf1.feature_importances_, index=iris.feature_names).sort_values(ascending=False)\n",
        "impt_feature1"
      ],
      "execution_count": 11,
      "outputs": [
        {
          "output_type": "execute_result",
          "data": {
            "text/plain": [
              "petal length (cm)    0.562728\n",
              "petal width (cm)     0.402116\n",
              "sepal width (cm)     0.022022\n",
              "sepal length (cm)    0.013134\n",
              "dtype: float64"
            ]
          },
          "metadata": {},
          "execution_count": 11
        }
      ]
    },
    {
      "cell_type": "code",
      "metadata": {
        "colab": {
          "base_uri": "https://localhost:8080/"
        },
        "id": "CW-GtWgBK5QD",
        "outputId": "efe61908-7020-4b3a-83ae-cd10576e3584"
      },
      "source": [
        "# Provide the accuracy\n",
        "print(\"Accuracy: \", metrics.accuracy_score(y_test, y_pred1))"
      ],
      "execution_count": 12,
      "outputs": [
        {
          "output_type": "stream",
          "name": "stdout",
          "text": [
            "Accuracy:  1.0\n"
          ]
        }
      ]
    },
    {
      "cell_type": "markdown",
      "metadata": {
        "id": "xl9ndmzeVxNd"
      },
      "source": [
        "Did the Gradient Boosting model perform better? Are there any reservations about the GB and why?<br>\n",
        "In this exercise, the Random Forest performs better than GB or equal. However, when there is no depth, GB performs better than Random Forest. Because GB are more sensitive to overfitting and is harder to tune because there are 3 parameters, no. of trees, depth and learning rate. Each tree is generally built shallow. In this case, there are more trees and has a depth which makes it more difficult for GBM"
      ]
    }
  ]
}
